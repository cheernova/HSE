{
  "cells": [
    {
      "cell_type": "markdown",
      "id": "234e266b-01df-4e70-9732-12652844b111",
      "metadata": {
        "id": "234e266b-01df-4e70-9732-12652844b111"
      },
      "source": [
        "# **Introduction to Machine Learning in Python**"
      ]
    },
    {
      "cell_type": "code",
      "execution_count": null,
      "id": "ae400561-5728-4ec1-bc30-cd3d710b05d9",
      "metadata": {
        "id": "ae400561-5728-4ec1-bc30-cd3d710b05d9"
      },
      "outputs": [],
      "source": [
        "# import packages\n",
        "import pandas as pd\n",
        "import numpy as np\n",
        "import seaborn as sns\n",
        "import matplotlib.pyplot as plt"
      ]
    },
    {
      "cell_type": "markdown",
      "id": "0cd83a69-94b2-4c2d-bf97-13ca5687845d",
      "metadata": {
        "id": "0cd83a69-94b2-4c2d-bf97-13ca5687845d"
      },
      "source": [
        "## **Part 0. Supervised Machine Learning — An Overview**"
      ]
    },
    {
      "cell_type": "markdown",
      "id": "2712f452-cc4f-4bf3-8dda-9d542cb3f513",
      "metadata": {
        "id": "2712f452-cc4f-4bf3-8dda-9d542cb3f513"
      },
      "source": [
        "*Please note that all tasks in Part 0 are designed to familiarize you with the basic structure of machine learning workflow in Python and will not be counted toward your final grade for the homework.*"
      ]
    },
    {
      "cell_type": "code",
      "execution_count": null,
      "id": "62eeb02e-9cce-40c2-b38d-eb52bd705cba",
      "metadata": {
        "id": "62eeb02e-9cce-40c2-b38d-eb52bd705cba"
      },
      "outputs": [],
      "source": [
        "# import packages\n",
        "from scipy.stats import norm\n",
        "from sklearn.model_selection import train_test_split\n",
        "from sklearn.linear_model import LinearRegression\n",
        "from sklearn.linear_model import Ridge\n",
        "from sklearn.metrics import mean_squared_error, mean_absolute_error, mean_absolute_percentage_error"
      ]
    },
    {
      "cell_type": "markdown",
      "id": "ffb9ff1a-4d54-4b1e-9372-90f0f6f96fd9",
      "metadata": {
        "id": "ffb9ff1a-4d54-4b1e-9372-90f0f6f96fd9"
      },
      "source": [
        "#### Machine Learning Model\n",
        "\n",
        "Machine learning models are algorithms that can identify patterns or make predictions on unseen datasets."
      ]
    },
    {
      "cell_type": "markdown",
      "id": "e0494b17-7896-456b-8f7d-4cdedea14854",
      "metadata": {
        "id": "e0494b17-7896-456b-8f7d-4cdedea14854"
      },
      "source": [
        "#### Loss Function\n",
        "\n",
        "The loss function, also referred to as the error function, quantifies the difference between the predicted outputs of a machine learning algorithm and the actual target values. The resulting value, the loss, reflects the accuracy of the model's predictions."
      ]
    },
    {
      "cell_type": "markdown",
      "id": "812282a2-719b-4248-b516-5bbb1f90891d",
      "metadata": {
        "id": "812282a2-719b-4248-b516-5bbb1f90891d"
      },
      "source": [
        "#### Supervised Learning\n",
        "The majority of practical machine learning uses supervised learning. In supervised learning, you have input variables (X) and an output variable (Y) and you use an algorithm to learn the mapping function from the input to the output.\n",
        "\n",
        "${Y} = {f(X)}$\n",
        "\n",
        "The goal is to approximate the mapping function so well that when you have new input data (X) that you can predict the output variables (Y) for that data. It is called supervised learning because the process of an algorithm learning from the training dataset can be thought of as a teacher supervising the learning process. We know the correct answers, the algorithm iteratively makes predictions on the training data and is corrected by the teacher.\n",
        "\n",
        "Supervised learning problems can be  grouped into regression and classification problems:\n",
        "- ***Classification:*** A classification problem is when the output variable is a category (e.g., red or blue or disease and no disease)\n",
        "- ***Regression:*** A regression problem is when the output variable is a continuous value (e.g., dollars or weight)"
      ]
    },
    {
      "cell_type": "markdown",
      "id": "30ec2a81-8ec5-4944-8a33-d92b65724654",
      "metadata": {
        "id": "30ec2a81-8ec5-4944-8a33-d92b65724654"
      },
      "source": [
        "![machine learning.png](attachment:0c9effc2-f733-4e06-9b51-3c54d0fbea2d.png)"
      ]
    },
    {
      "cell_type": "markdown",
      "id": "36088d92-9b58-42ec-93ec-efddfd1d4eb8",
      "metadata": {
        "tags": [],
        "id": "36088d92-9b58-42ec-93ec-efddfd1d4eb8"
      },
      "source": [
        "### Task 1. Loading and Analyzing Data"
      ]
    },
    {
      "cell_type": "markdown",
      "id": "6775f0cb-494d-4674-8e82-21a1873d247d",
      "metadata": {
        "id": "6775f0cb-494d-4674-8e82-21a1873d247d"
      },
      "source": [
        "Fill in the blanks in the code to load and analyze the data."
      ]
    },
    {
      "cell_type": "code",
      "execution_count": null,
      "id": "5397a736-4f06-498c-b738-2b39a5c32a55",
      "metadata": {
        "id": "5397a736-4f06-498c-b738-2b39a5c32a55"
      },
      "outputs": [],
      "source": [
        "# load the dataset\n",
        "df = pd.read_csv('office.csv')"
      ]
    },
    {
      "cell_type": "code",
      "execution_count": null,
      "id": "cb56455e-34db-4483-8420-a94160ca4702",
      "metadata": {
        "id": "cb56455e-34db-4483-8420-a94160ca4702",
        "outputId": "b6ca15ee-5a3c-46c5-e67d-0c0fb70395da",
        "colab": {
          "base_uri": "https://localhost:8080/",
          "height": 226
        }
      },
      "outputs": [
        {
          "output_type": "execute_result",
          "data": {
            "text/plain": [
              "   address_AO  address_district  general_info_Class  building_type  layout  \\\n",
              "0        12.0             124.0                 6.0            5.0     4.0   \n",
              "1         6.0              74.0                 6.0            5.0     4.0   \n",
              "2         6.0              74.0                 6.0            5.0     4.0   \n",
              "3         7.0              79.0                 6.0            5.0     4.0   \n",
              "4         7.0              79.0                 6.0            5.0     4.0   \n",
              "\n",
              "   building_state  closest_metro  area  dist_to_closest_metro  dist_to_center  \\\n",
              "0             3.0          248.0  68.5             168.115135     5093.360171   \n",
              "1             5.0          175.0  19.1            1371.220394     6755.118509   \n",
              "2             5.0          175.0  19.1            1371.220394     6755.118509   \n",
              "3             3.0          115.0  24.6             962.157414    12119.624846   \n",
              "4             3.0          115.0  24.6             962.157414    12119.624846   \n",
              "\n",
              "   ceiling_height  parking_free  parking_nonfree  parking_covered  \\\n",
              "0             3.0             0                0                0   \n",
              "1             4.0             0                0                1   \n",
              "2             4.0             0                0                1   \n",
              "3             3.7             0                0                0   \n",
              "4             3.7             0                0                0   \n",
              "\n",
              "   floor_count  floor_cur  building_year  price_per_meter_cleared  \n",
              "0         97.0        5.0         2017.0                 479300.0  \n",
              "1         18.0        9.0         2021.0                 225000.0  \n",
              "2         18.0        9.0         2021.0                 225000.0  \n",
              "3         10.0       10.0         2009.0                 150000.0  \n",
              "4         10.0       10.0         2009.0                 150000.0  "
            ],
            "text/html": [
              "\n",
              "  <div id=\"df-88a0b59f-64bc-4428-8188-f4917afb9be9\" class=\"colab-df-container\">\n",
              "    <div>\n",
              "<style scoped>\n",
              "    .dataframe tbody tr th:only-of-type {\n",
              "        vertical-align: middle;\n",
              "    }\n",
              "\n",
              "    .dataframe tbody tr th {\n",
              "        vertical-align: top;\n",
              "    }\n",
              "\n",
              "    .dataframe thead th {\n",
              "        text-align: right;\n",
              "    }\n",
              "</style>\n",
              "<table border=\"1\" class=\"dataframe\">\n",
              "  <thead>\n",
              "    <tr style=\"text-align: right;\">\n",
              "      <th></th>\n",
              "      <th>address_AO</th>\n",
              "      <th>address_district</th>\n",
              "      <th>general_info_Class</th>\n",
              "      <th>building_type</th>\n",
              "      <th>layout</th>\n",
              "      <th>building_state</th>\n",
              "      <th>closest_metro</th>\n",
              "      <th>area</th>\n",
              "      <th>dist_to_closest_metro</th>\n",
              "      <th>dist_to_center</th>\n",
              "      <th>ceiling_height</th>\n",
              "      <th>parking_free</th>\n",
              "      <th>parking_nonfree</th>\n",
              "      <th>parking_covered</th>\n",
              "      <th>floor_count</th>\n",
              "      <th>floor_cur</th>\n",
              "      <th>building_year</th>\n",
              "      <th>price_per_meter_cleared</th>\n",
              "    </tr>\n",
              "  </thead>\n",
              "  <tbody>\n",
              "    <tr>\n",
              "      <th>0</th>\n",
              "      <td>12.0</td>\n",
              "      <td>124.0</td>\n",
              "      <td>6.0</td>\n",
              "      <td>5.0</td>\n",
              "      <td>4.0</td>\n",
              "      <td>3.0</td>\n",
              "      <td>248.0</td>\n",
              "      <td>68.5</td>\n",
              "      <td>168.115135</td>\n",
              "      <td>5093.360171</td>\n",
              "      <td>3.0</td>\n",
              "      <td>0</td>\n",
              "      <td>0</td>\n",
              "      <td>0</td>\n",
              "      <td>97.0</td>\n",
              "      <td>5.0</td>\n",
              "      <td>2017.0</td>\n",
              "      <td>479300.0</td>\n",
              "    </tr>\n",
              "    <tr>\n",
              "      <th>1</th>\n",
              "      <td>6.0</td>\n",
              "      <td>74.0</td>\n",
              "      <td>6.0</td>\n",
              "      <td>5.0</td>\n",
              "      <td>4.0</td>\n",
              "      <td>5.0</td>\n",
              "      <td>175.0</td>\n",
              "      <td>19.1</td>\n",
              "      <td>1371.220394</td>\n",
              "      <td>6755.118509</td>\n",
              "      <td>4.0</td>\n",
              "      <td>0</td>\n",
              "      <td>0</td>\n",
              "      <td>1</td>\n",
              "      <td>18.0</td>\n",
              "      <td>9.0</td>\n",
              "      <td>2021.0</td>\n",
              "      <td>225000.0</td>\n",
              "    </tr>\n",
              "    <tr>\n",
              "      <th>2</th>\n",
              "      <td>6.0</td>\n",
              "      <td>74.0</td>\n",
              "      <td>6.0</td>\n",
              "      <td>5.0</td>\n",
              "      <td>4.0</td>\n",
              "      <td>5.0</td>\n",
              "      <td>175.0</td>\n",
              "      <td>19.1</td>\n",
              "      <td>1371.220394</td>\n",
              "      <td>6755.118509</td>\n",
              "      <td>4.0</td>\n",
              "      <td>0</td>\n",
              "      <td>0</td>\n",
              "      <td>1</td>\n",
              "      <td>18.0</td>\n",
              "      <td>9.0</td>\n",
              "      <td>2021.0</td>\n",
              "      <td>225000.0</td>\n",
              "    </tr>\n",
              "    <tr>\n",
              "      <th>3</th>\n",
              "      <td>7.0</td>\n",
              "      <td>79.0</td>\n",
              "      <td>6.0</td>\n",
              "      <td>5.0</td>\n",
              "      <td>4.0</td>\n",
              "      <td>3.0</td>\n",
              "      <td>115.0</td>\n",
              "      <td>24.6</td>\n",
              "      <td>962.157414</td>\n",
              "      <td>12119.624846</td>\n",
              "      <td>3.7</td>\n",
              "      <td>0</td>\n",
              "      <td>0</td>\n",
              "      <td>0</td>\n",
              "      <td>10.0</td>\n",
              "      <td>10.0</td>\n",
              "      <td>2009.0</td>\n",
              "      <td>150000.0</td>\n",
              "    </tr>\n",
              "    <tr>\n",
              "      <th>4</th>\n",
              "      <td>7.0</td>\n",
              "      <td>79.0</td>\n",
              "      <td>6.0</td>\n",
              "      <td>5.0</td>\n",
              "      <td>4.0</td>\n",
              "      <td>3.0</td>\n",
              "      <td>115.0</td>\n",
              "      <td>24.6</td>\n",
              "      <td>962.157414</td>\n",
              "      <td>12119.624846</td>\n",
              "      <td>3.7</td>\n",
              "      <td>0</td>\n",
              "      <td>0</td>\n",
              "      <td>0</td>\n",
              "      <td>10.0</td>\n",
              "      <td>10.0</td>\n",
              "      <td>2009.0</td>\n",
              "      <td>150000.0</td>\n",
              "    </tr>\n",
              "  </tbody>\n",
              "</table>\n",
              "</div>\n",
              "    <div class=\"colab-df-buttons\">\n",
              "\n",
              "  <div class=\"colab-df-container\">\n",
              "    <button class=\"colab-df-convert\" onclick=\"convertToInteractive('df-88a0b59f-64bc-4428-8188-f4917afb9be9')\"\n",
              "            title=\"Convert this dataframe to an interactive table.\"\n",
              "            style=\"display:none;\">\n",
              "\n",
              "  <svg xmlns=\"http://www.w3.org/2000/svg\" height=\"24px\" viewBox=\"0 -960 960 960\">\n",
              "    <path d=\"M120-120v-720h720v720H120Zm60-500h600v-160H180v160Zm220 220h160v-160H400v160Zm0 220h160v-160H400v160ZM180-400h160v-160H180v160Zm440 0h160v-160H620v160ZM180-180h160v-160H180v160Zm440 0h160v-160H620v160Z\"/>\n",
              "  </svg>\n",
              "    </button>\n",
              "\n",
              "  <style>\n",
              "    .colab-df-container {\n",
              "      display:flex;\n",
              "      gap: 12px;\n",
              "    }\n",
              "\n",
              "    .colab-df-convert {\n",
              "      background-color: #E8F0FE;\n",
              "      border: none;\n",
              "      border-radius: 50%;\n",
              "      cursor: pointer;\n",
              "      display: none;\n",
              "      fill: #1967D2;\n",
              "      height: 32px;\n",
              "      padding: 0 0 0 0;\n",
              "      width: 32px;\n",
              "    }\n",
              "\n",
              "    .colab-df-convert:hover {\n",
              "      background-color: #E2EBFA;\n",
              "      box-shadow: 0px 1px 2px rgba(60, 64, 67, 0.3), 0px 1px 3px 1px rgba(60, 64, 67, 0.15);\n",
              "      fill: #174EA6;\n",
              "    }\n",
              "\n",
              "    .colab-df-buttons div {\n",
              "      margin-bottom: 4px;\n",
              "    }\n",
              "\n",
              "    [theme=dark] .colab-df-convert {\n",
              "      background-color: #3B4455;\n",
              "      fill: #D2E3FC;\n",
              "    }\n",
              "\n",
              "    [theme=dark] .colab-df-convert:hover {\n",
              "      background-color: #434B5C;\n",
              "      box-shadow: 0px 1px 3px 1px rgba(0, 0, 0, 0.15);\n",
              "      filter: drop-shadow(0px 1px 2px rgba(0, 0, 0, 0.3));\n",
              "      fill: #FFFFFF;\n",
              "    }\n",
              "  </style>\n",
              "\n",
              "    <script>\n",
              "      const buttonEl =\n",
              "        document.querySelector('#df-88a0b59f-64bc-4428-8188-f4917afb9be9 button.colab-df-convert');\n",
              "      buttonEl.style.display =\n",
              "        google.colab.kernel.accessAllowed ? 'block' : 'none';\n",
              "\n",
              "      async function convertToInteractive(key) {\n",
              "        const element = document.querySelector('#df-88a0b59f-64bc-4428-8188-f4917afb9be9');\n",
              "        const dataTable =\n",
              "          await google.colab.kernel.invokeFunction('convertToInteractive',\n",
              "                                                    [key], {});\n",
              "        if (!dataTable) return;\n",
              "\n",
              "        const docLinkHtml = 'Like what you see? Visit the ' +\n",
              "          '<a target=\"_blank\" href=https://colab.research.google.com/notebooks/data_table.ipynb>data table notebook</a>'\n",
              "          + ' to learn more about interactive tables.';\n",
              "        element.innerHTML = '';\n",
              "        dataTable['output_type'] = 'display_data';\n",
              "        await google.colab.output.renderOutput(dataTable, element);\n",
              "        const docLink = document.createElement('div');\n",
              "        docLink.innerHTML = docLinkHtml;\n",
              "        element.appendChild(docLink);\n",
              "      }\n",
              "    </script>\n",
              "  </div>\n",
              "\n",
              "\n",
              "<div id=\"df-b30ddaac-6e35-4344-86db-b9acbd3de89e\">\n",
              "  <button class=\"colab-df-quickchart\" onclick=\"quickchart('df-b30ddaac-6e35-4344-86db-b9acbd3de89e')\"\n",
              "            title=\"Suggest charts\"\n",
              "            style=\"display:none;\">\n",
              "\n",
              "<svg xmlns=\"http://www.w3.org/2000/svg\" height=\"24px\"viewBox=\"0 0 24 24\"\n",
              "     width=\"24px\">\n",
              "    <g>\n",
              "        <path d=\"M19 3H5c-1.1 0-2 .9-2 2v14c0 1.1.9 2 2 2h14c1.1 0 2-.9 2-2V5c0-1.1-.9-2-2-2zM9 17H7v-7h2v7zm4 0h-2V7h2v10zm4 0h-2v-4h2v4z\"/>\n",
              "    </g>\n",
              "</svg>\n",
              "  </button>\n",
              "\n",
              "<style>\n",
              "  .colab-df-quickchart {\n",
              "      --bg-color: #E8F0FE;\n",
              "      --fill-color: #1967D2;\n",
              "      --hover-bg-color: #E2EBFA;\n",
              "      --hover-fill-color: #174EA6;\n",
              "      --disabled-fill-color: #AAA;\n",
              "      --disabled-bg-color: #DDD;\n",
              "  }\n",
              "\n",
              "  [theme=dark] .colab-df-quickchart {\n",
              "      --bg-color: #3B4455;\n",
              "      --fill-color: #D2E3FC;\n",
              "      --hover-bg-color: #434B5C;\n",
              "      --hover-fill-color: #FFFFFF;\n",
              "      --disabled-bg-color: #3B4455;\n",
              "      --disabled-fill-color: #666;\n",
              "  }\n",
              "\n",
              "  .colab-df-quickchart {\n",
              "    background-color: var(--bg-color);\n",
              "    border: none;\n",
              "    border-radius: 50%;\n",
              "    cursor: pointer;\n",
              "    display: none;\n",
              "    fill: var(--fill-color);\n",
              "    height: 32px;\n",
              "    padding: 0;\n",
              "    width: 32px;\n",
              "  }\n",
              "\n",
              "  .colab-df-quickchart:hover {\n",
              "    background-color: var(--hover-bg-color);\n",
              "    box-shadow: 0 1px 2px rgba(60, 64, 67, 0.3), 0 1px 3px 1px rgba(60, 64, 67, 0.15);\n",
              "    fill: var(--button-hover-fill-color);\n",
              "  }\n",
              "\n",
              "  .colab-df-quickchart-complete:disabled,\n",
              "  .colab-df-quickchart-complete:disabled:hover {\n",
              "    background-color: var(--disabled-bg-color);\n",
              "    fill: var(--disabled-fill-color);\n",
              "    box-shadow: none;\n",
              "  }\n",
              "\n",
              "  .colab-df-spinner {\n",
              "    border: 2px solid var(--fill-color);\n",
              "    border-color: transparent;\n",
              "    border-bottom-color: var(--fill-color);\n",
              "    animation:\n",
              "      spin 1s steps(1) infinite;\n",
              "  }\n",
              "\n",
              "  @keyframes spin {\n",
              "    0% {\n",
              "      border-color: transparent;\n",
              "      border-bottom-color: var(--fill-color);\n",
              "      border-left-color: var(--fill-color);\n",
              "    }\n",
              "    20% {\n",
              "      border-color: transparent;\n",
              "      border-left-color: var(--fill-color);\n",
              "      border-top-color: var(--fill-color);\n",
              "    }\n",
              "    30% {\n",
              "      border-color: transparent;\n",
              "      border-left-color: var(--fill-color);\n",
              "      border-top-color: var(--fill-color);\n",
              "      border-right-color: var(--fill-color);\n",
              "    }\n",
              "    40% {\n",
              "      border-color: transparent;\n",
              "      border-right-color: var(--fill-color);\n",
              "      border-top-color: var(--fill-color);\n",
              "    }\n",
              "    60% {\n",
              "      border-color: transparent;\n",
              "      border-right-color: var(--fill-color);\n",
              "    }\n",
              "    80% {\n",
              "      border-color: transparent;\n",
              "      border-right-color: var(--fill-color);\n",
              "      border-bottom-color: var(--fill-color);\n",
              "    }\n",
              "    90% {\n",
              "      border-color: transparent;\n",
              "      border-bottom-color: var(--fill-color);\n",
              "    }\n",
              "  }\n",
              "</style>\n",
              "\n",
              "  <script>\n",
              "    async function quickchart(key) {\n",
              "      const quickchartButtonEl =\n",
              "        document.querySelector('#' + key + ' button');\n",
              "      quickchartButtonEl.disabled = true;  // To prevent multiple clicks.\n",
              "      quickchartButtonEl.classList.add('colab-df-spinner');\n",
              "      try {\n",
              "        const charts = await google.colab.kernel.invokeFunction(\n",
              "            'suggestCharts', [key], {});\n",
              "      } catch (error) {\n",
              "        console.error('Error during call to suggestCharts:', error);\n",
              "      }\n",
              "      quickchartButtonEl.classList.remove('colab-df-spinner');\n",
              "      quickchartButtonEl.classList.add('colab-df-quickchart-complete');\n",
              "    }\n",
              "    (() => {\n",
              "      let quickchartButtonEl =\n",
              "        document.querySelector('#df-b30ddaac-6e35-4344-86db-b9acbd3de89e button');\n",
              "      quickchartButtonEl.style.display =\n",
              "        google.colab.kernel.accessAllowed ? 'block' : 'none';\n",
              "    })();\n",
              "  </script>\n",
              "</div>\n",
              "    </div>\n",
              "  </div>\n"
            ],
            "application/vnd.google.colaboratory.intrinsic+json": {
              "type": "dataframe",
              "variable_name": "df",
              "summary": "{\n  \"name\": \"df\",\n  \"rows\": 4020,\n  \"fields\": [\n    {\n      \"column\": \"address_AO\",\n      \"properties\": {\n        \"dtype\": \"number\",\n        \"std\": 3.0253536022690177,\n        \"min\": 1.0,\n        \"max\": 12.0,\n        \"num_unique_values\": 12,\n        \"samples\": [\n          3.0,\n          2.0,\n          12.0\n        ],\n        \"semantic_type\": \"\",\n        \"description\": \"\"\n      }\n    },\n    {\n      \"column\": \"address_district\",\n      \"properties\": {\n        \"dtype\": \"number\",\n        \"std\": 32.80318034274948,\n        \"min\": 1.0,\n        \"max\": 124.0,\n        \"num_unique_values\": 124,\n        \"samples\": [\n          115.0,\n          111.0,\n          119.0\n        ],\n        \"semantic_type\": \"\",\n        \"description\": \"\"\n      }\n    },\n    {\n      \"column\": \"general_info_Class\",\n      \"properties\": {\n        \"dtype\": \"number\",\n        \"std\": 1.37769238857643,\n        \"min\": 1.0,\n        \"max\": 7.0,\n        \"num_unique_values\": 7,\n        \"samples\": [\n          6.0,\n          7.0,\n          1.0\n        ],\n        \"semantic_type\": \"\",\n        \"description\": \"\"\n      }\n    },\n    {\n      \"column\": \"building_type\",\n      \"properties\": {\n        \"dtype\": \"number\",\n        \"std\": 1.3255909394129972,\n        \"min\": 1.0,\n        \"max\": 9.0,\n        \"num_unique_values\": 9,\n        \"samples\": [\n          3.0,\n          9.0,\n          8.0\n        ],\n        \"semantic_type\": \"\",\n        \"description\": \"\"\n      }\n    },\n    {\n      \"column\": \"layout\",\n      \"properties\": {\n        \"dtype\": \"number\",\n        \"std\": 1.0264693095482131,\n        \"min\": 1.0,\n        \"max\": 4.0,\n        \"num_unique_values\": 4,\n        \"samples\": [\n          3.0,\n          1.0,\n          4.0\n        ],\n        \"semantic_type\": \"\",\n        \"description\": \"\"\n      }\n    },\n    {\n      \"column\": \"building_state\",\n      \"properties\": {\n        \"dtype\": \"number\",\n        \"std\": 1.254274720467587,\n        \"min\": 1.0,\n        \"max\": 7.0,\n        \"num_unique_values\": 7,\n        \"samples\": [\n          3.0,\n          5.0,\n          7.0\n        ],\n        \"semantic_type\": \"\",\n        \"description\": \"\"\n      }\n    },\n    {\n      \"column\": \"closest_metro\",\n      \"properties\": {\n        \"dtype\": \"number\",\n        \"std\": 65.67651141662652,\n        \"min\": 1.0,\n        \"max\": 249.0,\n        \"num_unique_values\": 247,\n        \"samples\": [\n          46.0,\n          76.0,\n          172.0\n        ],\n        \"semantic_type\": \"\",\n        \"description\": \"\"\n      }\n    },\n    {\n      \"column\": \"area\",\n      \"properties\": {\n        \"dtype\": \"number\",\n        \"std\": 973.7404994769606,\n        \"min\": 3.0,\n        \"max\": 28541.0,\n        \"num_unique_values\": 2010,\n        \"samples\": [\n          870.0,\n          62.2,\n          580.0\n        ],\n        \"semantic_type\": \"\",\n        \"description\": \"\"\n      }\n    },\n    {\n      \"column\": \"dist_to_closest_metro\",\n      \"properties\": {\n        \"dtype\": \"number\",\n        \"std\": 687.9661863158257,\n        \"min\": 23.9109479374269,\n        \"max\": 8604.635122327027,\n        \"num_unique_values\": 1500,\n        \"samples\": [\n          686.6105750930027,\n          482.777664124568,\n          855.7535024961869\n        ],\n        \"semantic_type\": \"\",\n        \"description\": \"\"\n      }\n    },\n    {\n      \"column\": \"dist_to_center\",\n      \"properties\": {\n        \"dtype\": \"number\",\n        \"std\": 5844.731184882136,\n        \"min\": 557.896327043815,\n        \"max\": 38737.47944514561,\n        \"num_unique_values\": 1500,\n        \"samples\": [\n          10102.04452893725,\n          3999.490635374036,\n          11849.794028776356\n        ],\n        \"semantic_type\": \"\",\n        \"description\": \"\"\n      }\n    },\n    {\n      \"column\": \"ceiling_height\",\n      \"properties\": {\n        \"dtype\": \"number\",\n        \"std\": 1.3639218700492548,\n        \"min\": 0.0,\n        \"max\": 35.0,\n        \"num_unique_values\": 144,\n        \"samples\": [\n          2.7150000000000003,\n          3.88,\n          2.945\n        ],\n        \"semantic_type\": \"\",\n        \"description\": \"\"\n      }\n    },\n    {\n      \"column\": \"parking_free\",\n      \"properties\": {\n        \"dtype\": \"number\",\n        \"std\": 0,\n        \"min\": 0,\n        \"max\": 1,\n        \"num_unique_values\": 2,\n        \"samples\": [\n          1,\n          0\n        ],\n        \"semantic_type\": \"\",\n        \"description\": \"\"\n      }\n    },\n    {\n      \"column\": \"parking_nonfree\",\n      \"properties\": {\n        \"dtype\": \"number\",\n        \"std\": 0,\n        \"min\": 0,\n        \"max\": 1,\n        \"num_unique_values\": 2,\n        \"samples\": [\n          1,\n          0\n        ],\n        \"semantic_type\": \"\",\n        \"description\": \"\"\n      }\n    },\n    {\n      \"column\": \"parking_covered\",\n      \"properties\": {\n        \"dtype\": \"number\",\n        \"std\": 0,\n        \"min\": 0,\n        \"max\": 1,\n        \"num_unique_values\": 2,\n        \"samples\": [\n          1,\n          0\n        ],\n        \"semantic_type\": \"\",\n        \"description\": \"\"\n      }\n    },\n    {\n      \"column\": \"floor_count\",\n      \"properties\": {\n        \"dtype\": \"number\",\n        \"std\": 18.38970498710016,\n        \"min\": 1.0,\n        \"max\": 97.0,\n        \"num_unique_values\": 63,\n        \"samples\": [\n          85.0,\n          37.0\n        ],\n        \"semantic_type\": \"\",\n        \"description\": \"\"\n      }\n    },\n    {\n      \"column\": \"floor_cur\",\n      \"properties\": {\n        \"dtype\": \"number\",\n        \"std\": 11.137313840744287,\n        \"min\": -3.0,\n        \"max\": 93.0,\n        \"num_unique_values\": 73,\n        \"samples\": [\n          2.0,\n          66.0\n        ],\n        \"semantic_type\": \"\",\n        \"description\": \"\"\n      }\n    },\n    {\n      \"column\": \"building_year\",\n      \"properties\": {\n        \"dtype\": \"number\",\n        \"std\": 364.95691999621687,\n        \"min\": 0.0,\n        \"max\": 2024.0,\n        \"num_unique_values\": 144,\n        \"samples\": [\n          1942.0,\n          1917.0\n        ],\n        \"semantic_type\": \"\",\n        \"description\": \"\"\n      }\n    },\n    {\n      \"column\": \"price_per_meter_cleared\",\n      \"properties\": {\n        \"dtype\": \"number\",\n        \"std\": 134283.41157236387,\n        \"min\": 41460.0,\n        \"max\": 999488.0,\n        \"num_unique_values\": 2405,\n        \"samples\": [\n          297398.0,\n          123689.0\n        ],\n        \"semantic_type\": \"\",\n        \"description\": \"\"\n      }\n    }\n  ]\n}"
            }
          },
          "metadata": {},
          "execution_count": 4
        }
      ],
      "source": [
        "# display the first 5 rows from the dataset\n",
        "df.head()"
      ]
    },
    {
      "cell_type": "code",
      "execution_count": null,
      "id": "e099f953-54be-458b-aeb6-dd8e96432a08",
      "metadata": {
        "id": "e099f953-54be-458b-aeb6-dd8e96432a08",
        "outputId": "026e0480-69ac-4341-d14f-e4b525b9927f",
        "colab": {
          "base_uri": "https://localhost:8080/"
        }
      },
      "outputs": [
        {
          "output_type": "execute_result",
          "data": {
            "text/plain": [
              "(4020, 18)"
            ]
          },
          "metadata": {},
          "execution_count": 5
        }
      ],
      "source": [
        "# look at the size of the dataset\n",
        "df.shape"
      ]
    },
    {
      "cell_type": "code",
      "execution_count": null,
      "id": "74479c59-96a0-4a24-97c0-8d58d9a0b47c",
      "metadata": {
        "id": "74479c59-96a0-4a24-97c0-8d58d9a0b47c",
        "outputId": "7f81cb33-2e07-4132-a8b2-496d88f41cda",
        "colab": {
          "base_uri": "https://localhost:8080/"
        }
      },
      "outputs": [
        {
          "output_type": "execute_result",
          "data": {
            "text/plain": [
              "address_AO                 0\n",
              "address_district           0\n",
              "general_info_Class         0\n",
              "building_type              0\n",
              "layout                     0\n",
              "building_state             0\n",
              "closest_metro              0\n",
              "area                       0\n",
              "dist_to_closest_metro      0\n",
              "dist_to_center             0\n",
              "ceiling_height             0\n",
              "parking_free               0\n",
              "parking_nonfree            0\n",
              "parking_covered            0\n",
              "floor_count                0\n",
              "floor_cur                  0\n",
              "building_year              0\n",
              "price_per_meter_cleared    0\n",
              "dtype: int64"
            ]
          },
          "metadata": {},
          "execution_count": 6
        }
      ],
      "source": [
        "# check null values\n",
        "df.isnull().sum()"
      ]
    },
    {
      "cell_type": "code",
      "execution_count": null,
      "id": "b312a912-f659-404f-81df-be21f4a4a8e2",
      "metadata": {
        "id": "b312a912-f659-404f-81df-be21f4a4a8e2",
        "outputId": "243930ef-c076-48af-b8ff-2473fac11021",
        "colab": {
          "base_uri": "https://localhost:8080/"
        }
      },
      "outputs": [
        {
          "output_type": "stream",
          "name": "stdout",
          "text": [
            "<class 'pandas.core.frame.DataFrame'>\n",
            "RangeIndex: 4020 entries, 0 to 4019\n",
            "Data columns (total 18 columns):\n",
            " #   Column                   Non-Null Count  Dtype  \n",
            "---  ------                   --------------  -----  \n",
            " 0   address_AO               4020 non-null   float64\n",
            " 1   address_district         4020 non-null   float64\n",
            " 2   general_info_Class       4020 non-null   float64\n",
            " 3   building_type            4020 non-null   float64\n",
            " 4   layout                   4020 non-null   float64\n",
            " 5   building_state           4020 non-null   float64\n",
            " 6   closest_metro            4020 non-null   float64\n",
            " 7   area                     4020 non-null   float64\n",
            " 8   dist_to_closest_metro    4020 non-null   float64\n",
            " 9   dist_to_center           4020 non-null   float64\n",
            " 10  ceiling_height           4020 non-null   float64\n",
            " 11  parking_free             4020 non-null   int64  \n",
            " 12  parking_nonfree          4020 non-null   int64  \n",
            " 13  parking_covered          4020 non-null   int64  \n",
            " 14  floor_count              4020 non-null   float64\n",
            " 15  floor_cur                4020 non-null   float64\n",
            " 16  building_year            4020 non-null   float64\n",
            " 17  price_per_meter_cleared  4020 non-null   float64\n",
            "dtypes: float64(15), int64(3)\n",
            "memory usage: 565.4 KB\n"
          ]
        }
      ],
      "source": [
        "# check data types\n",
        "df.info()"
      ]
    },
    {
      "cell_type": "markdown",
      "id": "46598905-7f62-46df-88d2-7bfb4a73d559",
      "metadata": {
        "tags": [],
        "id": "46598905-7f62-46df-88d2-7bfb4a73d559"
      },
      "source": [
        "### Task 2. Visualizing Data"
      ]
    },
    {
      "cell_type": "code",
      "execution_count": null,
      "id": "6e95ba74-fb76-447b-a46f-92eead8a5f47",
      "metadata": {
        "id": "6e95ba74-fb76-447b-a46f-92eead8a5f47",
        "outputId": "37232eab-1f08-430b-86c6-cb7e2f0c48fb",
        "colab": {
          "base_uri": "https://localhost:8080/",
          "height": 450
        }
      },
      "outputs": [
        {
          "output_type": "display_data",
          "data": {
            "text/plain": [
              "<Figure size 640x480 with 1 Axes>"
            ],
            "image/png": "[encoded data removed]"
          },
          "metadata": {}
        }
      ],
      "source": [
        "# visualise the distribution of the target variable on a histogram\n",
        "sns.histplot(df, x='price_per_meter_cleared', kde=True)\n",
        "plt.show()"
      ]
    },
    {
      "cell_type": "code",
      "execution_count": null,
      "id": "2fd4454a-f061-4474-9ede-4e0ee77cc729",
      "metadata": {
        "id": "2fd4454a-f061-4474-9ede-4e0ee77cc729",
        "outputId": "51029b0c-b58c-4261-faa5-c5ebb42a09c3",
        "colab": {
          "base_uri": "https://localhost:8080/",
          "height": 465
        }
      },
      "outputs": [
        {
          "output_type": "display_data",
          "data": {
            "text/plain": [
              "<Figure size 640x480 with 1 Axes>"
            ],
            "image/png": "[encoded data removed]"
          },
          "metadata": {}
        }
      ],
      "source": [
        "# visualise the relation between target variable and any of the features on a scatterplot\n",
        "sns.scatterplot(x='dist_to_closest_metro', y='price_per_meter_cleared', data=df)\n",
        "plt.show()"
      ]
    },
    {
      "cell_type": "code",
      "execution_count": null,
      "id": "60cfa4f4-0076-457c-b568-894a2483e4d0",
      "metadata": {
        "id": "60cfa4f4-0076-457c-b568-894a2483e4d0",
        "outputId": "2f5fa61c-daf8-4828-ff70-41e022203f03",
        "colab": {
          "base_uri": "https://localhost:8080/",
          "height": 465
        }
      },
      "outputs": [
        {
          "output_type": "display_data",
          "data": {
            "text/plain": [
              "<Figure size 640x480 with 1 Axes>"
            ],
            "image/png": "[encoded data removed]"
          },
          "metadata": {}
        }
      ],
      "source": [
        "# visualise the relation between target variable and any of the features on a box and whisker plot\n",
        "sns.boxplot(x='building_state', y='price_per_meter_cleared', data=df)\n",
        "plt.show()"
      ]
    },
    {
      "cell_type": "code",
      "execution_count": null,
      "id": "8229ec19-6899-4738-8206-3c112ee686c9",
      "metadata": {
        "id": "8229ec19-6899-4738-8206-3c112ee686c9",
        "outputId": "362d45b8-10ee-42a6-a0e8-c33546dc10ae",
        "colab": {
          "base_uri": "https://localhost:8080/",
          "height": 506
        }
      },
      "outputs": [
        {
          "output_type": "display_data",
          "data": {
            "text/plain": [
              "<Figure size 500x500 with 1 Axes>"
            ],
            "image/png": "[encoded data removed]"
          },
          "metadata": {}
        }
      ],
      "source": [
        "# visualise the relation between target variable and any of the features\n",
        "sns.displot(x='dist_to_center', y='price_per_meter_cleared', data=df)\n",
        "plt.show()"
      ]
    },
    {
      "cell_type": "markdown",
      "id": "5688c575-8de1-4938-8b0d-a4f29eac47c2",
      "metadata": {
        "tags": [],
        "id": "5688c575-8de1-4938-8b0d-a4f29eac47c2"
      },
      "source": [
        "### Task 3. Preparing Dataset for Machine Learning"
      ]
    },
    {
      "cell_type": "markdown",
      "id": "09340feb-430f-4435-b573-d99afcd262fc",
      "metadata": {
        "id": "09340feb-430f-4435-b573-d99afcd262fc"
      },
      "source": [
        "Fill in the blanks in the code to create two datasets containg features and target variable.\n",
        "\n",
        "Hint: Drop the column with the target variable(y) from the features(X) dataset"
      ]
    },
    {
      "cell_type": "code",
      "execution_count": null,
      "id": "b4dd65f9-e855-41eb-8f8f-e6138f4e6fce",
      "metadata": {
        "id": "b4dd65f9-e855-41eb-8f8f-e6138f4e6fce"
      },
      "outputs": [],
      "source": [
        "# features\n",
        "X = df.drop(columns=['price_per_meter_cleared'], axis=1)"
      ]
    },
    {
      "cell_type": "code",
      "execution_count": null,
      "id": "82042406-a0b3-493c-bc9a-79004f3a5421",
      "metadata": {
        "id": "82042406-a0b3-493c-bc9a-79004f3a5421"
      },
      "outputs": [],
      "source": [
        "# target variable\n",
        "y = df['price_per_meter_cleared']"
      ]
    },
    {
      "cell_type": "markdown",
      "id": "d92d4037-5213-4cf8-91d2-6644f185b100",
      "metadata": {
        "id": "d92d4037-5213-4cf8-91d2-6644f185b100"
      },
      "source": [
        "Fill in the blanks in the code to split the data into training and testing datasets."
      ]
    },
    {
      "cell_type": "code",
      "execution_count": null,
      "id": "c0afa486-1865-4a33-999e-82b858978397",
      "metadata": {
        "id": "c0afa486-1865-4a33-999e-82b858978397"
      },
      "outputs": [],
      "source": [
        "#split data into training and testing sets with train_test_split() method\n",
        "X_train, X_test, y_train, y_test = train_test_split(X, y,\n",
        "                                         train_size=0.8,\n",
        "                                         random_state=42)"
      ]
    },
    {
      "cell_type": "code",
      "execution_count": null,
      "id": "aa6572c4-5677-4260-a452-d6c174554b7c",
      "metadata": {
        "id": "aa6572c4-5677-4260-a452-d6c174554b7c",
        "outputId": "9ab20200-9a4d-4332-9130-11ee3438c51b",
        "colab": {
          "base_uri": "https://localhost:8080/"
        }
      },
      "outputs": [
        {
          "output_type": "execute_result",
          "data": {
            "text/plain": [
              "(3216, 17)"
            ]
          },
          "metadata": {},
          "execution_count": 15
        }
      ],
      "source": [
        "#check the size of the training dataset (80% of the dataset)\n",
        "X_train.shape"
      ]
    },
    {
      "cell_type": "code",
      "execution_count": null,
      "id": "9935037a-8c5e-4541-88ed-dde955816e3f",
      "metadata": {
        "id": "9935037a-8c5e-4541-88ed-dde955816e3f",
        "outputId": "c7efbedd-1bf7-49d4-c987-20eacd6287eb",
        "colab": {
          "base_uri": "https://localhost:8080/"
        }
      },
      "outputs": [
        {
          "output_type": "execute_result",
          "data": {
            "text/plain": [
              "(804, 17)"
            ]
          },
          "metadata": {},
          "execution_count": 16
        }
      ],
      "source": [
        "#check the size of the testing dataset (20% of the dataset)\n",
        "X_test.shape"
      ]
    },
    {
      "cell_type": "markdown",
      "id": "fb7cf560-0a35-46d7-8a68-8c645525d426",
      "metadata": {
        "id": "fb7cf560-0a35-46d7-8a68-8c645525d426"
      },
      "source": [
        "### Task 4. Training the Model"
      ]
    },
    {
      "cell_type": "markdown",
      "id": "98a54875-7aff-43ce-a559-88e7db9dd712",
      "metadata": {
        "id": "98a54875-7aff-43ce-a559-88e7db9dd712"
      },
      "source": [
        "Fill in the blanks in the code to create and train the linear regression model."
      ]
    },
    {
      "cell_type": "code",
      "execution_count": null,
      "id": "4f24a4e2-33bf-4973-8788-843a345e73fe",
      "metadata": {
        "id": "4f24a4e2-33bf-4973-8788-843a345e73fe"
      },
      "outputs": [],
      "source": [
        "#create a linear regression model\n",
        "ml_model = LinearRegression()"
      ]
    },
    {
      "cell_type": "code",
      "execution_count": null,
      "id": "d2b09973-07e9-4905-9f44-726255affb85",
      "metadata": {
        "id": "d2b09973-07e9-4905-9f44-726255affb85",
        "outputId": "0afd81cf-fe1d-4c27-b0a6-9a42c993f1e4",
        "colab": {
          "base_uri": "https://localhost:8080/",
          "height": 74
        }
      },
      "outputs": [
        {
          "output_type": "execute_result",
          "data": {
            "text/plain": [
              "LinearRegression()"
            ],
            "text/html": [
              "<style>#sk-container-id-1 {color: black;background-color: white;}#sk-container-id-1 pre{padding: 0;}#sk-container-id-1 div.sk-toggleable {background-color: white;}#sk-container-id-1 label.sk-toggleable__label {cursor: pointer;display: block;width: 100%;margin-bottom: 0;padding: 0.3em;box-sizing: border-box;text-align: center;}#sk-container-id-1 label.sk-toggleable__label-arrow:before {content: \"▸\";float: left;margin-right: 0.25em;color: #696969;}#sk-container-id-1 label.sk-toggleable__label-arrow:hover:before {color: black;}#sk-container-id-1 div.sk-estimator:hover label.sk-toggleable__label-arrow:before {color: black;}#sk-container-id-1 div.sk-toggleable__content {max-height: 0;max-width: 0;overflow: hidden;text-align: left;background-color: #f0f8ff;}#sk-container-id-1 div.sk-toggleable__content pre {margin: 0.2em;color: black;border-radius: 0.25em;background-color: #f0f8ff;}#sk-container-id-1 input.sk-toggleable__control:checked~div.sk-toggleable__content {max-height: 200px;max-width: 100%;overflow: auto;}#sk-container-id-1 input.sk-toggleable__control:checked~label.sk-toggleable__label-arrow:before {content: \"▾\";}#sk-container-id-1 div.sk-estimator input.sk-toggleable__control:checked~label.sk-toggleable__label {background-color: #d4ebff;}#sk-container-id-1 div.sk-label input.sk-toggleable__control:checked~label.sk-toggleable__label {background-color: #d4ebff;}#sk-container-id-1 input.sk-hidden--visually {border: 0;clip: rect(1px 1px 1px 1px);clip: rect(1px, 1px, 1px, 1px);height: 1px;margin: -1px;overflow: hidden;padding: 0;position: absolute;width: 1px;}#sk-container-id-1 div.sk-estimator {font-family: monospace;background-color: #f0f8ff;border: 1px dotted black;border-radius: 0.25em;box-sizing: border-box;margin-bottom: 0.5em;}#sk-container-id-1 div.sk-estimator:hover {background-color: #d4ebff;}#sk-container-id-1 div.sk-parallel-item::after {content: \"\";width: 100%;border-bottom: 1px solid gray;flex-grow: 1;}#sk-container-id-1 div.sk-label:hover label.sk-toggleable__label {background-color: #d4ebff;}#sk-container-id-1 div.sk-serial::before {content: \"\";position: absolute;border-left: 1px solid gray;box-sizing: border-box;top: 0;bottom: 0;left: 50%;z-index: 0;}#sk-container-id-1 div.sk-serial {display: flex;flex-direction: column;align-items: center;background-color: white;padding-right: 0.2em;padding-left: 0.2em;position: relative;}#sk-container-id-1 div.sk-item {position: relative;z-index: 1;}#sk-container-id-1 div.sk-parallel {display: flex;align-items: stretch;justify-content: center;background-color: white;position: relative;}#sk-container-id-1 div.sk-item::before, #sk-container-id-1 div.sk-parallel-item::before {content: \"\";position: absolute;border-left: 1px solid gray;box-sizing: border-box;top: 0;bottom: 0;left: 50%;z-index: -1;}#sk-container-id-1 div.sk-parallel-item {display: flex;flex-direction: column;z-index: 1;position: relative;background-color: white;}#sk-container-id-1 div.sk-parallel-item:first-child::after {align-self: flex-end;width: 50%;}#sk-container-id-1 div.sk-parallel-item:last-child::after {align-self: flex-start;width: 50%;}#sk-container-id-1 div.sk-parallel-item:only-child::after {width: 0;}#sk-container-id-1 div.sk-dashed-wrapped {border: 1px dashed gray;margin: 0 0.4em 0.5em 0.4em;box-sizing: border-box;padding-bottom: 0.4em;background-color: white;}#sk-container-id-1 div.sk-label label {font-family: monospace;font-weight: bold;display: inline-block;line-height: 1.2em;}#sk-container-id-1 div.sk-label-container {text-align: center;}#sk-container-id-1 div.sk-container {/* jupyter's `normalize.less` sets `[hidden] { display: none; }` but bootstrap.min.css set `[hidden] { display: none !important; }` so we also need the `!important` here to be able to override the default hidden behavior on the sphinx rendered scikit-learn.org. See: https://github.com/scikit-learn/scikit-learn/issues/21755 */display: inline-block !important;position: relative;}#sk-container-id-1 div.sk-text-repr-fallback {display: none;}</style><div id=\"sk-container-id-1\" class=\"sk-top-container\"><div class=\"sk-text-repr-fallback\"><pre>LinearRegression()</pre><b>In a Jupyter environment, please rerun this cell to show the HTML representation or trust the notebook. <br />On GitHub, the HTML representation is unable to render, please try loading this page with nbviewer.org.</b></div><div class=\"sk-container\" hidden><div class=\"sk-item\"><div class=\"sk-estimator sk-toggleable\"><input class=\"sk-toggleable__control sk-hidden--visually\" id=\"sk-estimator-id-1\" type=\"checkbox\" checked><label for=\"sk-estimator-id-1\" class=\"sk-toggleable__label sk-toggleable__label-arrow\">LinearRegression</label><div class=\"sk-toggleable__content\"><pre>LinearRegression()</pre></div></div></div></div></div>"
            ]
          },
          "metadata": {},
          "execution_count": 18
        }
      ],
      "source": [
        "#train the model using fit() method\n",
        "ml_model.fit(X_train, y_train)"
      ]
    },
    {
      "cell_type": "code",
      "execution_count": null,
      "id": "30e28f0d-0cd9-47c5-b86d-3cbf8e94f2f1",
      "metadata": {
        "id": "30e28f0d-0cd9-47c5-b86d-3cbf8e94f2f1",
        "outputId": "97f08333-66b3-4c13-af64-e4f6a6d997be",
        "colab": {
          "base_uri": "https://localhost:8080/"
        }
      },
      "outputs": [
        {
          "output_type": "execute_result",
          "data": {
            "text/plain": [
              "array([ 2.03568943e+03,  3.05230832e+02,  1.12793777e+04,  5.22412329e+03,\n",
              "        1.90330894e+03,  2.78802626e+03,  8.76584771e+02, -1.06848127e+01,\n",
              "       -1.64671439e+01,  6.35882687e-01])"
            ]
          },
          "metadata": {},
          "execution_count": 19
        }
      ],
      "source": [
        "# coefficients\n",
        "ml_model.coef_[:10]"
      ]
    },
    {
      "cell_type": "code",
      "execution_count": null,
      "id": "bada0f99-9cfa-4c2b-a115-4ae38d76ecd7",
      "metadata": {
        "id": "bada0f99-9cfa-4c2b-a115-4ae38d76ecd7",
        "outputId": "164264fe-115a-4cf6-d8eb-38af343a10dd",
        "colab": {
          "base_uri": "https://localhost:8080/"
        }
      },
      "outputs": [
        {
          "output_type": "execute_result",
          "data": {
            "text/plain": [
              "-9987.128483124776"
            ]
          },
          "metadata": {},
          "execution_count": 20
        }
      ],
      "source": [
        "# intercept\n",
        "ml_model.intercept_"
      ]
    },
    {
      "cell_type": "markdown",
      "id": "6646f51f-cb5e-47ae-84cb-8006e7d3d533",
      "metadata": {
        "id": "6646f51f-cb5e-47ae-84cb-8006e7d3d533"
      },
      "source": [
        "Fill in the blanks in the code to get predictions on the training dataset."
      ]
    },
    {
      "cell_type": "code",
      "execution_count": null,
      "id": "353d67b7-285e-483d-b596-0f3a3dee6e03",
      "metadata": {
        "id": "353d67b7-285e-483d-b596-0f3a3dee6e03"
      },
      "outputs": [],
      "source": [
        "# make predictions using predict() method\n",
        "y_pred_train = ml_model.predict(X_train)"
      ]
    },
    {
      "cell_type": "code",
      "execution_count": null,
      "id": "a73aee90-032e-43b5-a925-ec84dd654934",
      "metadata": {
        "id": "a73aee90-032e-43b5-a925-ec84dd654934",
        "outputId": "c1973bc6-8372-4e61-8790-1870e62842d9",
        "colab": {
          "base_uri": "https://localhost:8080/"
        }
      },
      "outputs": [
        {
          "output_type": "execute_result",
          "data": {
            "text/plain": [
              "array([260259.99000607, 221619.55795744, 225495.94052697, ...,\n",
              "       152499.19025736, 250036.4513362 , 186822.3091546 ])"
            ]
          },
          "metadata": {},
          "execution_count": 22
        }
      ],
      "source": [
        "# display the predicted output variables\n",
        "y_pred_train"
      ]
    },
    {
      "cell_type": "markdown",
      "id": "1274d884-0d8b-4f8e-94b7-3cf810826e11",
      "metadata": {
        "tags": [],
        "id": "1274d884-0d8b-4f8e-94b7-3cf810826e11"
      },
      "source": [
        "### Task 5. Evaluating the Model"
      ]
    },
    {
      "cell_type": "markdown",
      "id": "afd13459-fd3e-4a9e-ba06-60a713ca54cb",
      "metadata": {
        "id": "afd13459-fd3e-4a9e-ba06-60a713ca54cb"
      },
      "source": [
        "#### Quality Metrics for a Regression Model"
      ]
    },
    {
      "cell_type": "markdown",
      "id": "d4e580c3-a18c-444a-a50f-75f59a69722d",
      "metadata": {
        "id": "d4e580c3-a18c-444a-a50f-75f59a69722d"
      },
      "source": [
        "An error metric is a way to quantify the performance of a model and provides a way for the forecaster to ompare different models. Although evaluation metrics differ in their interpretation and utility across various scenarios, **lower values or values closer to zero generally indicate a better prediction quality of the model.**"
      ]
    },
    {
      "cell_type": "markdown",
      "id": "ad034442-7c66-4918-8fed-0424d1192c75",
      "metadata": {
        "id": "ad034442-7c66-4918-8fed-0424d1192c75"
      },
      "source": [
        "#### **Mean Squared Error (MSE)**"
      ]
    },
    {
      "cell_type": "markdown",
      "id": "38fce43c-5801-44af-a415-1bd010c515d5",
      "metadata": {
        "id": "38fce43c-5801-44af-a415-1bd010c515d5"
      },
      "source": [
        "![MSE.png](attachment:8939ab4a-e4ab-4a02-a3b7-32635704ee2a.png)"
      ]
    },
    {
      "cell_type": "markdown",
      "id": "a543dbe6-2f81-4ae8-acac-88df37baf497",
      "metadata": {
        "id": "a543dbe6-2f81-4ae8-acac-88df37baf497"
      },
      "source": [
        "#### **Mean Absolute Error(MAE)**"
      ]
    },
    {
      "cell_type": "markdown",
      "id": "abcc948c-1bb3-4c5f-9341-92b33a64ebb9",
      "metadata": {
        "id": "abcc948c-1bb3-4c5f-9341-92b33a64ebb9"
      },
      "source": [
        "![MAE.png](attachment:e159f585-ec3d-4651-95b5-c1a305687768.png)"
      ]
    },
    {
      "cell_type": "markdown",
      "id": "ca1ae055-3689-450d-b107-70b249c7fd1e",
      "metadata": {
        "id": "ca1ae055-3689-450d-b107-70b249c7fd1e"
      },
      "source": [
        "#### **Mean Absolute Percentage Error(MAPE)**"
      ]
    },
    {
      "cell_type": "markdown",
      "id": "b9e90f20-43d6-40f8-8191-f95e6b6d680d",
      "metadata": {
        "id": "b9e90f20-43d6-40f8-8191-f95e6b6d680d"
      },
      "source": [
        "![MAPE.png](attachment:b289aefa-d103-4b01-ba91-15abc1fac731.png)"
      ]
    },
    {
      "cell_type": "markdown",
      "id": "0a96089b-d003-45e0-93d9-39e9f40254f8",
      "metadata": {
        "id": "0a96089b-d003-45e0-93d9-39e9f40254f8"
      },
      "source": [
        "Fill in the blanks in the code to calculate MSE, MAE and MAPE."
      ]
    },
    {
      "cell_type": "code",
      "execution_count": null,
      "id": "37dd30e7-3d3f-4d58-81fe-06a16cc73fc2",
      "metadata": {
        "id": "37dd30e7-3d3f-4d58-81fe-06a16cc73fc2",
        "outputId": "ef35559f-9a39-40bc-b485-3815922ba5c5",
        "colab": {
          "base_uri": "https://localhost:8080/"
        }
      },
      "outputs": [
        {
          "output_type": "execute_result",
          "data": {
            "text/plain": [
              "6590280832.783537"
            ]
          },
          "metadata": {},
          "execution_count": 23
        }
      ],
      "source": [
        "#calculate and interpret MSE\n",
        "mean_squared_error(y_train, y_pred_train)"
      ]
    },
    {
      "cell_type": "code",
      "execution_count": null,
      "id": "5156da37-99e1-46b5-a092-625b8c8aa8aa",
      "metadata": {
        "id": "5156da37-99e1-46b5-a092-625b8c8aa8aa",
        "outputId": "16060b59-955a-43e8-b7d2-15af0e5a0893",
        "colab": {
          "base_uri": "https://localhost:8080/"
        }
      },
      "outputs": [
        {
          "output_type": "execute_result",
          "data": {
            "text/plain": [
              "59990.95066646496"
            ]
          },
          "metadata": {},
          "execution_count": 24
        }
      ],
      "source": [
        "#calculate and interpret MAE\n",
        "mean_absolute_error(y_train, y_pred_train)"
      ]
    },
    {
      "cell_type": "code",
      "execution_count": null,
      "id": "4a89e1a0-1125-42a1-aeb3-16baac5aaa90",
      "metadata": {
        "id": "4a89e1a0-1125-42a1-aeb3-16baac5aaa90",
        "outputId": "fc9abc28-7c7f-4063-c7a1-ba0b13313c6c",
        "colab": {
          "base_uri": "https://localhost:8080/"
        }
      },
      "outputs": [
        {
          "output_type": "execute_result",
          "data": {
            "text/plain": [
              "0.31196310893125145"
            ]
          },
          "metadata": {},
          "execution_count": 25
        }
      ],
      "source": [
        "#calculate and interpret MAPE\n",
        "mean_absolute_percentage_error(y_train, y_pred_train)"
      ]
    },
    {
      "cell_type": "markdown",
      "id": "8e3c5061-3e66-47e3-b0b2-c71ad872ce04",
      "metadata": {
        "id": "8e3c5061-3e66-47e3-b0b2-c71ad872ce04"
      },
      "source": [
        "### Task 6. Testing the Model"
      ]
    },
    {
      "cell_type": "markdown",
      "id": "53f2673f-db98-4c7d-89cd-28f9661f8ad3",
      "metadata": {
        "id": "53f2673f-db98-4c7d-89cd-28f9661f8ad3"
      },
      "source": [
        "Fill in the blanks in the code to get predictions on the testing sample"
      ]
    },
    {
      "cell_type": "code",
      "execution_count": null,
      "id": "e374f221-e1bb-4eb8-96b2-361f65b901e4",
      "metadata": {
        "id": "e374f221-e1bb-4eb8-96b2-361f65b901e4"
      },
      "outputs": [],
      "source": [
        "# make predictions using predict() method\n",
        "y_pred_test = ml_model.predict(X_test)"
      ]
    },
    {
      "cell_type": "code",
      "execution_count": null,
      "id": "0aac5a75-5797-4f2b-a7d9-1bf372202ddb",
      "metadata": {
        "id": "0aac5a75-5797-4f2b-a7d9-1bf372202ddb",
        "outputId": "a83a78e3-03bd-4110-c6c9-49d7f6275fd2",
        "colab": {
          "base_uri": "https://localhost:8080/"
        }
      },
      "outputs": [
        {
          "output_type": "execute_result",
          "data": {
            "text/plain": [
              "6136462557.068867"
            ]
          },
          "metadata": {},
          "execution_count": 27
        }
      ],
      "source": [
        "#calculate and interpret MSE\n",
        "mean_squared_error(y_test, y_pred_test)"
      ]
    },
    {
      "cell_type": "code",
      "execution_count": null,
      "id": "956f4875-53bf-441e-9bd4-1971717ad835",
      "metadata": {
        "id": "956f4875-53bf-441e-9bd4-1971717ad835",
        "outputId": "f7f5bed6-bf69-4f75-e059-eb41b39cff5a",
        "colab": {
          "base_uri": "https://localhost:8080/"
        }
      },
      "outputs": [
        {
          "output_type": "execute_result",
          "data": {
            "text/plain": [
              "58489.22304305918"
            ]
          },
          "metadata": {},
          "execution_count": 28
        }
      ],
      "source": [
        "#calculate and interpret MAE\n",
        "mean_absolute_error(y_test, y_pred_test)"
      ]
    },
    {
      "cell_type": "code",
      "execution_count": null,
      "id": "cb54f3fd-6ce5-4d98-8d21-2d639865b1d5",
      "metadata": {
        "id": "cb54f3fd-6ce5-4d98-8d21-2d639865b1d5",
        "outputId": "4b164072-f8ee-4243-ff4f-bc565a50b951",
        "colab": {
          "base_uri": "https://localhost:8080/"
        }
      },
      "outputs": [
        {
          "output_type": "execute_result",
          "data": {
            "text/plain": [
              "0.31214349852720846"
            ]
          },
          "metadata": {},
          "execution_count": 29
        }
      ],
      "source": [
        "#calculate interpret MAPE\n",
        "mean_absolute_percentage_error(y_test, y_pred_test)"
      ]
    },
    {
      "cell_type": "markdown",
      "id": "46ca8d4f-eec4-4071-8118-9981b58e074a",
      "metadata": {
        "id": "46ca8d4f-eec4-4071-8118-9981b58e074a"
      },
      "source": [
        "## **Part 1. Regression — Linear Regression Model**"
      ]
    },
    {
      "cell_type": "markdown",
      "id": "30d13ab9-0cd6-4eee-8a53-c24f0875b14e",
      "metadata": {
        "id": "30d13ab9-0cd6-4eee-8a53-c24f0875b14e"
      },
      "source": [
        "### Task 1. Loading and Analyzing Data"
      ]
    },
    {
      "cell_type": "markdown",
      "id": "490fb879-2c78-46e7-8d47-d86c2cb08f08",
      "metadata": {
        "id": "490fb879-2c78-46e7-8d47-d86c2cb08f08"
      },
      "source": [
        "Fill in the blanks to load and analyze the data [1 point]."
      ]
    },
    {
      "cell_type": "code",
      "execution_count": null,
      "id": "ed3edf47-2207-4d90-becc-5e1ecb168829",
      "metadata": {
        "id": "ed3edf47-2207-4d90-becc-5e1ecb168829"
      },
      "outputs": [],
      "source": [
        "# load the 'salaries.csv' dataset\n",
        "dataset = pd.read_csv('salaries.csv')"
      ]
    },
    {
      "cell_type": "code",
      "execution_count": null,
      "id": "98b817d4-135b-4a69-a72c-bf920c986184",
      "metadata": {
        "id": "98b817d4-135b-4a69-a72c-bf920c986184",
        "colab": {
          "base_uri": "https://localhost:8080/",
          "height": 330
        },
        "outputId": "1d700286-7095-4f83-f731-0e3d5dfd438d"
      },
      "outputs": [
        {
          "output_type": "execute_result",
          "data": {
            "text/plain": [
              "   work_year experience_level employment_type                 job_title  \\\n",
              "0       2023               SE              FT  Principal Data Scientist   \n",
              "1       2023               MI              CT               ML Engineer   \n",
              "2       2023               MI              CT               ML Engineer   \n",
              "3       2023               SE              FT            Data Scientist   \n",
              "4       2023               SE              FT            Data Scientist   \n",
              "\n",
              "   salary salary_currency  salary_in_usd employee_residence  remote_ratio  \\\n",
              "0   80000             EUR          85847                 ES           100   \n",
              "1   30000             USD          30000                 US           100   \n",
              "2   25500             USD          25500                 US           100   \n",
              "3  175000             USD         175000                 CA           100   \n",
              "4  120000             USD         120000                 CA           100   \n",
              "\n",
              "  company_location company_size  \n",
              "0               ES            L  \n",
              "1               US            S  \n",
              "2               US            S  \n",
              "3               CA            M  \n",
              "4               CA            M  "
            ],
            "text/html": [
              "\n",
              "  <div id=\"df-b54b7723-aa2c-458a-95b7-51ebafb8d7e5\" class=\"colab-df-container\">\n",
              "    <div>\n",
              "<style scoped>\n",
              "    .dataframe tbody tr th:only-of-type {\n",
              "        vertical-align: middle;\n",
              "    }\n",
              "\n",
              "    .dataframe tbody tr th {\n",
              "        vertical-align: top;\n",
              "    }\n",
              "\n",
              "    .dataframe thead th {\n",
              "        text-align: right;\n",
              "    }\n",
              "</style>\n",
              "<table border=\"1\" class=\"dataframe\">\n",
              "  <thead>\n",
              "    <tr style=\"text-align: right;\">\n",
              "      <th></th>\n",
              "      <th>work_year</th>\n",
              "      <th>experience_level</th>\n",
              "      <th>employment_type</th>\n",
              "      <th>job_title</th>\n",
              "      <th>salary</th>\n",
              "      <th>salary_currency</th>\n",
              "      <th>salary_in_usd</th>\n",
              "      <th>employee_residence</th>\n",
              "      <th>remote_ratio</th>\n",
              "      <th>company_location</th>\n",
              "      <th>company_size</th>\n",
              "    </tr>\n",
              "  </thead>\n",
              "  <tbody>\n",
              "    <tr>\n",
              "      <th>0</th>\n",
              "      <td>2023</td>\n",
              "      <td>SE</td>\n",
              "      <td>FT</td>\n",
              "      <td>Principal Data Scientist</td>\n",
              "      <td>80000</td>\n",
              "      <td>EUR</td>\n",
              "      <td>85847</td>\n",
              "      <td>ES</td>\n",
              "      <td>100</td>\n",
              "      <td>ES</td>\n",
              "      <td>L</td>\n",
              "    </tr>\n",
              "    <tr>\n",
              "      <th>1</th>\n",
              "      <td>2023</td>\n",
              "      <td>MI</td>\n",
              "      <td>CT</td>\n",
              "      <td>ML Engineer</td>\n",
              "      <td>30000</td>\n",
              "      <td>USD</td>\n",
              "      <td>30000</td>\n",
              "      <td>US</td>\n",
              "      <td>100</td>\n",
              "      <td>US</td>\n",
              "      <td>S</td>\n",
              "    </tr>\n",
              "    <tr>\n",
              "      <th>2</th>\n",
              "      <td>2023</td>\n",
              "      <td>MI</td>\n",
              "      <td>CT</td>\n",
              "      <td>ML Engineer</td>\n",
              "      <td>25500</td>\n",
              "      <td>USD</td>\n",
              "      <td>25500</td>\n",
              "      <td>US</td>\n",
              "      <td>100</td>\n",
              "      <td>US</td>\n",
              "      <td>S</td>\n",
              "    </tr>\n",
              "    <tr>\n",
              "      <th>3</th>\n",
              "      <td>2023</td>\n",
              "      <td>SE</td>\n",
              "      <td>FT</td>\n",
              "      <td>Data Scientist</td>\n",
              "      <td>175000</td>\n",
              "      <td>USD</td>\n",
              "      <td>175000</td>\n",
              "      <td>CA</td>\n",
              "      <td>100</td>\n",
              "      <td>CA</td>\n",
              "      <td>M</td>\n",
              "    </tr>\n",
              "    <tr>\n",
              "      <th>4</th>\n",
              "      <td>2023</td>\n",
              "      <td>SE</td>\n",
              "      <td>FT</td>\n",
              "      <td>Data Scientist</td>\n",
              "      <td>120000</td>\n",
              "      <td>USD</td>\n",
              "      <td>120000</td>\n",
              "      <td>CA</td>\n",
              "      <td>100</td>\n",
              "      <td>CA</td>\n",
              "      <td>M</td>\n",
              "    </tr>\n",
              "  </tbody>\n",
              "</table>\n",
              "</div>\n",
              "    <div class=\"colab-df-buttons\">\n",
              "\n",
              "  <div class=\"colab-df-container\">\n",
              "    <button class=\"colab-df-convert\" onclick=\"convertToInteractive('df-b54b7723-aa2c-458a-95b7-51ebafb8d7e5')\"\n",
              "            title=\"Convert this dataframe to an interactive table.\"\n",
              "            style=\"display:none;\">\n",
              "\n",
              "  <svg xmlns=\"http://www.w3.org/2000/svg\" height=\"24px\" viewBox=\"0 -960 960 960\">\n",
              "    <path d=\"M120-120v-720h720v720H120Zm60-500h600v-160H180v160Zm220 220h160v-160H400v160Zm0 220h160v-160H400v160ZM180-400h160v-160H180v160Zm440 0h160v-160H620v160ZM180-180h160v-160H180v160Zm440 0h160v-160H620v160Z\"/>\n",
              "  </svg>\n",
              "    </button>\n",
              "\n",
              "  <style>\n",
              "    .colab-df-container {\n",
              "      display:flex;\n",
              "      gap: 12px;\n",
              "    }\n",
              "\n",
              "    .colab-df-convert {\n",
              "      background-color: #E8F0FE;\n",
              "      border: none;\n",
              "      border-radius: 50%;\n",
              "      cursor: pointer;\n",
              "      display: none;\n",
              "      fill: #1967D2;\n",
              "      height: 32px;\n",
              "      padding: 0 0 0 0;\n",
              "      width: 32px;\n",
              "    }\n",
              "\n",
              "    .colab-df-convert:hover {\n",
              "      background-color: #E2EBFA;\n",
              "      box-shadow: 0px 1px 2px rgba(60, 64, 67, 0.3), 0px 1px 3px 1px rgba(60, 64, 67, 0.15);\n",
              "      fill: #174EA6;\n",
              "    }\n",
              "\n",
              "    .colab-df-buttons div {\n",
              "      margin-bottom: 4px;\n",
              "    }\n",
              "\n",
              "    [theme=dark] .colab-df-convert {\n",
              "      background-color: #3B4455;\n",
              "      fill: #D2E3FC;\n",
              "    }\n",
              "\n",
              "    [theme=dark] .colab-df-convert:hover {\n",
              "      background-color: #434B5C;\n",
              "      box-shadow: 0px 1px 3px 1px rgba(0, 0, 0, 0.15);\n",
              "      filter: drop-shadow(0px 1px 2px rgba(0, 0, 0, 0.3));\n",
              "      fill: #FFFFFF;\n",
              "    }\n",
              "  </style>\n",
              "\n",
              "    <script>\n",
              "      const buttonEl =\n",
              "        document.querySelector('#df-b54b7723-aa2c-458a-95b7-51ebafb8d7e5 button.colab-df-convert');\n",
              "      buttonEl.style.display =\n",
              "        google.colab.kernel.accessAllowed ? 'block' : 'none';\n",
              "\n",
              "      async function convertToInteractive(key) {\n",
              "        const element = document.querySelector('#df-b54b7723-aa2c-458a-95b7-51ebafb8d7e5');\n",
              "        const dataTable =\n",
              "          await google.colab.kernel.invokeFunction('convertToInteractive',\n",
              "                                                    [key], {});\n",
              "        if (!dataTable) return;\n",
              "\n",
              "        const docLinkHtml = 'Like what you see? Visit the ' +\n",
              "          '<a target=\"_blank\" href=https://colab.research.google.com/notebooks/data_table.ipynb>data table notebook</a>'\n",
              "          + ' to learn more about interactive tables.';\n",
              "        element.innerHTML = '';\n",
              "        dataTable['output_type'] = 'display_data';\n",
              "        await google.colab.output.renderOutput(dataTable, element);\n",
              "        const docLink = document.createElement('div');\n",
              "        docLink.innerHTML = docLinkHtml;\n",
              "        element.appendChild(docLink);\n",
              "      }\n",
              "    </script>\n",
              "  </div>\n",
              "\n",
              "\n",
              "<div id=\"df-bc63a7c7-f400-4290-82bc-da2605ee9e3c\">\n",
              "  <button class=\"colab-df-quickchart\" onclick=\"quickchart('df-bc63a7c7-f400-4290-82bc-da2605ee9e3c')\"\n",
              "            title=\"Suggest charts\"\n",
              "            style=\"display:none;\">\n",
              "\n",
              "<svg xmlns=\"http://www.w3.org/2000/svg\" height=\"24px\"viewBox=\"0 0 24 24\"\n",
              "     width=\"24px\">\n",
              "    <g>\n",
              "        <path d=\"M19 3H5c-1.1 0-2 .9-2 2v14c0 1.1.9 2 2 2h14c1.1 0 2-.9 2-2V5c0-1.1-.9-2-2-2zM9 17H7v-7h2v7zm4 0h-2V7h2v10zm4 0h-2v-4h2v4z\"/>\n",
              "    </g>\n",
              "</svg>\n",
              "  </button>\n",
              "\n",
              "<style>\n",
              "  .colab-df-quickchart {\n",
              "      --bg-color: #E8F0FE;\n",
              "      --fill-color: #1967D2;\n",
              "      --hover-bg-color: #E2EBFA;\n",
              "      --hover-fill-color: #174EA6;\n",
              "      --disabled-fill-color: #AAA;\n",
              "      --disabled-bg-color: #DDD;\n",
              "  }\n",
              "\n",
              "  [theme=dark] .colab-df-quickchart {\n",
              "      --bg-color: #3B4455;\n",
              "      --fill-color: #D2E3FC;\n",
              "      --hover-bg-color: #434B5C;\n",
              "      --hover-fill-color: #FFFFFF;\n",
              "      --disabled-bg-color: #3B4455;\n",
              "      --disabled-fill-color: #666;\n",
              "  }\n",
              "\n",
              "  .colab-df-quickchart {\n",
              "    background-color: var(--bg-color);\n",
              "    border: none;\n",
              "    border-radius: 50%;\n",
              "    cursor: pointer;\n",
              "    display: none;\n",
              "    fill: var(--fill-color);\n",
              "    height: 32px;\n",
              "    padding: 0;\n",
              "    width: 32px;\n",
              "  }\n",
              "\n",
              "  .colab-df-quickchart:hover {\n",
              "    background-color: var(--hover-bg-color);\n",
              "    box-shadow: 0 1px 2px rgba(60, 64, 67, 0.3), 0 1px 3px 1px rgba(60, 64, 67, 0.15);\n",
              "    fill: var(--button-hover-fill-color);\n",
              "  }\n",
              "\n",
              "  .colab-df-quickchart-complete:disabled,\n",
              "  .colab-df-quickchart-complete:disabled:hover {\n",
              "    background-color: var(--disabled-bg-color);\n",
              "    fill: var(--disabled-fill-color);\n",
              "    box-shadow: none;\n",
              "  }\n",
              "\n",
              "  .colab-df-spinner {\n",
              "    border: 2px solid var(--fill-color);\n",
              "    border-color: transparent;\n",
              "    border-bottom-color: var(--fill-color);\n",
              "    animation:\n",
              "      spin 1s steps(1) infinite;\n",
              "  }\n",
              "\n",
              "  @keyframes spin {\n",
              "    0% {\n",
              "      border-color: transparent;\n",
              "      border-bottom-color: var(--fill-color);\n",
              "      border-left-color: var(--fill-color);\n",
              "    }\n",
              "    20% {\n",
              "      border-color: transparent;\n",
              "      border-left-color: var(--fill-color);\n",
              "      border-top-color: var(--fill-color);\n",
              "    }\n",
              "    30% {\n",
              "      border-color: transparent;\n",
              "      border-left-color: var(--fill-color);\n",
              "      border-top-color: var(--fill-color);\n",
              "      border-right-color: var(--fill-color);\n",
              "    }\n",
              "    40% {\n",
              "      border-color: transparent;\n",
              "      border-right-color: var(--fill-color);\n",
              "      border-top-color: var(--fill-color);\n",
              "    }\n",
              "    60% {\n",
              "      border-color: transparent;\n",
              "      border-right-color: var(--fill-color);\n",
              "    }\n",
              "    80% {\n",
              "      border-color: transparent;\n",
              "      border-right-color: var(--fill-color);\n",
              "      border-bottom-color: var(--fill-color);\n",
              "    }\n",
              "    90% {\n",
              "      border-color: transparent;\n",
              "      border-bottom-color: var(--fill-color);\n",
              "    }\n",
              "  }\n",
              "</style>\n",
              "\n",
              "  <script>\n",
              "    async function quickchart(key) {\n",
              "      const quickchartButtonEl =\n",
              "        document.querySelector('#' + key + ' button');\n",
              "      quickchartButtonEl.disabled = true;  // To prevent multiple clicks.\n",
              "      quickchartButtonEl.classList.add('colab-df-spinner');\n",
              "      try {\n",
              "        const charts = await google.colab.kernel.invokeFunction(\n",
              "            'suggestCharts', [key], {});\n",
              "      } catch (error) {\n",
              "        console.error('Error during call to suggestCharts:', error);\n",
              "      }\n",
              "      quickchartButtonEl.classList.remove('colab-df-spinner');\n",
              "      quickchartButtonEl.classList.add('colab-df-quickchart-complete');\n",
              "    }\n",
              "    (() => {\n",
              "      let quickchartButtonEl =\n",
              "        document.querySelector('#df-bc63a7c7-f400-4290-82bc-da2605ee9e3c button');\n",
              "      quickchartButtonEl.style.display =\n",
              "        google.colab.kernel.accessAllowed ? 'block' : 'none';\n",
              "    })();\n",
              "  </script>\n",
              "</div>\n",
              "    </div>\n",
              "  </div>\n"
            ],
            "application/vnd.google.colaboratory.intrinsic+json": {
              "type": "dataframe",
              "variable_name": "dataset",
              "summary": "{\n  \"name\": \"dataset\",\n  \"rows\": 3755,\n  \"fields\": [\n    {\n      \"column\": \"work_year\",\n      \"properties\": {\n        \"dtype\": \"number\",\n        \"std\": 0,\n        \"min\": 2020,\n        \"max\": 2023,\n        \"num_unique_values\": 4,\n        \"samples\": [\n          2022,\n          2021,\n          2023\n        ],\n        \"semantic_type\": \"\",\n        \"description\": \"\"\n      }\n    },\n    {\n      \"column\": \"experience_level\",\n      \"properties\": {\n        \"dtype\": \"category\",\n        \"num_unique_values\": 4,\n        \"samples\": [\n          \"MI\",\n          \"EX\",\n          \"SE\"\n        ],\n        \"semantic_type\": \"\",\n        \"description\": \"\"\n      }\n    },\n    {\n      \"column\": \"employment_type\",\n      \"properties\": {\n        \"dtype\": \"category\",\n        \"num_unique_values\": 4,\n        \"samples\": [\n          \"CT\",\n          \"PT\",\n          \"FT\"\n        ],\n        \"semantic_type\": \"\",\n        \"description\": \"\"\n      }\n    },\n    {\n      \"column\": \"job_title\",\n      \"properties\": {\n        \"dtype\": \"category\",\n        \"num_unique_values\": 93,\n        \"samples\": [\n          \"Cloud Database Engineer\",\n          \"Staff Data Analyst\",\n          \"Insight Analyst\"\n        ],\n        \"semantic_type\": \"\",\n        \"description\": \"\"\n      }\n    },\n    {\n      \"column\": \"salary\",\n      \"properties\": {\n        \"dtype\": \"number\",\n        \"std\": 671676,\n        \"min\": 6000,\n        \"max\": 30400000,\n        \"num_unique_values\": 815,\n        \"samples\": [\n          84570,\n          138000,\n          370000\n        ],\n        \"semantic_type\": \"\",\n        \"description\": \"\"\n      }\n    },\n    {\n      \"column\": \"salary_currency\",\n      \"properties\": {\n        \"dtype\": \"category\",\n        \"num_unique_values\": 20,\n        \"samples\": [\n          \"EUR\",\n          \"MXN\",\n          \"DKK\"\n        ],\n        \"semantic_type\": \"\",\n        \"description\": \"\"\n      }\n    },\n    {\n      \"column\": \"salary_in_usd\",\n      \"properties\": {\n        \"dtype\": \"number\",\n        \"std\": 63055,\n        \"min\": 5132,\n        \"max\": 450000,\n        \"num_unique_values\": 1035,\n        \"samples\": [\n          205600,\n          375000,\n          140700\n        ],\n        \"semantic_type\": \"\",\n        \"description\": \"\"\n      }\n    },\n    {\n      \"column\": \"employee_residence\",\n      \"properties\": {\n        \"dtype\": \"category\",\n        \"num_unique_values\": 78,\n        \"samples\": [\n          \"AR\",\n          \"ES\",\n          \"AM\"\n        ],\n        \"semantic_type\": \"\",\n        \"description\": \"\"\n      }\n    },\n    {\n      \"column\": \"remote_ratio\",\n      \"properties\": {\n        \"dtype\": \"number\",\n        \"std\": 48,\n        \"min\": 0,\n        \"max\": 100,\n        \"num_unique_values\": 3,\n        \"samples\": [\n          100,\n          0,\n          50\n        ],\n        \"semantic_type\": \"\",\n        \"description\": \"\"\n      }\n    },\n    {\n      \"column\": \"company_location\",\n      \"properties\": {\n        \"dtype\": \"category\",\n        \"num_unique_values\": 72,\n        \"samples\": [\n          \"GB\",\n          \"MY\",\n          \"SG\"\n        ],\n        \"semantic_type\": \"\",\n        \"description\": \"\"\n      }\n    },\n    {\n      \"column\": \"company_size\",\n      \"properties\": {\n        \"dtype\": \"category\",\n        \"num_unique_values\": 3,\n        \"samples\": [\n          \"L\",\n          \"S\",\n          \"M\"\n        ],\n        \"semantic_type\": \"\",\n        \"description\": \"\"\n      }\n    }\n  ]\n}"
            }
          },
          "metadata": {},
          "execution_count": 31
        }
      ],
      "source": [
        "# display the first 5 rows from the dataset\n",
        "dataset.head()"
      ]
    },
    {
      "cell_type": "code",
      "execution_count": null,
      "id": "aa93883a-d8ad-4e45-a9fa-098d4c2dffe1",
      "metadata": {
        "id": "aa93883a-d8ad-4e45-a9fa-098d4c2dffe1",
        "colab": {
          "base_uri": "https://localhost:8080/"
        },
        "outputId": "080306ac-472c-49e1-c863-58fd9446f7a4"
      },
      "outputs": [
        {
          "output_type": "execute_result",
          "data": {
            "text/plain": [
              "(3755, 11)"
            ]
          },
          "metadata": {},
          "execution_count": 32
        }
      ],
      "source": [
        "# look at the size of the dataset\n",
        "dataset.shape"
      ]
    },
    {
      "cell_type": "code",
      "execution_count": null,
      "id": "8cbc7f99-c660-42ac-804d-b8efffc10c51",
      "metadata": {
        "id": "8cbc7f99-c660-42ac-804d-b8efffc10c51",
        "outputId": "64ec3e8f-6dc4-4a20-9249-59a70632a679",
        "colab": {
          "base_uri": "https://localhost:8080/"
        }
      },
      "outputs": [
        {
          "output_type": "execute_result",
          "data": {
            "text/plain": [
              "work_year             0\n",
              "experience_level      0\n",
              "employment_type       0\n",
              "job_title             0\n",
              "salary                0\n",
              "salary_currency       0\n",
              "salary_in_usd         0\n",
              "employee_residence    0\n",
              "remote_ratio          0\n",
              "company_location      0\n",
              "company_size          0\n",
              "dtype: int64"
            ]
          },
          "metadata": {},
          "execution_count": 33
        }
      ],
      "source": [
        "# calculate the number of NaN values in each column\n",
        "dataset.isnull().sum()"
      ]
    },
    {
      "cell_type": "code",
      "execution_count": null,
      "id": "1f30e14a-a4d5-40ca-aa1c-2cca786905a9",
      "metadata": {
        "id": "1f30e14a-a4d5-40ca-aa1c-2cca786905a9",
        "colab": {
          "base_uri": "https://localhost:8080/",
          "height": 450
        },
        "outputId": "84828ce5-f214-4eef-ffa4-c1e839cf4587"
      },
      "outputs": [
        {
          "output_type": "display_data",
          "data": {
            "text/plain": [
              "<Figure size 640x480 with 1 Axes>"
            ],
            "image/png": "[encoded data removed]"
          },
          "metadata": {}
        }
      ],
      "source": [
        "# visualise the distribution of the target variable (i.e. 'salary_in_usd') on a histogram\n",
        "sns.histplot(dataset, x='salary_in_usd', kde=True)\n",
        "plt.show()"
      ]
    },
    {
      "cell_type": "code",
      "execution_count": null,
      "id": "7a60a3e7-177c-42a7-8ebc-bfa0cd8209ef",
      "metadata": {
        "id": "7a60a3e7-177c-42a7-8ebc-bfa0cd8209ef",
        "colab": {
          "base_uri": "https://localhost:8080/"
        },
        "outputId": "4a84d0a1-6c77-4061-8b14-93694d44a91c"
      },
      "outputs": [
        {
          "output_type": "execute_result",
          "data": {
            "text/plain": [
              "count      3755.000000\n",
              "mean     137570.389880\n",
              "std       63055.625278\n",
              "min        5132.000000\n",
              "25%       95000.000000\n",
              "50%      135000.000000\n",
              "75%      175000.000000\n",
              "max      450000.000000\n",
              "Name: salary_in_usd, dtype: float64"
            ]
          },
          "metadata": {},
          "execution_count": 36
        }
      ],
      "source": [
        "# display minimum, average and maximum value of the target variable (i.e. 'salary_in_usd')\n",
        "dataset['salary_in_usd'].describe()"
      ]
    },
    {
      "cell_type": "markdown",
      "id": "672ef6ee-d66b-4564-a6f5-13f567a5c42b",
      "metadata": {
        "id": "672ef6ee-d66b-4564-a6f5-13f567a5c42b"
      },
      "source": [
        "### Task 2. Selecting Features"
      ]
    },
    {
      "cell_type": "markdown",
      "id": "36db3155-eda0-4c0e-8c57-440b389b844f",
      "metadata": {
        "id": "36db3155-eda0-4c0e-8c57-440b389b844f"
      },
      "source": [
        "Fill in the blanks to analyze features [1 point]."
      ]
    },
    {
      "cell_type": "markdown",
      "id": "5f6abae6-78fa-453c-ba33-01ff96ed7497",
      "metadata": {
        "id": "5f6abae6-78fa-453c-ba33-01ff96ed7497"
      },
      "source": [
        "What is the average salary and salary in USD based on the experience?\n",
        "\n",
        "- EN: Entry\n",
        "- MI: Middle\n",
        "- SE: Senior\n",
        "- EX: Executive"
      ]
    },
    {
      "cell_type": "code",
      "execution_count": null,
      "id": "70e78df4-6a38-4e5e-b2b3-c0a9c99c935e",
      "metadata": {
        "id": "70e78df4-6a38-4e5e-b2b3-c0a9c99c935e",
        "colab": {
          "base_uri": "https://localhost:8080/",
          "height": 571
        },
        "outputId": "ac03824a-b226-498b-cd2b-cdb4366870f9"
      },
      "outputs": [
        {
          "output_type": "stream",
          "name": "stdout",
          "text": [
            "experience_level\n",
            "SE    170048.965421\n",
            "EN    188381.178125\n",
            "EX    246802.201754\n",
            "MI    248200.306832\n",
            "Name: salary, dtype: float64\n"
          ]
        },
        {
          "output_type": "execute_result",
          "data": {
            "text/plain": [
              "<Axes: xlabel='experience_level'>"
            ]
          },
          "metadata": {},
          "execution_count": 38
        },
        {
          "output_type": "display_data",
          "data": {
            "text/plain": [
              "<Figure size 640x480 with 1 Axes>"
            ],
            "image/png": "[encoded data removed]"
          },
          "metadata": {}
        }
      ],
      "source": [
        "# group by experience and calculate mean salary\n",
        "experience_salary = dataset.groupby('experience_level')['salary'].mean().sort_values()\n",
        "\n",
        "# display and visualise average salary for each experience level on a bar plot\n",
        "print(experience_salary)\n",
        "sns.barplot(x = experience_salary.index, y = experience_salary.values)"
      ]
    },
    {
      "cell_type": "code",
      "execution_count": null,
      "id": "ee4697dc-cef4-4851-93e7-d84044934107",
      "metadata": {
        "id": "ee4697dc-cef4-4851-93e7-d84044934107",
        "colab": {
          "base_uri": "https://localhost:8080/",
          "height": 571
        },
        "outputId": "d7a9a1de-69bd-447e-d7d6-aaaca2b35b67"
      },
      "outputs": [
        {
          "output_type": "stream",
          "name": "stdout",
          "text": [
            "experience_level\n",
            "EN     78546.284375\n",
            "MI    104525.939130\n",
            "SE    153051.071542\n",
            "EX    194930.929825\n",
            "Name: salary_in_usd, dtype: float64\n"
          ]
        },
        {
          "output_type": "execute_result",
          "data": {
            "text/plain": [
              "<Axes: xlabel='experience_level'>"
            ]
          },
          "metadata": {},
          "execution_count": 39
        },
        {
          "output_type": "display_data",
          "data": {
            "text/plain": [
              "<Figure size 640x480 with 1 Axes>"
            ],
            "image/png": "[encoded data removed]"
          },
          "metadata": {}
        }
      ],
      "source": [
        "# group by experience and calculate mean salary in USD\n",
        "experience_salary_usd = dataset.groupby('experience_level')['salary_in_usd'].mean().sort_values()\n",
        "# display and visualise average salary in USD for each experience level on a bar plot\n",
        "print(experience_salary_usd)\n",
        "sns.barplot(x = experience_salary_usd.index, y = experience_salary_usd.values)"
      ]
    },
    {
      "cell_type": "markdown",
      "id": "0cbb7c62-a551-4724-8218-4fcb9c227ec2",
      "metadata": {
        "id": "0cbb7c62-a551-4724-8218-4fcb9c227ec2"
      },
      "source": [
        "What is the median salary in USD based on the employee's country of residence?"
      ]
    },
    {
      "cell_type": "code",
      "execution_count": null,
      "id": "643bc0f4-8cbc-4709-9c19-9acc454e1949",
      "metadata": {
        "id": "643bc0f4-8cbc-4709-9c19-9acc454e1949",
        "colab": {
          "base_uri": "https://localhost:8080/"
        },
        "outputId": "78e8de53-b300-4a89-c555-b0adccb65c48"
      },
      "outputs": [
        {
          "output_type": "execute_result",
          "data": {
            "text/plain": [
              "employee_residence\n",
              "MK      6304.0\n",
              "MA     10000.0\n",
              "SK     12608.0\n",
              "ID     15000.0\n",
              "MD     18000.0\n",
              "        ...   \n",
              "CN    125404.0\n",
              "US    145000.0\n",
              "PR    160000.0\n",
              "MY    200000.0\n",
              "IL    423834.0\n",
              "Name: salary_in_usd, Length: 78, dtype: float64"
            ]
          },
          "metadata": {},
          "execution_count": 5
        }
      ],
      "source": [
        "# group by employee residence and calculate median salary in usd\n",
        "country_median_salary = dataset.groupby('employee_residence')['salary_in_usd'].median().sort_values()\n",
        "\n",
        "# display median salary in USD for the top-5 residence locations\n",
        "country_median_salary"
      ]
    },
    {
      "cell_type": "markdown",
      "id": "ccc1ee71-e743-40da-ad2c-6e8903627036",
      "metadata": {
        "id": "ccc1ee71-e743-40da-ad2c-6e8903627036"
      },
      "source": [
        "What is the average salary in USD based on the employment contract type?\n",
        "\n",
        "- FT: Full-time\n",
        "- PT: Part-time\n",
        "- CT: Contract\n",
        "- FL: Freelance"
      ]
    },
    {
      "cell_type": "code",
      "execution_count": null,
      "id": "2539dde5-d193-4b13-99cb-1d2e7df45496",
      "metadata": {
        "id": "2539dde5-d193-4b13-99cb-1d2e7df45496",
        "colab": {
          "base_uri": "https://localhost:8080/",
          "height": 571
        },
        "outputId": "f0c54fdb-e5a0-4337-98d1-cc285105d3cb"
      },
      "outputs": [
        {
          "output_type": "stream",
          "name": "stdout",
          "text": [
            "employment_type\n",
            "PT     39533.705882\n",
            "FL     51807.800000\n",
            "CT    113446.900000\n",
            "FT    138314.199570\n",
            "Name: salary_in_usd, dtype: float64\n"
          ]
        },
        {
          "output_type": "execute_result",
          "data": {
            "text/plain": [
              "<Axes: xlabel='employment_type'>"
            ]
          },
          "metadata": {},
          "execution_count": 6
        },
        {
          "output_type": "display_data",
          "data": {
            "text/plain": [
              "<Figure size 640x480 with 1 Axes>"
            ],
            "image/png": "[encoded data removed]"
          },
          "metadata": {}
        }
      ],
      "source": [
        "# group by employment type and calculate mean salary in usd\n",
        "employment_salary = dataset.groupby('employment_type')['salary_in_usd'].mean().sort_values()\n",
        "# display and visualise average salary in USD for each employment contract type on a bar plot\n",
        "print(employment_salary)\n",
        "sns.barplot(x=employment_salary.index, y=employment_salary.values)"
      ]
    },
    {
      "cell_type": "markdown",
      "id": "fd46d8ac-62d1-4214-9069-9812f93f2af6",
      "metadata": {
        "id": "fd46d8ac-62d1-4214-9069-9812f93f2af6"
      },
      "source": [
        "What is the average salary in USD based on the company size?\n",
        "\n",
        "- S: Small\n",
        "- M: Medium\n",
        "- L: Large"
      ]
    },
    {
      "cell_type": "code",
      "execution_count": null,
      "id": "166d8147-724a-41b9-83f4-40cb3076df29",
      "metadata": {
        "id": "166d8147-724a-41b9-83f4-40cb3076df29",
        "colab": {
          "base_uri": "https://localhost:8080/",
          "height": 554
        },
        "outputId": "6d13f255-5df6-47b9-b29c-02ae2910998e"
      },
      "outputs": [
        {
          "output_type": "stream",
          "name": "stdout",
          "text": [
            "company_size\n",
            "S     78226.682432\n",
            "L    118300.982379\n",
            "M    143130.548367\n",
            "Name: salary_in_usd, dtype: float64\n"
          ]
        },
        {
          "output_type": "execute_result",
          "data": {
            "text/plain": [
              "<Axes: xlabel='company_size'>"
            ]
          },
          "metadata": {},
          "execution_count": 7
        },
        {
          "output_type": "display_data",
          "data": {
            "text/plain": [
              "<Figure size 640x480 with 1 Axes>"
            ],
            "image/png": "[encoded data removed]"
          },
          "metadata": {}
        }
      ],
      "source": [
        "# group by company size and calculate mean salary in usd\n",
        "company_size_salary = dataset.groupby('company_size')['salary_in_usd'].mean().sort_values()\n",
        "# display and visualise average salary in USD for each company size category on a bar plot\n",
        "print(company_size_salary)\n",
        "sns.barplot(x=company_size_salary.index, y=company_size_salary.values)"
      ]
    },
    {
      "cell_type": "code",
      "execution_count": null,
      "id": "57d6a9c4-5cae-4ed8-bcf5-9d08961e6436",
      "metadata": {
        "id": "57d6a9c4-5cae-4ed8-bcf5-9d08961e6436"
      },
      "outputs": [],
      "source": [
        "data = pd.read_csv('salaries.csv')\n",
        "\n",
        "data['experience_level'] = data['experience_level'].map({\n",
        "    'EN': 'Entry',\n",
        "    'MI': 'Middle',\n",
        "    'SE': 'Senior',\n",
        "    'EX': 'Executive'\n",
        "})\n",
        "\n",
        "data['employment_type'] = data['employment_type'].map({\n",
        "    'FT': 'Full-time',\n",
        "    'PT': 'Part-time',\n",
        "    'CT': 'Contract',\n",
        "    'FL': 'Freelance'\n",
        "})\n",
        "\n",
        "data['company_size'] = data['company_size'].map({\n",
        "    'S': 'Small',\n",
        "    'M': 'Medium',\n",
        "    'L': 'Large'\n",
        "})\n",
        "\n",
        "data['remote_ratio'] = data['remote_ratio'].map({\n",
        "    100: 'remote',\n",
        "    0: 'onsite',\n",
        "    50: 'hybrid',\n",
        "})\n",
        "\n",
        "data = data.drop(['salary'], axis=1)\n",
        "data = data.rename(columns={'salary_in_usd': 'salary'})"
      ]
    },
    {
      "cell_type": "markdown",
      "id": "31728968-05b3-41d4-b31a-762048d8d919",
      "metadata": {
        "id": "31728968-05b3-41d4-b31a-762048d8d919"
      },
      "source": [
        "### Task 3. Encoding Features using One Hot Encoding"
      ]
    },
    {
      "cell_type": "code",
      "execution_count": null,
      "id": "e46d597c-aa24-4862-b85f-b6f47c5e1d9b",
      "metadata": {
        "id": "e46d597c-aa24-4862-b85f-b6f47c5e1d9b"
      },
      "outputs": [],
      "source": [
        "from sklearn.preprocessing import OneHotEncoder"
      ]
    },
    {
      "cell_type": "markdown",
      "id": "fd08f233-7bb5-46a6-a077-aa31871e2516",
      "metadata": {
        "id": "fd08f233-7bb5-46a6-a077-aa31871e2516"
      },
      "source": [
        "![one hot encoding.png](attachment:54def3bd-abeb-4a5f-ad93-fca7ec3d26bf.png)"
      ]
    },
    {
      "cell_type": "markdown",
      "id": "5df9eb40-0318-4bb0-838b-4dded9137efe",
      "metadata": {
        "tags": [],
        "id": "5df9eb40-0318-4bb0-838b-4dded9137efe"
      },
      "source": [
        "#### Option 1. Encoding categorical features with OneHotEncoder"
      ]
    },
    {
      "cell_type": "markdown",
      "id": "16d50ec3-58d5-402b-bbd7-e6a8f4dbefc3",
      "metadata": {
        "id": "16d50ec3-58d5-402b-bbd7-e6a8f4dbefc3"
      },
      "source": [
        "Fill in the blanks in the code to process categorical features [1 point]."
      ]
    },
    {
      "cell_type": "code",
      "execution_count": null,
      "id": "7a0f244a-e9ef-46b8-92e3-5533e002201e",
      "metadata": {
        "id": "7a0f244a-e9ef-46b8-92e3-5533e002201e",
        "colab": {
          "base_uri": "https://localhost:8080/",
          "height": 330
        },
        "outputId": "52b995d6-48e2-4b52-8a4a-0cf29824d624"
      },
      "outputs": [
        {
          "output_type": "execute_result",
          "data": {
            "text/plain": [
              "   work_year experience_level employment_type                 job_title  \\\n",
              "0       2023           Senior       Full-time  Principal Data Scientist   \n",
              "1       2023           Middle        Contract               ML Engineer   \n",
              "2       2023           Middle        Contract               ML Engineer   \n",
              "3       2023           Senior       Full-time            Data Scientist   \n",
              "4       2023           Senior       Full-time            Data Scientist   \n",
              "\n",
              "  salary_currency  salary employee_residence remote_ratio company_location  \\\n",
              "0             EUR   85847                 ES       remote               ES   \n",
              "1             USD   30000                 US       remote               US   \n",
              "2             USD   25500                 US       remote               US   \n",
              "3             USD  175000                 CA       remote               CA   \n",
              "4             USD  120000                 CA       remote               CA   \n",
              "\n",
              "  company_size  \n",
              "0        Large  \n",
              "1        Small  \n",
              "2        Small  \n",
              "3       Medium  \n",
              "4       Medium  "
            ],
            "text/html": [
              "\n",
              "  <div id=\"df-66c33b22-80cc-4a28-8340-4b4cb9538cbd\" class=\"colab-df-container\">\n",
              "    <div>\n",
              "<style scoped>\n",
              "    .dataframe tbody tr th:only-of-type {\n",
              "        vertical-align: middle;\n",
              "    }\n",
              "\n",
              "    .dataframe tbody tr th {\n",
              "        vertical-align: top;\n",
              "    }\n",
              "\n",
              "    .dataframe thead th {\n",
              "        text-align: right;\n",
              "    }\n",
              "</style>\n",
              "<table border=\"1\" class=\"dataframe\">\n",
              "  <thead>\n",
              "    <tr style=\"text-align: right;\">\n",
              "      <th></th>\n",
              "      <th>work_year</th>\n",
              "      <th>experience_level</th>\n",
              "      <th>employment_type</th>\n",
              "      <th>job_title</th>\n",
              "      <th>salary_currency</th>\n",
              "      <th>salary</th>\n",
              "      <th>employee_residence</th>\n",
              "      <th>remote_ratio</th>\n",
              "      <th>company_location</th>\n",
              "      <th>company_size</th>\n",
              "    </tr>\n",
              "  </thead>\n",
              "  <tbody>\n",
              "    <tr>\n",
              "      <th>0</th>\n",
              "      <td>2023</td>\n",
              "      <td>Senior</td>\n",
              "      <td>Full-time</td>\n",
              "      <td>Principal Data Scientist</td>\n",
              "      <td>EUR</td>\n",
              "      <td>85847</td>\n",
              "      <td>ES</td>\n",
              "      <td>remote</td>\n",
              "      <td>ES</td>\n",
              "      <td>Large</td>\n",
              "    </tr>\n",
              "    <tr>\n",
              "      <th>1</th>\n",
              "      <td>2023</td>\n",
              "      <td>Middle</td>\n",
              "      <td>Contract</td>\n",
              "      <td>ML Engineer</td>\n",
              "      <td>USD</td>\n",
              "      <td>30000</td>\n",
              "      <td>US</td>\n",
              "      <td>remote</td>\n",
              "      <td>US</td>\n",
              "      <td>Small</td>\n",
              "    </tr>\n",
              "    <tr>\n",
              "      <th>2</th>\n",
              "      <td>2023</td>\n",
              "      <td>Middle</td>\n",
              "      <td>Contract</td>\n",
              "      <td>ML Engineer</td>\n",
              "      <td>USD</td>\n",
              "      <td>25500</td>\n",
              "      <td>US</td>\n",
              "      <td>remote</td>\n",
              "      <td>US</td>\n",
              "      <td>Small</td>\n",
              "    </tr>\n",
              "    <tr>\n",
              "      <th>3</th>\n",
              "      <td>2023</td>\n",
              "      <td>Senior</td>\n",
              "      <td>Full-time</td>\n",
              "      <td>Data Scientist</td>\n",
              "      <td>USD</td>\n",
              "      <td>175000</td>\n",
              "      <td>CA</td>\n",
              "      <td>remote</td>\n",
              "      <td>CA</td>\n",
              "      <td>Medium</td>\n",
              "    </tr>\n",
              "    <tr>\n",
              "      <th>4</th>\n",
              "      <td>2023</td>\n",
              "      <td>Senior</td>\n",
              "      <td>Full-time</td>\n",
              "      <td>Data Scientist</td>\n",
              "      <td>USD</td>\n",
              "      <td>120000</td>\n",
              "      <td>CA</td>\n",
              "      <td>remote</td>\n",
              "      <td>CA</td>\n",
              "      <td>Medium</td>\n",
              "    </tr>\n",
              "  </tbody>\n",
              "</table>\n",
              "</div>\n",
              "    <div class=\"colab-df-buttons\">\n",
              "\n",
              "  <div class=\"colab-df-container\">\n",
              "    <button class=\"colab-df-convert\" onclick=\"convertToInteractive('df-66c33b22-80cc-4a28-8340-4b4cb9538cbd')\"\n",
              "            title=\"Convert this dataframe to an interactive table.\"\n",
              "            style=\"display:none;\">\n",
              "\n",
              "  <svg xmlns=\"http://www.w3.org/2000/svg\" height=\"24px\" viewBox=\"0 -960 960 960\">\n",
              "    <path d=\"M120-120v-720h720v720H120Zm60-500h600v-160H180v160Zm220 220h160v-160H400v160Zm0 220h160v-160H400v160ZM180-400h160v-160H180v160Zm440 0h160v-160H620v160ZM180-180h160v-160H180v160Zm440 0h160v-160H620v160Z\"/>\n",
              "  </svg>\n",
              "    </button>\n",
              "\n",
              "  <style>\n",
              "    .colab-df-container {\n",
              "      display:flex;\n",
              "      gap: 12px;\n",
              "    }\n",
              "\n",
              "    .colab-df-convert {\n",
              "      background-color: #E8F0FE;\n",
              "      border: none;\n",
              "      border-radius: 50%;\n",
              "      cursor: pointer;\n",
              "      display: none;\n",
              "      fill: #1967D2;\n",
              "      height: 32px;\n",
              "      padding: 0 0 0 0;\n",
              "      width: 32px;\n",
              "    }\n",
              "\n",
              "    .colab-df-convert:hover {\n",
              "      background-color: #E2EBFA;\n",
              "      box-shadow: 0px 1px 2px rgba(60, 64, 67, 0.3), 0px 1px 3px 1px rgba(60, 64, 67, 0.15);\n",
              "      fill: #174EA6;\n",
              "    }\n",
              "\n",
              "    .colab-df-buttons div {\n",
              "      margin-bottom: 4px;\n",
              "    }\n",
              "\n",
              "    [theme=dark] .colab-df-convert {\n",
              "      background-color: #3B4455;\n",
              "      fill: #D2E3FC;\n",
              "    }\n",
              "\n",
              "    [theme=dark] .colab-df-convert:hover {\n",
              "      background-color: #434B5C;\n",
              "      box-shadow: 0px 1px 3px 1px rgba(0, 0, 0, 0.15);\n",
              "      filter: drop-shadow(0px 1px 2px rgba(0, 0, 0, 0.3));\n",
              "      fill: #FFFFFF;\n",
              "    }\n",
              "  </style>\n",
              "\n",
              "    <script>\n",
              "      const buttonEl =\n",
              "        document.querySelector('#df-66c33b22-80cc-4a28-8340-4b4cb9538cbd button.colab-df-convert');\n",
              "      buttonEl.style.display =\n",
              "        google.colab.kernel.accessAllowed ? 'block' : 'none';\n",
              "\n",
              "      async function convertToInteractive(key) {\n",
              "        const element = document.querySelector('#df-66c33b22-80cc-4a28-8340-4b4cb9538cbd');\n",
              "        const dataTable =\n",
              "          await google.colab.kernel.invokeFunction('convertToInteractive',\n",
              "                                                    [key], {});\n",
              "        if (!dataTable) return;\n",
              "\n",
              "        const docLinkHtml = 'Like what you see? Visit the ' +\n",
              "          '<a target=\"_blank\" href=https://colab.research.google.com/notebooks/data_table.ipynb>data table notebook</a>'\n",
              "          + ' to learn more about interactive tables.';\n",
              "        element.innerHTML = '';\n",
              "        dataTable['output_type'] = 'display_data';\n",
              "        await google.colab.output.renderOutput(dataTable, element);\n",
              "        const docLink = document.createElement('div');\n",
              "        docLink.innerHTML = docLinkHtml;\n",
              "        element.appendChild(docLink);\n",
              "      }\n",
              "    </script>\n",
              "  </div>\n",
              "\n",
              "\n",
              "<div id=\"df-68b0e3a5-6012-410b-b7c8-1c55421f3a88\">\n",
              "  <button class=\"colab-df-quickchart\" onclick=\"quickchart('df-68b0e3a5-6012-410b-b7c8-1c55421f3a88')\"\n",
              "            title=\"Suggest charts\"\n",
              "            style=\"display:none;\">\n",
              "\n",
              "<svg xmlns=\"http://www.w3.org/2000/svg\" height=\"24px\"viewBox=\"0 0 24 24\"\n",
              "     width=\"24px\">\n",
              "    <g>\n",
              "        <path d=\"M19 3H5c-1.1 0-2 .9-2 2v14c0 1.1.9 2 2 2h14c1.1 0 2-.9 2-2V5c0-1.1-.9-2-2-2zM9 17H7v-7h2v7zm4 0h-2V7h2v10zm4 0h-2v-4h2v4z\"/>\n",
              "    </g>\n",
              "</svg>\n",
              "  </button>\n",
              "\n",
              "<style>\n",
              "  .colab-df-quickchart {\n",
              "      --bg-color: #E8F0FE;\n",
              "      --fill-color: #1967D2;\n",
              "      --hover-bg-color: #E2EBFA;\n",
              "      --hover-fill-color: #174EA6;\n",
              "      --disabled-fill-color: #AAA;\n",
              "      --disabled-bg-color: #DDD;\n",
              "  }\n",
              "\n",
              "  [theme=dark] .colab-df-quickchart {\n",
              "      --bg-color: #3B4455;\n",
              "      --fill-color: #D2E3FC;\n",
              "      --hover-bg-color: #434B5C;\n",
              "      --hover-fill-color: #FFFFFF;\n",
              "      --disabled-bg-color: #3B4455;\n",
              "      --disabled-fill-color: #666;\n",
              "  }\n",
              "\n",
              "  .colab-df-quickchart {\n",
              "    background-color: var(--bg-color);\n",
              "    border: none;\n",
              "    border-radius: 50%;\n",
              "    cursor: pointer;\n",
              "    display: none;\n",
              "    fill: var(--fill-color);\n",
              "    height: 32px;\n",
              "    padding: 0;\n",
              "    width: 32px;\n",
              "  }\n",
              "\n",
              "  .colab-df-quickchart:hover {\n",
              "    background-color: var(--hover-bg-color);\n",
              "    box-shadow: 0 1px 2px rgba(60, 64, 67, 0.3), 0 1px 3px 1px rgba(60, 64, 67, 0.15);\n",
              "    fill: var(--button-hover-fill-color);\n",
              "  }\n",
              "\n",
              "  .colab-df-quickchart-complete:disabled,\n",
              "  .colab-df-quickchart-complete:disabled:hover {\n",
              "    background-color: var(--disabled-bg-color);\n",
              "    fill: var(--disabled-fill-color);\n",
              "    box-shadow: none;\n",
              "  }\n",
              "\n",
              "  .colab-df-spinner {\n",
              "    border: 2px solid var(--fill-color);\n",
              "    border-color: transparent;\n",
              "    border-bottom-color: var(--fill-color);\n",
              "    animation:\n",
              "      spin 1s steps(1) infinite;\n",
              "  }\n",
              "\n",
              "  @keyframes spin {\n",
              "    0% {\n",
              "      border-color: transparent;\n",
              "      border-bottom-color: var(--fill-color);\n",
              "      border-left-color: var(--fill-color);\n",
              "    }\n",
              "    20% {\n",
              "      border-color: transparent;\n",
              "      border-left-color: var(--fill-color);\n",
              "      border-top-color: var(--fill-color);\n",
              "    }\n",
              "    30% {\n",
              "      border-color: transparent;\n",
              "      border-left-color: var(--fill-color);\n",
              "      border-top-color: var(--fill-color);\n",
              "      border-right-color: var(--fill-color);\n",
              "    }\n",
              "    40% {\n",
              "      border-color: transparent;\n",
              "      border-right-color: var(--fill-color);\n",
              "      border-top-color: var(--fill-color);\n",
              "    }\n",
              "    60% {\n",
              "      border-color: transparent;\n",
              "      border-right-color: var(--fill-color);\n",
              "    }\n",
              "    80% {\n",
              "      border-color: transparent;\n",
              "      border-right-color: var(--fill-color);\n",
              "      border-bottom-color: var(--fill-color);\n",
              "    }\n",
              "    90% {\n",
              "      border-color: transparent;\n",
              "      border-bottom-color: var(--fill-color);\n",
              "    }\n",
              "  }\n",
              "</style>\n",
              "\n",
              "  <script>\n",
              "    async function quickchart(key) {\n",
              "      const quickchartButtonEl =\n",
              "        document.querySelector('#' + key + ' button');\n",
              "      quickchartButtonEl.disabled = true;  // To prevent multiple clicks.\n",
              "      quickchartButtonEl.classList.add('colab-df-spinner');\n",
              "      try {\n",
              "        const charts = await google.colab.kernel.invokeFunction(\n",
              "            'suggestCharts', [key], {});\n",
              "      } catch (error) {\n",
              "        console.error('Error during call to suggestCharts:', error);\n",
              "      }\n",
              "      quickchartButtonEl.classList.remove('colab-df-spinner');\n",
              "      quickchartButtonEl.classList.add('colab-df-quickchart-complete');\n",
              "    }\n",
              "    (() => {\n",
              "      let quickchartButtonEl =\n",
              "        document.querySelector('#df-68b0e3a5-6012-410b-b7c8-1c55421f3a88 button');\n",
              "      quickchartButtonEl.style.display =\n",
              "        google.colab.kernel.accessAllowed ? 'block' : 'none';\n",
              "    })();\n",
              "  </script>\n",
              "</div>\n",
              "    </div>\n",
              "  </div>\n"
            ],
            "application/vnd.google.colaboratory.intrinsic+json": {
              "type": "dataframe",
              "variable_name": "data",
              "summary": "{\n  \"name\": \"data\",\n  \"rows\": 3755,\n  \"fields\": [\n    {\n      \"column\": \"work_year\",\n      \"properties\": {\n        \"dtype\": \"number\",\n        \"std\": 0,\n        \"min\": 2020,\n        \"max\": 2023,\n        \"num_unique_values\": 4,\n        \"samples\": [\n          2022,\n          2021,\n          2023\n        ],\n        \"semantic_type\": \"\",\n        \"description\": \"\"\n      }\n    },\n    {\n      \"column\": \"experience_level\",\n      \"properties\": {\n        \"dtype\": \"category\",\n        \"num_unique_values\": 4,\n        \"samples\": [\n          \"Middle\",\n          \"Executive\",\n          \"Senior\"\n        ],\n        \"semantic_type\": \"\",\n        \"description\": \"\"\n      }\n    },\n    {\n      \"column\": \"employment_type\",\n      \"properties\": {\n        \"dtype\": \"category\",\n        \"num_unique_values\": 4,\n        \"samples\": [\n          \"Contract\",\n          \"Part-time\",\n          \"Full-time\"\n        ],\n        \"semantic_type\": \"\",\n        \"description\": \"\"\n      }\n    },\n    {\n      \"column\": \"job_title\",\n      \"properties\": {\n        \"dtype\": \"category\",\n        \"num_unique_values\": 93,\n        \"samples\": [\n          \"Cloud Database Engineer\",\n          \"Staff Data Analyst\",\n          \"Insight Analyst\"\n        ],\n        \"semantic_type\": \"\",\n        \"description\": \"\"\n      }\n    },\n    {\n      \"column\": \"salary_currency\",\n      \"properties\": {\n        \"dtype\": \"category\",\n        \"num_unique_values\": 20,\n        \"samples\": [\n          \"EUR\",\n          \"MXN\",\n          \"DKK\"\n        ],\n        \"semantic_type\": \"\",\n        \"description\": \"\"\n      }\n    },\n    {\n      \"column\": \"salary\",\n      \"properties\": {\n        \"dtype\": \"number\",\n        \"std\": 63055,\n        \"min\": 5132,\n        \"max\": 450000,\n        \"num_unique_values\": 1035,\n        \"samples\": [\n          205600,\n          375000,\n          140700\n        ],\n        \"semantic_type\": \"\",\n        \"description\": \"\"\n      }\n    },\n    {\n      \"column\": \"employee_residence\",\n      \"properties\": {\n        \"dtype\": \"category\",\n        \"num_unique_values\": 78,\n        \"samples\": [\n          \"AR\",\n          \"ES\",\n          \"AM\"\n        ],\n        \"semantic_type\": \"\",\n        \"description\": \"\"\n      }\n    },\n    {\n      \"column\": \"remote_ratio\",\n      \"properties\": {\n        \"dtype\": \"category\",\n        \"num_unique_values\": 3,\n        \"samples\": [\n          \"remote\",\n          \"onsite\",\n          \"hybrid\"\n        ],\n        \"semantic_type\": \"\",\n        \"description\": \"\"\n      }\n    },\n    {\n      \"column\": \"company_location\",\n      \"properties\": {\n        \"dtype\": \"category\",\n        \"num_unique_values\": 72,\n        \"samples\": [\n          \"GB\",\n          \"MY\",\n          \"SG\"\n        ],\n        \"semantic_type\": \"\",\n        \"description\": \"\"\n      }\n    },\n    {\n      \"column\": \"company_size\",\n      \"properties\": {\n        \"dtype\": \"category\",\n        \"num_unique_values\": 3,\n        \"samples\": [\n          \"Large\",\n          \"Small\",\n          \"Medium\"\n        ],\n        \"semantic_type\": \"\",\n        \"description\": \"\"\n      }\n    }\n  ]\n}"
            }
          },
          "metadata": {},
          "execution_count": 5
        }
      ],
      "source": [
        "data.head()"
      ]
    },
    {
      "cell_type": "code",
      "execution_count": null,
      "id": "34e10796-5854-4440-8cc2-57fffa3da7e3",
      "metadata": {
        "id": "34e10796-5854-4440-8cc2-57fffa3da7e3",
        "colab": {
          "base_uri": "https://localhost:8080/",
          "height": 347
        },
        "outputId": "5fbaace0-98f6-430e-945b-a449654b1e24"
      },
      "outputs": [
        {
          "output_type": "stream",
          "name": "stdout",
          "text": [
            "Before One Hot Encoding:\n"
          ]
        },
        {
          "output_type": "display_data",
          "data": {
            "text/plain": [
              "  experience_level employment_type                 job_title remote_ratio  \\\n",
              "0           Senior       Full-time  Principal Data Scientist       remote   \n",
              "1           Middle        Contract               ML Engineer       remote   \n",
              "2           Middle        Contract               ML Engineer       remote   \n",
              "3           Senior       Full-time            Data Scientist       remote   \n",
              "4           Senior       Full-time            Data Scientist       remote   \n",
              "\n",
              "  salary_currency employee_residence company_location company_size  \n",
              "0             EUR                 ES               ES        Large  \n",
              "1             USD                 US               US        Small  \n",
              "2             USD                 US               US        Small  \n",
              "3             USD                 CA               CA       Medium  \n",
              "4             USD                 CA               CA       Medium  "
            ],
            "text/html": [
              "\n",
              "  <div id=\"df-5d783860-1676-45c3-88da-3430be0d6f3b\" class=\"colab-df-container\">\n",
              "    <div>\n",
              "<style scoped>\n",
              "    .dataframe tbody tr th:only-of-type {\n",
              "        vertical-align: middle;\n",
              "    }\n",
              "\n",
              "    .dataframe tbody tr th {\n",
              "        vertical-align: top;\n",
              "    }\n",
              "\n",
              "    .dataframe thead th {\n",
              "        text-align: right;\n",
              "    }\n",
              "</style>\n",
              "<table border=\"1\" class=\"dataframe\">\n",
              "  <thead>\n",
              "    <tr style=\"text-align: right;\">\n",
              "      <th></th>\n",
              "      <th>experience_level</th>\n",
              "      <th>employment_type</th>\n",
              "      <th>job_title</th>\n",
              "      <th>remote_ratio</th>\n",
              "      <th>salary_currency</th>\n",
              "      <th>employee_residence</th>\n",
              "      <th>company_location</th>\n",
              "      <th>company_size</th>\n",
              "    </tr>\n",
              "  </thead>\n",
              "  <tbody>\n",
              "    <tr>\n",
              "      <th>0</th>\n",
              "      <td>Senior</td>\n",
              "      <td>Full-time</td>\n",
              "      <td>Principal Data Scientist</td>\n",
              "      <td>remote</td>\n",
              "      <td>EUR</td>\n",
              "      <td>ES</td>\n",
              "      <td>ES</td>\n",
              "      <td>Large</td>\n",
              "    </tr>\n",
              "    <tr>\n",
              "      <th>1</th>\n",
              "      <td>Middle</td>\n",
              "      <td>Contract</td>\n",
              "      <td>ML Engineer</td>\n",
              "      <td>remote</td>\n",
              "      <td>USD</td>\n",
              "      <td>US</td>\n",
              "      <td>US</td>\n",
              "      <td>Small</td>\n",
              "    </tr>\n",
              "    <tr>\n",
              "      <th>2</th>\n",
              "      <td>Middle</td>\n",
              "      <td>Contract</td>\n",
              "      <td>ML Engineer</td>\n",
              "      <td>remote</td>\n",
              "      <td>USD</td>\n",
              "      <td>US</td>\n",
              "      <td>US</td>\n",
              "      <td>Small</td>\n",
              "    </tr>\n",
              "    <tr>\n",
              "      <th>3</th>\n",
              "      <td>Senior</td>\n",
              "      <td>Full-time</td>\n",
              "      <td>Data Scientist</td>\n",
              "      <td>remote</td>\n",
              "      <td>USD</td>\n",
              "      <td>CA</td>\n",
              "      <td>CA</td>\n",
              "      <td>Medium</td>\n",
              "    </tr>\n",
              "    <tr>\n",
              "      <th>4</th>\n",
              "      <td>Senior</td>\n",
              "      <td>Full-time</td>\n",
              "      <td>Data Scientist</td>\n",
              "      <td>remote</td>\n",
              "      <td>USD</td>\n",
              "      <td>CA</td>\n",
              "      <td>CA</td>\n",
              "      <td>Medium</td>\n",
              "    </tr>\n",
              "  </tbody>\n",
              "</table>\n",
              "</div>\n",
              "    <div class=\"colab-df-buttons\">\n",
              "\n",
              "  <div class=\"colab-df-container\">\n",
              "    <button class=\"colab-df-convert\" onclick=\"convertToInteractive('df-5d783860-1676-45c3-88da-3430be0d6f3b')\"\n",
              "            title=\"Convert this dataframe to an interactive table.\"\n",
              "            style=\"display:none;\">\n",
              "\n",
              "  <svg xmlns=\"http://www.w3.org/2000/svg\" height=\"24px\" viewBox=\"0 -960 960 960\">\n",
              "    <path d=\"M120-120v-720h720v720H120Zm60-500h600v-160H180v160Zm220 220h160v-160H400v160Zm0 220h160v-160H400v160ZM180-400h160v-160H180v160Zm440 0h160v-160H620v160ZM180-180h160v-160H180v160Zm440 0h160v-160H620v160Z\"/>\n",
              "  </svg>\n",
              "    </button>\n",
              "\n",
              "  <style>\n",
              "    .colab-df-container {\n",
              "      display:flex;\n",
              "      gap: 12px;\n",
              "    }\n",
              "\n",
              "    .colab-df-convert {\n",
              "      background-color: #E8F0FE;\n",
              "      border: none;\n",
              "      border-radius: 50%;\n",
              "      cursor: pointer;\n",
              "      display: none;\n",
              "      fill: #1967D2;\n",
              "      height: 32px;\n",
              "      padding: 0 0 0 0;\n",
              "      width: 32px;\n",
              "    }\n",
              "\n",
              "    .colab-df-convert:hover {\n",
              "      background-color: #E2EBFA;\n",
              "      box-shadow: 0px 1px 2px rgba(60, 64, 67, 0.3), 0px 1px 3px 1px rgba(60, 64, 67, 0.15);\n",
              "      fill: #174EA6;\n",
              "    }\n",
              "\n",
              "    .colab-df-buttons div {\n",
              "      margin-bottom: 4px;\n",
              "    }\n",
              "\n",
              "    [theme=dark] .colab-df-convert {\n",
              "      background-color: #3B4455;\n",
              "      fill: #D2E3FC;\n",
              "    }\n",
              "\n",
              "    [theme=dark] .colab-df-convert:hover {\n",
              "      background-color: #434B5C;\n",
              "      box-shadow: 0px 1px 3px 1px rgba(0, 0, 0, 0.15);\n",
              "      filter: drop-shadow(0px 1px 2px rgba(0, 0, 0, 0.3));\n",
              "      fill: #FFFFFF;\n",
              "    }\n",
              "  </style>\n",
              "\n",
              "    <script>\n",
              "      const buttonEl =\n",
              "        document.querySelector('#df-5d783860-1676-45c3-88da-3430be0d6f3b button.colab-df-convert');\n",
              "      buttonEl.style.display =\n",
              "        google.colab.kernel.accessAllowed ? 'block' : 'none';\n",
              "\n",
              "      async function convertToInteractive(key) {\n",
              "        const element = document.querySelector('#df-5d783860-1676-45c3-88da-3430be0d6f3b');\n",
              "        const dataTable =\n",
              "          await google.colab.kernel.invokeFunction('convertToInteractive',\n",
              "                                                    [key], {});\n",
              "        if (!dataTable) return;\n",
              "\n",
              "        const docLinkHtml = 'Like what you see? Visit the ' +\n",
              "          '<a target=\"_blank\" href=https://colab.research.google.com/notebooks/data_table.ipynb>data table notebook</a>'\n",
              "          + ' to learn more about interactive tables.';\n",
              "        element.innerHTML = '';\n",
              "        dataTable['output_type'] = 'display_data';\n",
              "        await google.colab.output.renderOutput(dataTable, element);\n",
              "        const docLink = document.createElement('div');\n",
              "        docLink.innerHTML = docLinkHtml;\n",
              "        element.appendChild(docLink);\n",
              "      }\n",
              "    </script>\n",
              "  </div>\n",
              "\n",
              "\n",
              "<div id=\"df-8303db5c-7223-41ff-8622-99d443f110fb\">\n",
              "  <button class=\"colab-df-quickchart\" onclick=\"quickchart('df-8303db5c-7223-41ff-8622-99d443f110fb')\"\n",
              "            title=\"Suggest charts\"\n",
              "            style=\"display:none;\">\n",
              "\n",
              "<svg xmlns=\"http://www.w3.org/2000/svg\" height=\"24px\"viewBox=\"0 0 24 24\"\n",
              "     width=\"24px\">\n",
              "    <g>\n",
              "        <path d=\"M19 3H5c-1.1 0-2 .9-2 2v14c0 1.1.9 2 2 2h14c1.1 0 2-.9 2-2V5c0-1.1-.9-2-2-2zM9 17H7v-7h2v7zm4 0h-2V7h2v10zm4 0h-2v-4h2v4z\"/>\n",
              "    </g>\n",
              "</svg>\n",
              "  </button>\n",
              "\n",
              "<style>\n",
              "  .colab-df-quickchart {\n",
              "      --bg-color: #E8F0FE;\n",
              "      --fill-color: #1967D2;\n",
              "      --hover-bg-color: #E2EBFA;\n",
              "      --hover-fill-color: #174EA6;\n",
              "      --disabled-fill-color: #AAA;\n",
              "      --disabled-bg-color: #DDD;\n",
              "  }\n",
              "\n",
              "  [theme=dark] .colab-df-quickchart {\n",
              "      --bg-color: #3B4455;\n",
              "      --fill-color: #D2E3FC;\n",
              "      --hover-bg-color: #434B5C;\n",
              "      --hover-fill-color: #FFFFFF;\n",
              "      --disabled-bg-color: #3B4455;\n",
              "      --disabled-fill-color: #666;\n",
              "  }\n",
              "\n",
              "  .colab-df-quickchart {\n",
              "    background-color: var(--bg-color);\n",
              "    border: none;\n",
              "    border-radius: 50%;\n",
              "    cursor: pointer;\n",
              "    display: none;\n",
              "    fill: var(--fill-color);\n",
              "    height: 32px;\n",
              "    padding: 0;\n",
              "    width: 32px;\n",
              "  }\n",
              "\n",
              "  .colab-df-quickchart:hover {\n",
              "    background-color: var(--hover-bg-color);\n",
              "    box-shadow: 0 1px 2px rgba(60, 64, 67, 0.3), 0 1px 3px 1px rgba(60, 64, 67, 0.15);\n",
              "    fill: var(--button-hover-fill-color);\n",
              "  }\n",
              "\n",
              "  .colab-df-quickchart-complete:disabled,\n",
              "  .colab-df-quickchart-complete:disabled:hover {\n",
              "    background-color: var(--disabled-bg-color);\n",
              "    fill: var(--disabled-fill-color);\n",
              "    box-shadow: none;\n",
              "  }\n",
              "\n",
              "  .colab-df-spinner {\n",
              "    border: 2px solid var(--fill-color);\n",
              "    border-color: transparent;\n",
              "    border-bottom-color: var(--fill-color);\n",
              "    animation:\n",
              "      spin 1s steps(1) infinite;\n",
              "  }\n",
              "\n",
              "  @keyframes spin {\n",
              "    0% {\n",
              "      border-color: transparent;\n",
              "      border-bottom-color: var(--fill-color);\n",
              "      border-left-color: var(--fill-color);\n",
              "    }\n",
              "    20% {\n",
              "      border-color: transparent;\n",
              "      border-left-color: var(--fill-color);\n",
              "      border-top-color: var(--fill-color);\n",
              "    }\n",
              "    30% {\n",
              "      border-color: transparent;\n",
              "      border-left-color: var(--fill-color);\n",
              "      border-top-color: var(--fill-color);\n",
              "      border-right-color: var(--fill-color);\n",
              "    }\n",
              "    40% {\n",
              "      border-color: transparent;\n",
              "      border-right-color: var(--fill-color);\n",
              "      border-top-color: var(--fill-color);\n",
              "    }\n",
              "    60% {\n",
              "      border-color: transparent;\n",
              "      border-right-color: var(--fill-color);\n",
              "    }\n",
              "    80% {\n",
              "      border-color: transparent;\n",
              "      border-right-color: var(--fill-color);\n",
              "      border-bottom-color: var(--fill-color);\n",
              "    }\n",
              "    90% {\n",
              "      border-color: transparent;\n",
              "      border-bottom-color: var(--fill-color);\n",
              "    }\n",
              "  }\n",
              "</style>\n",
              "\n",
              "  <script>\n",
              "    async function quickchart(key) {\n",
              "      const quickchartButtonEl =\n",
              "        document.querySelector('#' + key + ' button');\n",
              "      quickchartButtonEl.disabled = true;  // To prevent multiple clicks.\n",
              "      quickchartButtonEl.classList.add('colab-df-spinner');\n",
              "      try {\n",
              "        const charts = await google.colab.kernel.invokeFunction(\n",
              "            'suggestCharts', [key], {});\n",
              "      } catch (error) {\n",
              "        console.error('Error during call to suggestCharts:', error);\n",
              "      }\n",
              "      quickchartButtonEl.classList.remove('colab-df-spinner');\n",
              "      quickchartButtonEl.classList.add('colab-df-quickchart-complete');\n",
              "    }\n",
              "    (() => {\n",
              "      let quickchartButtonEl =\n",
              "        document.querySelector('#df-8303db5c-7223-41ff-8622-99d443f110fb button');\n",
              "      quickchartButtonEl.style.display =\n",
              "        google.colab.kernel.accessAllowed ? 'block' : 'none';\n",
              "    })();\n",
              "  </script>\n",
              "</div>\n",
              "    </div>\n",
              "  </div>\n"
            ],
            "application/vnd.google.colaboratory.intrinsic+json": {
              "type": "dataframe",
              "summary": "{\n  \"name\": \"display(data_to_encode\",\n  \"rows\": 5,\n  \"fields\": [\n    {\n      \"column\": \"experience_level\",\n      \"properties\": {\n        \"dtype\": \"category\",\n        \"num_unique_values\": 2,\n        \"samples\": [\n          \"Middle\",\n          \"Senior\"\n        ],\n        \"semantic_type\": \"\",\n        \"description\": \"\"\n      }\n    },\n    {\n      \"column\": \"employment_type\",\n      \"properties\": {\n        \"dtype\": \"category\",\n        \"num_unique_values\": 2,\n        \"samples\": [\n          \"Contract\",\n          \"Full-time\"\n        ],\n        \"semantic_type\": \"\",\n        \"description\": \"\"\n      }\n    },\n    {\n      \"column\": \"job_title\",\n      \"properties\": {\n        \"dtype\": \"string\",\n        \"num_unique_values\": 3,\n        \"samples\": [\n          \"Principal Data Scientist\",\n          \"ML Engineer\"\n        ],\n        \"semantic_type\": \"\",\n        \"description\": \"\"\n      }\n    },\n    {\n      \"column\": \"remote_ratio\",\n      \"properties\": {\n        \"dtype\": \"category\",\n        \"num_unique_values\": 1,\n        \"samples\": [\n          \"remote\"\n        ],\n        \"semantic_type\": \"\",\n        \"description\": \"\"\n      }\n    },\n    {\n      \"column\": \"salary_currency\",\n      \"properties\": {\n        \"dtype\": \"category\",\n        \"num_unique_values\": 2,\n        \"samples\": [\n          \"USD\"\n        ],\n        \"semantic_type\": \"\",\n        \"description\": \"\"\n      }\n    },\n    {\n      \"column\": \"employee_residence\",\n      \"properties\": {\n        \"dtype\": \"string\",\n        \"num_unique_values\": 3,\n        \"samples\": [\n          \"ES\"\n        ],\n        \"semantic_type\": \"\",\n        \"description\": \"\"\n      }\n    },\n    {\n      \"column\": \"company_location\",\n      \"properties\": {\n        \"dtype\": \"string\",\n        \"num_unique_values\": 3,\n        \"samples\": [\n          \"ES\"\n        ],\n        \"semantic_type\": \"\",\n        \"description\": \"\"\n      }\n    },\n    {\n      \"column\": \"company_size\",\n      \"properties\": {\n        \"dtype\": \"string\",\n        \"num_unique_values\": 3,\n        \"samples\": [\n          \"Large\"\n        ],\n        \"semantic_type\": \"\",\n        \"description\": \"\"\n      }\n    }\n  ]\n}"
            }
          },
          "metadata": {}
        }
      ],
      "source": [
        "# pass ALL categorical columns from in 'salaries.csv' dataset to columns=[ ] argument\n",
        "data_to_encode = pd.DataFrame(data=data, columns=['experience_level', 'employment_type', 'job_title',\n",
        "      'remote_ratio', 'salary_currency', 'employee_residence',\n",
        "      'company_location', 'company_size'])\n",
        "\n",
        "print('Before One Hot Encoding:')\n",
        "display(data_to_encode.head())"
      ]
    },
    {
      "cell_type": "code",
      "execution_count": null,
      "id": "f3d75eb0-7e96-4a6e-a1b6-5cc70bac982f",
      "metadata": {
        "id": "f3d75eb0-7e96-4a6e-a1b6-5cc70bac982f",
        "colab": {
          "base_uri": "https://localhost:8080/"
        },
        "outputId": "1ddbe952-e356-4b17-f9b0-512ed3eea71c"
      },
      "outputs": [
        {
          "output_type": "stream",
          "name": "stderr",
          "text": [
            "/usr/local/lib/python3.10/dist-packages/sklearn/preprocessing/_encoders.py:868: FutureWarning: `sparse` was renamed to `sparse_output` in version 1.2 and will be removed in 1.4. `sparse_output` is ignored unless you leave `sparse` to its default value.\n",
            "  warnings.warn(\n"
          ]
        },
        {
          "output_type": "execute_result",
          "data": {
            "text/plain": [
              "<3755x277 sparse matrix of type '<class 'numpy.float64'>'\n",
              "\twith 30040 stored elements in Compressed Sparse Row format>"
            ]
          },
          "metadata": {},
          "execution_count": 8
        }
      ],
      "source": [
        "# encode categorical features with OneHotEncoder() method\n",
        "one_hot_encoder = OneHotEncoder(handle_unknown='ignore', sparse=True)\n",
        "one_hot_encoder.fit(data_to_encode)\n",
        "results_ohe = one_hot_encoder.transform(data_to_encode)\n",
        "results_ohe"
      ]
    },
    {
      "cell_type": "code",
      "execution_count": null,
      "id": "cd91f4f1-53b5-46ae-bd00-4055ca79ea88",
      "metadata": {
        "id": "cd91f4f1-53b5-46ae-bd00-4055ca79ea88",
        "colab": {
          "base_uri": "https://localhost:8080/",
          "height": 530
        },
        "outputId": "01c0b8e7-b36f-4f07-9680-787b86f8c9b3"
      },
      "outputs": [
        {
          "output_type": "stream",
          "name": "stdout",
          "text": [
            "\n",
            "After One Hot Encoding:\n"
          ]
        },
        {
          "output_type": "display_data",
          "data": {
            "text/plain": [
              "      experience_level_Entry  experience_level_Executive  \\\n",
              "0                        0.0                         0.0   \n",
              "1                        0.0                         0.0   \n",
              "2                        0.0                         0.0   \n",
              "3                        0.0                         0.0   \n",
              "4                        0.0                         0.0   \n",
              "...                      ...                         ...   \n",
              "3750                     0.0                         0.0   \n",
              "3751                     0.0                         0.0   \n",
              "3752                     1.0                         0.0   \n",
              "3753                     1.0                         0.0   \n",
              "3754                     0.0                         0.0   \n",
              "\n",
              "      experience_level_Middle  experience_level_Senior  \\\n",
              "0                         0.0                      1.0   \n",
              "1                         1.0                      0.0   \n",
              "2                         1.0                      0.0   \n",
              "3                         0.0                      1.0   \n",
              "4                         0.0                      1.0   \n",
              "...                       ...                      ...   \n",
              "3750                      0.0                      1.0   \n",
              "3751                      1.0                      0.0   \n",
              "3752                      0.0                      0.0   \n",
              "3753                      0.0                      0.0   \n",
              "3754                      0.0                      1.0   \n",
              "\n",
              "      employment_type_Contract  employment_type_Freelance  \\\n",
              "0                          0.0                        0.0   \n",
              "1                          1.0                        0.0   \n",
              "2                          1.0                        0.0   \n",
              "3                          0.0                        0.0   \n",
              "4                          0.0                        0.0   \n",
              "...                        ...                        ...   \n",
              "3750                       0.0                        0.0   \n",
              "3751                       0.0                        0.0   \n",
              "3752                       0.0                        0.0   \n",
              "3753                       1.0                        0.0   \n",
              "3754                       0.0                        0.0   \n",
              "\n",
              "      employment_type_Full-time  employment_type_Part-time  \\\n",
              "0                           1.0                        0.0   \n",
              "1                           0.0                        0.0   \n",
              "2                           0.0                        0.0   \n",
              "3                           1.0                        0.0   \n",
              "4                           1.0                        0.0   \n",
              "...                         ...                        ...   \n",
              "3750                        1.0                        0.0   \n",
              "3751                        1.0                        0.0   \n",
              "3752                        1.0                        0.0   \n",
              "3753                        0.0                        0.0   \n",
              "3754                        1.0                        0.0   \n",
              "\n",
              "      job_title_3D Computer Vision Researcher  job_title_AI Developer  ...  \\\n",
              "0                                         0.0                     0.0  ...   \n",
              "1                                         0.0                     0.0  ...   \n",
              "2                                         0.0                     0.0  ...   \n",
              "3                                         0.0                     0.0  ...   \n",
              "4                                         0.0                     0.0  ...   \n",
              "...                                       ...                     ...  ...   \n",
              "3750                                      0.0                     0.0  ...   \n",
              "3751                                      0.0                     0.0  ...   \n",
              "3752                                      0.0                     0.0  ...   \n",
              "3753                                      0.0                     0.0  ...   \n",
              "3754                                      0.0                     0.0  ...   \n",
              "\n",
              "      company_location_SI  company_location_SK  company_location_TH  \\\n",
              "0                     0.0                  0.0                  0.0   \n",
              "1                     0.0                  0.0                  0.0   \n",
              "2                     0.0                  0.0                  0.0   \n",
              "3                     0.0                  0.0                  0.0   \n",
              "4                     0.0                  0.0                  0.0   \n",
              "...                   ...                  ...                  ...   \n",
              "3750                  0.0                  0.0                  0.0   \n",
              "3751                  0.0                  0.0                  0.0   \n",
              "3752                  0.0                  0.0                  0.0   \n",
              "3753                  0.0                  0.0                  0.0   \n",
              "3754                  0.0                  0.0                  0.0   \n",
              "\n",
              "      company_location_TR  company_location_UA  company_location_US  \\\n",
              "0                     0.0                  0.0                  0.0   \n",
              "1                     0.0                  0.0                  1.0   \n",
              "2                     0.0                  0.0                  1.0   \n",
              "3                     0.0                  0.0                  0.0   \n",
              "4                     0.0                  0.0                  0.0   \n",
              "...                   ...                  ...                  ...   \n",
              "3750                  0.0                  0.0                  1.0   \n",
              "3751                  0.0                  0.0                  1.0   \n",
              "3752                  0.0                  0.0                  1.0   \n",
              "3753                  0.0                  0.0                  1.0   \n",
              "3754                  0.0                  0.0                  0.0   \n",
              "\n",
              "      company_location_VN  company_size_Large  company_size_Medium  \\\n",
              "0                     0.0                 1.0                  0.0   \n",
              "1                     0.0                 0.0                  0.0   \n",
              "2                     0.0                 0.0                  0.0   \n",
              "3                     0.0                 0.0                  1.0   \n",
              "4                     0.0                 0.0                  1.0   \n",
              "...                   ...                 ...                  ...   \n",
              "3750                  0.0                 1.0                  0.0   \n",
              "3751                  0.0                 1.0                  0.0   \n",
              "3752                  0.0                 0.0                  0.0   \n",
              "3753                  0.0                 1.0                  0.0   \n",
              "3754                  0.0                 1.0                  0.0   \n",
              "\n",
              "      company_size_Small  \n",
              "0                    0.0  \n",
              "1                    1.0  \n",
              "2                    1.0  \n",
              "3                    0.0  \n",
              "4                    0.0  \n",
              "...                  ...  \n",
              "3750                 0.0  \n",
              "3751                 0.0  \n",
              "3752                 1.0  \n",
              "3753                 0.0  \n",
              "3754                 0.0  \n",
              "\n",
              "[3755 rows x 277 columns]"
            ],
            "text/html": [
              "\n",
              "  <div id=\"df-2b4b4fd1-b676-4574-b0c7-469b3251f143\" class=\"colab-df-container\">\n",
              "    <div>\n",
              "<style scoped>\n",
              "    .dataframe tbody tr th:only-of-type {\n",
              "        vertical-align: middle;\n",
              "    }\n",
              "\n",
              "    .dataframe tbody tr th {\n",
              "        vertical-align: top;\n",
              "    }\n",
              "\n",
              "    .dataframe thead th {\n",
              "        text-align: right;\n",
              "    }\n",
              "</style>\n",
              "<table border=\"1\" class=\"dataframe\">\n",
              "  <thead>\n",
              "    <tr style=\"text-align: right;\">\n",
              "      <th></th>\n",
              "      <th>experience_level_Entry</th>\n",
              "      <th>experience_level_Executive</th>\n",
              "      <th>experience_level_Middle</th>\n",
              "      <th>experience_level_Senior</th>\n",
              "      <th>employment_type_Contract</th>\n",
              "      <th>employment_type_Freelance</th>\n",
              "      <th>employment_type_Full-time</th>\n",
              "      <th>employment_type_Part-time</th>\n",
              "      <th>job_title_3D Computer Vision Researcher</th>\n",
              "      <th>job_title_AI Developer</th>\n",
              "      <th>...</th>\n",
              "      <th>company_location_SI</th>\n",
              "      <th>company_location_SK</th>\n",
              "      <th>company_location_TH</th>\n",
              "      <th>company_location_TR</th>\n",
              "      <th>company_location_UA</th>\n",
              "      <th>company_location_US</th>\n",
              "      <th>company_location_VN</th>\n",
              "      <th>company_size_Large</th>\n",
              "      <th>company_size_Medium</th>\n",
              "      <th>company_size_Small</th>\n",
              "    </tr>\n",
              "  </thead>\n",
              "  <tbody>\n",
              "    <tr>\n",
              "      <th>0</th>\n",
              "      <td>0.0</td>\n",
              "      <td>0.0</td>\n",
              "      <td>0.0</td>\n",
              "      <td>1.0</td>\n",
              "      <td>0.0</td>\n",
              "      <td>0.0</td>\n",
              "      <td>1.0</td>\n",
              "      <td>0.0</td>\n",
              "      <td>0.0</td>\n",
              "      <td>0.0</td>\n",
              "      <td>...</td>\n",
              "      <td>0.0</td>\n",
              "      <td>0.0</td>\n",
              "      <td>0.0</td>\n",
              "      <td>0.0</td>\n",
              "      <td>0.0</td>\n",
              "      <td>0.0</td>\n",
              "      <td>0.0</td>\n",
              "      <td>1.0</td>\n",
              "      <td>0.0</td>\n",
              "      <td>0.0</td>\n",
              "    </tr>\n",
              "    <tr>\n",
              "      <th>1</th>\n",
              "      <td>0.0</td>\n",
              "      <td>0.0</td>\n",
              "      <td>1.0</td>\n",
              "      <td>0.0</td>\n",
              "      <td>1.0</td>\n",
              "      <td>0.0</td>\n",
              "      <td>0.0</td>\n",
              "      <td>0.0</td>\n",
              "      <td>0.0</td>\n",
              "      <td>0.0</td>\n",
              "      <td>...</td>\n",
              "      <td>0.0</td>\n",
              "      <td>0.0</td>\n",
              "      <td>0.0</td>\n",
              "      <td>0.0</td>\n",
              "      <td>0.0</td>\n",
              "      <td>1.0</td>\n",
              "      <td>0.0</td>\n",
              "      <td>0.0</td>\n",
              "      <td>0.0</td>\n",
              "      <td>1.0</td>\n",
              "    </tr>\n",
              "    <tr>\n",
              "      <th>2</th>\n",
              "      <td>0.0</td>\n",
              "      <td>0.0</td>\n",
              "      <td>1.0</td>\n",
              "      <td>0.0</td>\n",
              "      <td>1.0</td>\n",
              "      <td>0.0</td>\n",
              "      <td>0.0</td>\n",
              "      <td>0.0</td>\n",
              "      <td>0.0</td>\n",
              "      <td>0.0</td>\n",
              "      <td>...</td>\n",
              "      <td>0.0</td>\n",
              "      <td>0.0</td>\n",
              "      <td>0.0</td>\n",
              "      <td>0.0</td>\n",
              "      <td>0.0</td>\n",
              "      <td>1.0</td>\n",
              "      <td>0.0</td>\n",
              "      <td>0.0</td>\n",
              "      <td>0.0</td>\n",
              "      <td>1.0</td>\n",
              "    </tr>\n",
              "    <tr>\n",
              "      <th>3</th>\n",
              "      <td>0.0</td>\n",
              "      <td>0.0</td>\n",
              "      <td>0.0</td>\n",
              "      <td>1.0</td>\n",
              "      <td>0.0</td>\n",
              "      <td>0.0</td>\n",
              "      <td>1.0</td>\n",
              "      <td>0.0</td>\n",
              "      <td>0.0</td>\n",
              "      <td>0.0</td>\n",
              "      <td>...</td>\n",
              "      <td>0.0</td>\n",
              "      <td>0.0</td>\n",
              "      <td>0.0</td>\n",
              "      <td>0.0</td>\n",
              "      <td>0.0</td>\n",
              "      <td>0.0</td>\n",
              "      <td>0.0</td>\n",
              "      <td>0.0</td>\n",
              "      <td>1.0</td>\n",
              "      <td>0.0</td>\n",
              "    </tr>\n",
              "    <tr>\n",
              "      <th>4</th>\n",
              "      <td>0.0</td>\n",
              "      <td>0.0</td>\n",
              "      <td>0.0</td>\n",
              "      <td>1.0</td>\n",
              "      <td>0.0</td>\n",
              "      <td>0.0</td>\n",
              "      <td>1.0</td>\n",
              "      <td>0.0</td>\n",
              "      <td>0.0</td>\n",
              "      <td>0.0</td>\n",
              "      <td>...</td>\n",
              "      <td>0.0</td>\n",
              "      <td>0.0</td>\n",
              "      <td>0.0</td>\n",
              "      <td>0.0</td>\n",
              "      <td>0.0</td>\n",
              "      <td>0.0</td>\n",
              "      <td>0.0</td>\n",
              "      <td>0.0</td>\n",
              "      <td>1.0</td>\n",
              "      <td>0.0</td>\n",
              "    </tr>\n",
              "    <tr>\n",
              "      <th>...</th>\n",
              "      <td>...</td>\n",
              "      <td>...</td>\n",
              "      <td>...</td>\n",
              "      <td>...</td>\n",
              "      <td>...</td>\n",
              "      <td>...</td>\n",
              "      <td>...</td>\n",
              "      <td>...</td>\n",
              "      <td>...</td>\n",
              "      <td>...</td>\n",
              "      <td>...</td>\n",
              "      <td>...</td>\n",
              "      <td>...</td>\n",
              "      <td>...</td>\n",
              "      <td>...</td>\n",
              "      <td>...</td>\n",
              "      <td>...</td>\n",
              "      <td>...</td>\n",
              "      <td>...</td>\n",
              "      <td>...</td>\n",
              "      <td>...</td>\n",
              "    </tr>\n",
              "    <tr>\n",
              "      <th>3750</th>\n",
              "      <td>0.0</td>\n",
              "      <td>0.0</td>\n",
              "      <td>0.0</td>\n",
              "      <td>1.0</td>\n",
              "      <td>0.0</td>\n",
              "      <td>0.0</td>\n",
              "      <td>1.0</td>\n",
              "      <td>0.0</td>\n",
              "      <td>0.0</td>\n",
              "      <td>0.0</td>\n",
              "      <td>...</td>\n",
              "      <td>0.0</td>\n",
              "      <td>0.0</td>\n",
              "      <td>0.0</td>\n",
              "      <td>0.0</td>\n",
              "      <td>0.0</td>\n",
              "      <td>1.0</td>\n",
              "      <td>0.0</td>\n",
              "      <td>1.0</td>\n",
              "      <td>0.0</td>\n",
              "      <td>0.0</td>\n",
              "    </tr>\n",
              "    <tr>\n",
              "      <th>3751</th>\n",
              "      <td>0.0</td>\n",
              "      <td>0.0</td>\n",
              "      <td>1.0</td>\n",
              "      <td>0.0</td>\n",
              "      <td>0.0</td>\n",
              "      <td>0.0</td>\n",
              "      <td>1.0</td>\n",
              "      <td>0.0</td>\n",
              "      <td>0.0</td>\n",
              "      <td>0.0</td>\n",
              "      <td>...</td>\n",
              "      <td>0.0</td>\n",
              "      <td>0.0</td>\n",
              "      <td>0.0</td>\n",
              "      <td>0.0</td>\n",
              "      <td>0.0</td>\n",
              "      <td>1.0</td>\n",
              "      <td>0.0</td>\n",
              "      <td>1.0</td>\n",
              "      <td>0.0</td>\n",
              "      <td>0.0</td>\n",
              "    </tr>\n",
              "    <tr>\n",
              "      <th>3752</th>\n",
              "      <td>1.0</td>\n",
              "      <td>0.0</td>\n",
              "      <td>0.0</td>\n",
              "      <td>0.0</td>\n",
              "      <td>0.0</td>\n",
              "      <td>0.0</td>\n",
              "      <td>1.0</td>\n",
              "      <td>0.0</td>\n",
              "      <td>0.0</td>\n",
              "      <td>0.0</td>\n",
              "      <td>...</td>\n",
              "      <td>0.0</td>\n",
              "      <td>0.0</td>\n",
              "      <td>0.0</td>\n",
              "      <td>0.0</td>\n",
              "      <td>0.0</td>\n",
              "      <td>1.0</td>\n",
              "      <td>0.0</td>\n",
              "      <td>0.0</td>\n",
              "      <td>0.0</td>\n",
              "      <td>1.0</td>\n",
              "    </tr>\n",
              "    <tr>\n",
              "      <th>3753</th>\n",
              "      <td>1.0</td>\n",
              "      <td>0.0</td>\n",
              "      <td>0.0</td>\n",
              "      <td>0.0</td>\n",
              "      <td>1.0</td>\n",
              "      <td>0.0</td>\n",
              "      <td>0.0</td>\n",
              "      <td>0.0</td>\n",
              "      <td>0.0</td>\n",
              "      <td>0.0</td>\n",
              "      <td>...</td>\n",
              "      <td>0.0</td>\n",
              "      <td>0.0</td>\n",
              "      <td>0.0</td>\n",
              "      <td>0.0</td>\n",
              "      <td>0.0</td>\n",
              "      <td>1.0</td>\n",
              "      <td>0.0</td>\n",
              "      <td>1.0</td>\n",
              "      <td>0.0</td>\n",
              "      <td>0.0</td>\n",
              "    </tr>\n",
              "    <tr>\n",
              "      <th>3754</th>\n",
              "      <td>0.0</td>\n",
              "      <td>0.0</td>\n",
              "      <td>0.0</td>\n",
              "      <td>1.0</td>\n",
              "      <td>0.0</td>\n",
              "      <td>0.0</td>\n",
              "      <td>1.0</td>\n",
              "      <td>0.0</td>\n",
              "      <td>0.0</td>\n",
              "      <td>0.0</td>\n",
              "      <td>...</td>\n",
              "      <td>0.0</td>\n",
              "      <td>0.0</td>\n",
              "      <td>0.0</td>\n",
              "      <td>0.0</td>\n",
              "      <td>0.0</td>\n",
              "      <td>0.0</td>\n",
              "      <td>0.0</td>\n",
              "      <td>1.0</td>\n",
              "      <td>0.0</td>\n",
              "      <td>0.0</td>\n",
              "    </tr>\n",
              "  </tbody>\n",
              "</table>\n",
              "<p>3755 rows × 277 columns</p>\n",
              "</div>\n",
              "    <div class=\"colab-df-buttons\">\n",
              "\n",
              "  <div class=\"colab-df-container\">\n",
              "    <button class=\"colab-df-convert\" onclick=\"convertToInteractive('df-2b4b4fd1-b676-4574-b0c7-469b3251f143')\"\n",
              "            title=\"Convert this dataframe to an interactive table.\"\n",
              "            style=\"display:none;\">\n",
              "\n",
              "  <svg xmlns=\"http://www.w3.org/2000/svg\" height=\"24px\" viewBox=\"0 -960 960 960\">\n",
              "    <path d=\"M120-120v-720h720v720H120Zm60-500h600v-160H180v160Zm220 220h160v-160H400v160Zm0 220h160v-160H400v160ZM180-400h160v-160H180v160Zm440 0h160v-160H620v160ZM180-180h160v-160H180v160Zm440 0h160v-160H620v160Z\"/>\n",
              "  </svg>\n",
              "    </button>\n",
              "\n",
              "  <style>\n",
              "    .colab-df-container {\n",
              "      display:flex;\n",
              "      gap: 12px;\n",
              "    }\n",
              "\n",
              "    .colab-df-convert {\n",
              "      background-color: #E8F0FE;\n",
              "      border: none;\n",
              "      border-radius: 50%;\n",
              "      cursor: pointer;\n",
              "      display: none;\n",
              "      fill: #1967D2;\n",
              "      height: 32px;\n",
              "      padding: 0 0 0 0;\n",
              "      width: 32px;\n",
              "    }\n",
              "\n",
              "    .colab-df-convert:hover {\n",
              "      background-color: #E2EBFA;\n",
              "      box-shadow: 0px 1px 2px rgba(60, 64, 67, 0.3), 0px 1px 3px 1px rgba(60, 64, 67, 0.15);\n",
              "      fill: #174EA6;\n",
              "    }\n",
              "\n",
              "    .colab-df-buttons div {\n",
              "      margin-bottom: 4px;\n",
              "    }\n",
              "\n",
              "    [theme=dark] .colab-df-convert {\n",
              "      background-color: #3B4455;\n",
              "      fill: #D2E3FC;\n",
              "    }\n",
              "\n",
              "    [theme=dark] .colab-df-convert:hover {\n",
              "      background-color: #434B5C;\n",
              "      box-shadow: 0px 1px 3px 1px rgba(0, 0, 0, 0.15);\n",
              "      filter: drop-shadow(0px 1px 2px rgba(0, 0, 0, 0.3));\n",
              "      fill: #FFFFFF;\n",
              "    }\n",
              "  </style>\n",
              "\n",
              "    <script>\n",
              "      const buttonEl =\n",
              "        document.querySelector('#df-2b4b4fd1-b676-4574-b0c7-469b3251f143 button.colab-df-convert');\n",
              "      buttonEl.style.display =\n",
              "        google.colab.kernel.accessAllowed ? 'block' : 'none';\n",
              "\n",
              "      async function convertToInteractive(key) {\n",
              "        const element = document.querySelector('#df-2b4b4fd1-b676-4574-b0c7-469b3251f143');\n",
              "        const dataTable =\n",
              "          await google.colab.kernel.invokeFunction('convertToInteractive',\n",
              "                                                    [key], {});\n",
              "        if (!dataTable) return;\n",
              "\n",
              "        const docLinkHtml = 'Like what you see? Visit the ' +\n",
              "          '<a target=\"_blank\" href=https://colab.research.google.com/notebooks/data_table.ipynb>data table notebook</a>'\n",
              "          + ' to learn more about interactive tables.';\n",
              "        element.innerHTML = '';\n",
              "        dataTable['output_type'] = 'display_data';\n",
              "        await google.colab.output.renderOutput(dataTable, element);\n",
              "        const docLink = document.createElement('div');\n",
              "        docLink.innerHTML = docLinkHtml;\n",
              "        element.appendChild(docLink);\n",
              "      }\n",
              "    </script>\n",
              "  </div>\n",
              "\n",
              "\n",
              "<div id=\"df-5b8b0cd0-c3c3-4927-a86d-4a5a35b862f6\">\n",
              "  <button class=\"colab-df-quickchart\" onclick=\"quickchart('df-5b8b0cd0-c3c3-4927-a86d-4a5a35b862f6')\"\n",
              "            title=\"Suggest charts\"\n",
              "            style=\"display:none;\">\n",
              "\n",
              "<svg xmlns=\"http://www.w3.org/2000/svg\" height=\"24px\"viewBox=\"0 0 24 24\"\n",
              "     width=\"24px\">\n",
              "    <g>\n",
              "        <path d=\"M19 3H5c-1.1 0-2 .9-2 2v14c0 1.1.9 2 2 2h14c1.1 0 2-.9 2-2V5c0-1.1-.9-2-2-2zM9 17H7v-7h2v7zm4 0h-2V7h2v10zm4 0h-2v-4h2v4z\"/>\n",
              "    </g>\n",
              "</svg>\n",
              "  </button>\n",
              "\n",
              "<style>\n",
              "  .colab-df-quickchart {\n",
              "      --bg-color: #E8F0FE;\n",
              "      --fill-color: #1967D2;\n",
              "      --hover-bg-color: #E2EBFA;\n",
              "      --hover-fill-color: #174EA6;\n",
              "      --disabled-fill-color: #AAA;\n",
              "      --disabled-bg-color: #DDD;\n",
              "  }\n",
              "\n",
              "  [theme=dark] .colab-df-quickchart {\n",
              "      --bg-color: #3B4455;\n",
              "      --fill-color: #D2E3FC;\n",
              "      --hover-bg-color: #434B5C;\n",
              "      --hover-fill-color: #FFFFFF;\n",
              "      --disabled-bg-color: #3B4455;\n",
              "      --disabled-fill-color: #666;\n",
              "  }\n",
              "\n",
              "  .colab-df-quickchart {\n",
              "    background-color: var(--bg-color);\n",
              "    border: none;\n",
              "    border-radius: 50%;\n",
              "    cursor: pointer;\n",
              "    display: none;\n",
              "    fill: var(--fill-color);\n",
              "    height: 32px;\n",
              "    padding: 0;\n",
              "    width: 32px;\n",
              "  }\n",
              "\n",
              "  .colab-df-quickchart:hover {\n",
              "    background-color: var(--hover-bg-color);\n",
              "    box-shadow: 0 1px 2px rgba(60, 64, 67, 0.3), 0 1px 3px 1px rgba(60, 64, 67, 0.15);\n",
              "    fill: var(--button-hover-fill-color);\n",
              "  }\n",
              "\n",
              "  .colab-df-quickchart-complete:disabled,\n",
              "  .colab-df-quickchart-complete:disabled:hover {\n",
              "    background-color: var(--disabled-bg-color);\n",
              "    fill: var(--disabled-fill-color);\n",
              "    box-shadow: none;\n",
              "  }\n",
              "\n",
              "  .colab-df-spinner {\n",
              "    border: 2px solid var(--fill-color);\n",
              "    border-color: transparent;\n",
              "    border-bottom-color: var(--fill-color);\n",
              "    animation:\n",
              "      spin 1s steps(1) infinite;\n",
              "  }\n",
              "\n",
              "  @keyframes spin {\n",
              "    0% {\n",
              "      border-color: transparent;\n",
              "      border-bottom-color: var(--fill-color);\n",
              "      border-left-color: var(--fill-color);\n",
              "    }\n",
              "    20% {\n",
              "      border-color: transparent;\n",
              "      border-left-color: var(--fill-color);\n",
              "      border-top-color: var(--fill-color);\n",
              "    }\n",
              "    30% {\n",
              "      border-color: transparent;\n",
              "      border-left-color: var(--fill-color);\n",
              "      border-top-color: var(--fill-color);\n",
              "      border-right-color: var(--fill-color);\n",
              "    }\n",
              "    40% {\n",
              "      border-color: transparent;\n",
              "      border-right-color: var(--fill-color);\n",
              "      border-top-color: var(--fill-color);\n",
              "    }\n",
              "    60% {\n",
              "      border-color: transparent;\n",
              "      border-right-color: var(--fill-color);\n",
              "    }\n",
              "    80% {\n",
              "      border-color: transparent;\n",
              "      border-right-color: var(--fill-color);\n",
              "      border-bottom-color: var(--fill-color);\n",
              "    }\n",
              "    90% {\n",
              "      border-color: transparent;\n",
              "      border-bottom-color: var(--fill-color);\n",
              "    }\n",
              "  }\n",
              "</style>\n",
              "\n",
              "  <script>\n",
              "    async function quickchart(key) {\n",
              "      const quickchartButtonEl =\n",
              "        document.querySelector('#' + key + ' button');\n",
              "      quickchartButtonEl.disabled = true;  // To prevent multiple clicks.\n",
              "      quickchartButtonEl.classList.add('colab-df-spinner');\n",
              "      try {\n",
              "        const charts = await google.colab.kernel.invokeFunction(\n",
              "            'suggestCharts', [key], {});\n",
              "      } catch (error) {\n",
              "        console.error('Error during call to suggestCharts:', error);\n",
              "      }\n",
              "      quickchartButtonEl.classList.remove('colab-df-spinner');\n",
              "      quickchartButtonEl.classList.add('colab-df-quickchart-complete');\n",
              "    }\n",
              "    (() => {\n",
              "      let quickchartButtonEl =\n",
              "        document.querySelector('#df-5b8b0cd0-c3c3-4927-a86d-4a5a35b862f6 button');\n",
              "      quickchartButtonEl.style.display =\n",
              "        google.colab.kernel.accessAllowed ? 'block' : 'none';\n",
              "    })();\n",
              "  </script>\n",
              "</div>\n",
              "    </div>\n",
              "  </div>\n"
            ],
            "application/vnd.google.colaboratory.intrinsic+json": {
              "type": "dataframe",
              "variable_name": "data_encoded"
            }
          },
          "metadata": {}
        }
      ],
      "source": [
        "data_encoded = pd.DataFrame.sparse.from_spmatrix(results_ohe)\n",
        "data_encoded.columns = one_hot_encoder.get_feature_names_out(data_to_encode.columns)\n",
        "print('\\nAfter One Hot Encoding:')\n",
        "display(data_encoded)"
      ]
    },
    {
      "cell_type": "code",
      "execution_count": null,
      "id": "39956b51-d0bb-4a46-896b-4ce0bec76b73",
      "metadata": {
        "id": "39956b51-d0bb-4a46-896b-4ce0bec76b73",
        "colab": {
          "base_uri": "https://localhost:8080/",
          "height": 461
        },
        "outputId": "367e2b9c-b926-4c47-dd50-3ea0c6d8b19d"
      },
      "outputs": [
        {
          "output_type": "execute_result",
          "data": {
            "text/plain": [
              "      work_year  salary  experience_level_Entry  experience_level_Executive  \\\n",
              "0          2023   85847                     0.0                         0.0   \n",
              "1          2023   30000                     0.0                         0.0   \n",
              "2          2023   25500                     0.0                         0.0   \n",
              "3          2023  175000                     0.0                         0.0   \n",
              "4          2023  120000                     0.0                         0.0   \n",
              "...         ...     ...                     ...                         ...   \n",
              "3750       2020  412000                     0.0                         0.0   \n",
              "3751       2021  151000                     0.0                         0.0   \n",
              "3752       2020  105000                     1.0                         0.0   \n",
              "3753       2020  100000                     1.0                         0.0   \n",
              "3754       2021   94665                     0.0                         0.0   \n",
              "\n",
              "      experience_level_Middle  experience_level_Senior  \\\n",
              "0                         0.0                      1.0   \n",
              "1                         1.0                      0.0   \n",
              "2                         1.0                      0.0   \n",
              "3                         0.0                      1.0   \n",
              "4                         0.0                      1.0   \n",
              "...                       ...                      ...   \n",
              "3750                      0.0                      1.0   \n",
              "3751                      1.0                      0.0   \n",
              "3752                      0.0                      0.0   \n",
              "3753                      0.0                      0.0   \n",
              "3754                      0.0                      1.0   \n",
              "\n",
              "      employment_type_Contract  employment_type_Freelance  \\\n",
              "0                          0.0                        0.0   \n",
              "1                          1.0                        0.0   \n",
              "2                          1.0                        0.0   \n",
              "3                          0.0                        0.0   \n",
              "4                          0.0                        0.0   \n",
              "...                        ...                        ...   \n",
              "3750                       0.0                        0.0   \n",
              "3751                       0.0                        0.0   \n",
              "3752                       0.0                        0.0   \n",
              "3753                       1.0                        0.0   \n",
              "3754                       0.0                        0.0   \n",
              "\n",
              "      employment_type_Full-time  employment_type_Part-time  ...  \\\n",
              "0                           1.0                        0.0  ...   \n",
              "1                           0.0                        0.0  ...   \n",
              "2                           0.0                        0.0  ...   \n",
              "3                           1.0                        0.0  ...   \n",
              "4                           1.0                        0.0  ...   \n",
              "...                         ...                        ...  ...   \n",
              "3750                        1.0                        0.0  ...   \n",
              "3751                        1.0                        0.0  ...   \n",
              "3752                        1.0                        0.0  ...   \n",
              "3753                        0.0                        0.0  ...   \n",
              "3754                        1.0                        0.0  ...   \n",
              "\n",
              "      company_location_SI  company_location_SK  company_location_TH  \\\n",
              "0                     0.0                  0.0                  0.0   \n",
              "1                     0.0                  0.0                  0.0   \n",
              "2                     0.0                  0.0                  0.0   \n",
              "3                     0.0                  0.0                  0.0   \n",
              "4                     0.0                  0.0                  0.0   \n",
              "...                   ...                  ...                  ...   \n",
              "3750                  0.0                  0.0                  0.0   \n",
              "3751                  0.0                  0.0                  0.0   \n",
              "3752                  0.0                  0.0                  0.0   \n",
              "3753                  0.0                  0.0                  0.0   \n",
              "3754                  0.0                  0.0                  0.0   \n",
              "\n",
              "      company_location_TR  company_location_UA  company_location_US  \\\n",
              "0                     0.0                  0.0                  0.0   \n",
              "1                     0.0                  0.0                  1.0   \n",
              "2                     0.0                  0.0                  1.0   \n",
              "3                     0.0                  0.0                  0.0   \n",
              "4                     0.0                  0.0                  0.0   \n",
              "...                   ...                  ...                  ...   \n",
              "3750                  0.0                  0.0                  1.0   \n",
              "3751                  0.0                  0.0                  1.0   \n",
              "3752                  0.0                  0.0                  1.0   \n",
              "3753                  0.0                  0.0                  1.0   \n",
              "3754                  0.0                  0.0                  0.0   \n",
              "\n",
              "      company_location_VN  company_size_Large  company_size_Medium  \\\n",
              "0                     0.0                 1.0                  0.0   \n",
              "1                     0.0                 0.0                  0.0   \n",
              "2                     0.0                 0.0                  0.0   \n",
              "3                     0.0                 0.0                  1.0   \n",
              "4                     0.0                 0.0                  1.0   \n",
              "...                   ...                 ...                  ...   \n",
              "3750                  0.0                 1.0                  0.0   \n",
              "3751                  0.0                 1.0                  0.0   \n",
              "3752                  0.0                 0.0                  0.0   \n",
              "3753                  0.0                 1.0                  0.0   \n",
              "3754                  0.0                 1.0                  0.0   \n",
              "\n",
              "      company_size_Small  \n",
              "0                    0.0  \n",
              "1                    1.0  \n",
              "2                    1.0  \n",
              "3                    0.0  \n",
              "4                    0.0  \n",
              "...                  ...  \n",
              "3750                 0.0  \n",
              "3751                 0.0  \n",
              "3752                 1.0  \n",
              "3753                 0.0  \n",
              "3754                 0.0  \n",
              "\n",
              "[3755 rows x 279 columns]"
            ],
            "text/html": [
              "\n",
              "  <div id=\"df-3f0d348d-78c9-445c-873e-c644eafaf682\" class=\"colab-df-container\">\n",
              "    <div>\n",
              "<style scoped>\n",
              "    .dataframe tbody tr th:only-of-type {\n",
              "        vertical-align: middle;\n",
              "    }\n",
              "\n",
              "    .dataframe tbody tr th {\n",
              "        vertical-align: top;\n",
              "    }\n",
              "\n",
              "    .dataframe thead th {\n",
              "        text-align: right;\n",
              "    }\n",
              "</style>\n",
              "<table border=\"1\" class=\"dataframe\">\n",
              "  <thead>\n",
              "    <tr style=\"text-align: right;\">\n",
              "      <th></th>\n",
              "      <th>work_year</th>\n",
              "      <th>salary</th>\n",
              "      <th>experience_level_Entry</th>\n",
              "      <th>experience_level_Executive</th>\n",
              "      <th>experience_level_Middle</th>\n",
              "      <th>experience_level_Senior</th>\n",
              "      <th>employment_type_Contract</th>\n",
              "      <th>employment_type_Freelance</th>\n",
              "      <th>employment_type_Full-time</th>\n",
              "      <th>employment_type_Part-time</th>\n",
              "      <th>...</th>\n",
              "      <th>company_location_SI</th>\n",
              "      <th>company_location_SK</th>\n",
              "      <th>company_location_TH</th>\n",
              "      <th>company_location_TR</th>\n",
              "      <th>company_location_UA</th>\n",
              "      <th>company_location_US</th>\n",
              "      <th>company_location_VN</th>\n",
              "      <th>company_size_Large</th>\n",
              "      <th>company_size_Medium</th>\n",
              "      <th>company_size_Small</th>\n",
              "    </tr>\n",
              "  </thead>\n",
              "  <tbody>\n",
              "    <tr>\n",
              "      <th>0</th>\n",
              "      <td>2023</td>\n",
              "      <td>85847</td>\n",
              "      <td>0.0</td>\n",
              "      <td>0.0</td>\n",
              "      <td>0.0</td>\n",
              "      <td>1.0</td>\n",
              "      <td>0.0</td>\n",
              "      <td>0.0</td>\n",
              "      <td>1.0</td>\n",
              "      <td>0.0</td>\n",
              "      <td>...</td>\n",
              "      <td>0.0</td>\n",
              "      <td>0.0</td>\n",
              "      <td>0.0</td>\n",
              "      <td>0.0</td>\n",
              "      <td>0.0</td>\n",
              "      <td>0.0</td>\n",
              "      <td>0.0</td>\n",
              "      <td>1.0</td>\n",
              "      <td>0.0</td>\n",
              "      <td>0.0</td>\n",
              "    </tr>\n",
              "    <tr>\n",
              "      <th>1</th>\n",
              "      <td>2023</td>\n",
              "      <td>30000</td>\n",
              "      <td>0.0</td>\n",
              "      <td>0.0</td>\n",
              "      <td>1.0</td>\n",
              "      <td>0.0</td>\n",
              "      <td>1.0</td>\n",
              "      <td>0.0</td>\n",
              "      <td>0.0</td>\n",
              "      <td>0.0</td>\n",
              "      <td>...</td>\n",
              "      <td>0.0</td>\n",
              "      <td>0.0</td>\n",
              "      <td>0.0</td>\n",
              "      <td>0.0</td>\n",
              "      <td>0.0</td>\n",
              "      <td>1.0</td>\n",
              "      <td>0.0</td>\n",
              "      <td>0.0</td>\n",
              "      <td>0.0</td>\n",
              "      <td>1.0</td>\n",
              "    </tr>\n",
              "    <tr>\n",
              "      <th>2</th>\n",
              "      <td>2023</td>\n",
              "      <td>25500</td>\n",
              "      <td>0.0</td>\n",
              "      <td>0.0</td>\n",
              "      <td>1.0</td>\n",
              "      <td>0.0</td>\n",
              "      <td>1.0</td>\n",
              "      <td>0.0</td>\n",
              "      <td>0.0</td>\n",
              "      <td>0.0</td>\n",
              "      <td>...</td>\n",
              "      <td>0.0</td>\n",
              "      <td>0.0</td>\n",
              "      <td>0.0</td>\n",
              "      <td>0.0</td>\n",
              "      <td>0.0</td>\n",
              "      <td>1.0</td>\n",
              "      <td>0.0</td>\n",
              "      <td>0.0</td>\n",
              "      <td>0.0</td>\n",
              "      <td>1.0</td>\n",
              "    </tr>\n",
              "    <tr>\n",
              "      <th>3</th>\n",
              "      <td>2023</td>\n",
              "      <td>175000</td>\n",
              "      <td>0.0</td>\n",
              "      <td>0.0</td>\n",
              "      <td>0.0</td>\n",
              "      <td>1.0</td>\n",
              "      <td>0.0</td>\n",
              "      <td>0.0</td>\n",
              "      <td>1.0</td>\n",
              "      <td>0.0</td>\n",
              "      <td>...</td>\n",
              "      <td>0.0</td>\n",
              "      <td>0.0</td>\n",
              "      <td>0.0</td>\n",
              "      <td>0.0</td>\n",
              "      <td>0.0</td>\n",
              "      <td>0.0</td>\n",
              "      <td>0.0</td>\n",
              "      <td>0.0</td>\n",
              "      <td>1.0</td>\n",
              "      <td>0.0</td>\n",
              "    </tr>\n",
              "    <tr>\n",
              "      <th>4</th>\n",
              "      <td>2023</td>\n",
              "      <td>120000</td>\n",
              "      <td>0.0</td>\n",
              "      <td>0.0</td>\n",
              "      <td>0.0</td>\n",
              "      <td>1.0</td>\n",
              "      <td>0.0</td>\n",
              "      <td>0.0</td>\n",
              "      <td>1.0</td>\n",
              "      <td>0.0</td>\n",
              "      <td>...</td>\n",
              "      <td>0.0</td>\n",
              "      <td>0.0</td>\n",
              "      <td>0.0</td>\n",
              "      <td>0.0</td>\n",
              "      <td>0.0</td>\n",
              "      <td>0.0</td>\n",
              "      <td>0.0</td>\n",
              "      <td>0.0</td>\n",
              "      <td>1.0</td>\n",
              "      <td>0.0</td>\n",
              "    </tr>\n",
              "    <tr>\n",
              "      <th>...</th>\n",
              "      <td>...</td>\n",
              "      <td>...</td>\n",
              "      <td>...</td>\n",
              "      <td>...</td>\n",
              "      <td>...</td>\n",
              "      <td>...</td>\n",
              "      <td>...</td>\n",
              "      <td>...</td>\n",
              "      <td>...</td>\n",
              "      <td>...</td>\n",
              "      <td>...</td>\n",
              "      <td>...</td>\n",
              "      <td>...</td>\n",
              "      <td>...</td>\n",
              "      <td>...</td>\n",
              "      <td>...</td>\n",
              "      <td>...</td>\n",
              "      <td>...</td>\n",
              "      <td>...</td>\n",
              "      <td>...</td>\n",
              "      <td>...</td>\n",
              "    </tr>\n",
              "    <tr>\n",
              "      <th>3750</th>\n",
              "      <td>2020</td>\n",
              "      <td>412000</td>\n",
              "      <td>0.0</td>\n",
              "      <td>0.0</td>\n",
              "      <td>0.0</td>\n",
              "      <td>1.0</td>\n",
              "      <td>0.0</td>\n",
              "      <td>0.0</td>\n",
              "      <td>1.0</td>\n",
              "      <td>0.0</td>\n",
              "      <td>...</td>\n",
              "      <td>0.0</td>\n",
              "      <td>0.0</td>\n",
              "      <td>0.0</td>\n",
              "      <td>0.0</td>\n",
              "      <td>0.0</td>\n",
              "      <td>1.0</td>\n",
              "      <td>0.0</td>\n",
              "      <td>1.0</td>\n",
              "      <td>0.0</td>\n",
              "      <td>0.0</td>\n",
              "    </tr>\n",
              "    <tr>\n",
              "      <th>3751</th>\n",
              "      <td>2021</td>\n",
              "      <td>151000</td>\n",
              "      <td>0.0</td>\n",
              "      <td>0.0</td>\n",
              "      <td>1.0</td>\n",
              "      <td>0.0</td>\n",
              "      <td>0.0</td>\n",
              "      <td>0.0</td>\n",
              "      <td>1.0</td>\n",
              "      <td>0.0</td>\n",
              "      <td>...</td>\n",
              "      <td>0.0</td>\n",
              "      <td>0.0</td>\n",
              "      <td>0.0</td>\n",
              "      <td>0.0</td>\n",
              "      <td>0.0</td>\n",
              "      <td>1.0</td>\n",
              "      <td>0.0</td>\n",
              "      <td>1.0</td>\n",
              "      <td>0.0</td>\n",
              "      <td>0.0</td>\n",
              "    </tr>\n",
              "    <tr>\n",
              "      <th>3752</th>\n",
              "      <td>2020</td>\n",
              "      <td>105000</td>\n",
              "      <td>1.0</td>\n",
              "      <td>0.0</td>\n",
              "      <td>0.0</td>\n",
              "      <td>0.0</td>\n",
              "      <td>0.0</td>\n",
              "      <td>0.0</td>\n",
              "      <td>1.0</td>\n",
              "      <td>0.0</td>\n",
              "      <td>...</td>\n",
              "      <td>0.0</td>\n",
              "      <td>0.0</td>\n",
              "      <td>0.0</td>\n",
              "      <td>0.0</td>\n",
              "      <td>0.0</td>\n",
              "      <td>1.0</td>\n",
              "      <td>0.0</td>\n",
              "      <td>0.0</td>\n",
              "      <td>0.0</td>\n",
              "      <td>1.0</td>\n",
              "    </tr>\n",
              "    <tr>\n",
              "      <th>3753</th>\n",
              "      <td>2020</td>\n",
              "      <td>100000</td>\n",
              "      <td>1.0</td>\n",
              "      <td>0.0</td>\n",
              "      <td>0.0</td>\n",
              "      <td>0.0</td>\n",
              "      <td>1.0</td>\n",
              "      <td>0.0</td>\n",
              "      <td>0.0</td>\n",
              "      <td>0.0</td>\n",
              "      <td>...</td>\n",
              "      <td>0.0</td>\n",
              "      <td>0.0</td>\n",
              "      <td>0.0</td>\n",
              "      <td>0.0</td>\n",
              "      <td>0.0</td>\n",
              "      <td>1.0</td>\n",
              "      <td>0.0</td>\n",
              "      <td>1.0</td>\n",
              "      <td>0.0</td>\n",
              "      <td>0.0</td>\n",
              "    </tr>\n",
              "    <tr>\n",
              "      <th>3754</th>\n",
              "      <td>2021</td>\n",
              "      <td>94665</td>\n",
              "      <td>0.0</td>\n",
              "      <td>0.0</td>\n",
              "      <td>0.0</td>\n",
              "      <td>1.0</td>\n",
              "      <td>0.0</td>\n",
              "      <td>0.0</td>\n",
              "      <td>1.0</td>\n",
              "      <td>0.0</td>\n",
              "      <td>...</td>\n",
              "      <td>0.0</td>\n",
              "      <td>0.0</td>\n",
              "      <td>0.0</td>\n",
              "      <td>0.0</td>\n",
              "      <td>0.0</td>\n",
              "      <td>0.0</td>\n",
              "      <td>0.0</td>\n",
              "      <td>1.0</td>\n",
              "      <td>0.0</td>\n",
              "      <td>0.0</td>\n",
              "    </tr>\n",
              "  </tbody>\n",
              "</table>\n",
              "<p>3755 rows × 279 columns</p>\n",
              "</div>\n",
              "    <div class=\"colab-df-buttons\">\n",
              "\n",
              "  <div class=\"colab-df-container\">\n",
              "    <button class=\"colab-df-convert\" onclick=\"convertToInteractive('df-3f0d348d-78c9-445c-873e-c644eafaf682')\"\n",
              "            title=\"Convert this dataframe to an interactive table.\"\n",
              "            style=\"display:none;\">\n",
              "\n",
              "  <svg xmlns=\"http://www.w3.org/2000/svg\" height=\"24px\" viewBox=\"0 -960 960 960\">\n",
              "    <path d=\"M120-120v-720h720v720H120Zm60-500h600v-160H180v160Zm220 220h160v-160H400v160Zm0 220h160v-160H400v160ZM180-400h160v-160H180v160Zm440 0h160v-160H620v160ZM180-180h160v-160H180v160Zm440 0h160v-160H620v160Z\"/>\n",
              "  </svg>\n",
              "    </button>\n",
              "\n",
              "  <style>\n",
              "    .colab-df-container {\n",
              "      display:flex;\n",
              "      gap: 12px;\n",
              "    }\n",
              "\n",
              "    .colab-df-convert {\n",
              "      background-color: #E8F0FE;\n",
              "      border: none;\n",
              "      border-radius: 50%;\n",
              "      cursor: pointer;\n",
              "      display: none;\n",
              "      fill: #1967D2;\n",
              "      height: 32px;\n",
              "      padding: 0 0 0 0;\n",
              "      width: 32px;\n",
              "    }\n",
              "\n",
              "    .colab-df-convert:hover {\n",
              "      background-color: #E2EBFA;\n",
              "      box-shadow: 0px 1px 2px rgba(60, 64, 67, 0.3), 0px 1px 3px 1px rgba(60, 64, 67, 0.15);\n",
              "      fill: #174EA6;\n",
              "    }\n",
              "\n",
              "    .colab-df-buttons div {\n",
              "      margin-bottom: 4px;\n",
              "    }\n",
              "\n",
              "    [theme=dark] .colab-df-convert {\n",
              "      background-color: #3B4455;\n",
              "      fill: #D2E3FC;\n",
              "    }\n",
              "\n",
              "    [theme=dark] .colab-df-convert:hover {\n",
              "      background-color: #434B5C;\n",
              "      box-shadow: 0px 1px 3px 1px rgba(0, 0, 0, 0.15);\n",
              "      filter: drop-shadow(0px 1px 2px rgba(0, 0, 0, 0.3));\n",
              "      fill: #FFFFFF;\n",
              "    }\n",
              "  </style>\n",
              "\n",
              "    <script>\n",
              "      const buttonEl =\n",
              "        document.querySelector('#df-3f0d348d-78c9-445c-873e-c644eafaf682 button.colab-df-convert');\n",
              "      buttonEl.style.display =\n",
              "        google.colab.kernel.accessAllowed ? 'block' : 'none';\n",
              "\n",
              "      async function convertToInteractive(key) {\n",
              "        const element = document.querySelector('#df-3f0d348d-78c9-445c-873e-c644eafaf682');\n",
              "        const dataTable =\n",
              "          await google.colab.kernel.invokeFunction('convertToInteractive',\n",
              "                                                    [key], {});\n",
              "        if (!dataTable) return;\n",
              "\n",
              "        const docLinkHtml = 'Like what you see? Visit the ' +\n",
              "          '<a target=\"_blank\" href=https://colab.research.google.com/notebooks/data_table.ipynb>data table notebook</a>'\n",
              "          + ' to learn more about interactive tables.';\n",
              "        element.innerHTML = '';\n",
              "        dataTable['output_type'] = 'display_data';\n",
              "        await google.colab.output.renderOutput(dataTable, element);\n",
              "        const docLink = document.createElement('div');\n",
              "        docLink.innerHTML = docLinkHtml;\n",
              "        element.appendChild(docLink);\n",
              "      }\n",
              "    </script>\n",
              "  </div>\n",
              "\n",
              "\n",
              "<div id=\"df-0c1f2121-6619-4294-9635-4b168679ddf5\">\n",
              "  <button class=\"colab-df-quickchart\" onclick=\"quickchart('df-0c1f2121-6619-4294-9635-4b168679ddf5')\"\n",
              "            title=\"Suggest charts\"\n",
              "            style=\"display:none;\">\n",
              "\n",
              "<svg xmlns=\"http://www.w3.org/2000/svg\" height=\"24px\"viewBox=\"0 0 24 24\"\n",
              "     width=\"24px\">\n",
              "    <g>\n",
              "        <path d=\"M19 3H5c-1.1 0-2 .9-2 2v14c0 1.1.9 2 2 2h14c1.1 0 2-.9 2-2V5c0-1.1-.9-2-2-2zM9 17H7v-7h2v7zm4 0h-2V7h2v10zm4 0h-2v-4h2v4z\"/>\n",
              "    </g>\n",
              "</svg>\n",
              "  </button>\n",
              "\n",
              "<style>\n",
              "  .colab-df-quickchart {\n",
              "      --bg-color: #E8F0FE;\n",
              "      --fill-color: #1967D2;\n",
              "      --hover-bg-color: #E2EBFA;\n",
              "      --hover-fill-color: #174EA6;\n",
              "      --disabled-fill-color: #AAA;\n",
              "      --disabled-bg-color: #DDD;\n",
              "  }\n",
              "\n",
              "  [theme=dark] .colab-df-quickchart {\n",
              "      --bg-color: #3B4455;\n",
              "      --fill-color: #D2E3FC;\n",
              "      --hover-bg-color: #434B5C;\n",
              "      --hover-fill-color: #FFFFFF;\n",
              "      --disabled-bg-color: #3B4455;\n",
              "      --disabled-fill-color: #666;\n",
              "  }\n",
              "\n",
              "  .colab-df-quickchart {\n",
              "    background-color: var(--bg-color);\n",
              "    border: none;\n",
              "    border-radius: 50%;\n",
              "    cursor: pointer;\n",
              "    display: none;\n",
              "    fill: var(--fill-color);\n",
              "    height: 32px;\n",
              "    padding: 0;\n",
              "    width: 32px;\n",
              "  }\n",
              "\n",
              "  .colab-df-quickchart:hover {\n",
              "    background-color: var(--hover-bg-color);\n",
              "    box-shadow: 0 1px 2px rgba(60, 64, 67, 0.3), 0 1px 3px 1px rgba(60, 64, 67, 0.15);\n",
              "    fill: var(--button-hover-fill-color);\n",
              "  }\n",
              "\n",
              "  .colab-df-quickchart-complete:disabled,\n",
              "  .colab-df-quickchart-complete:disabled:hover {\n",
              "    background-color: var(--disabled-bg-color);\n",
              "    fill: var(--disabled-fill-color);\n",
              "    box-shadow: none;\n",
              "  }\n",
              "\n",
              "  .colab-df-spinner {\n",
              "    border: 2px solid var(--fill-color);\n",
              "    border-color: transparent;\n",
              "    border-bottom-color: var(--fill-color);\n",
              "    animation:\n",
              "      spin 1s steps(1) infinite;\n",
              "  }\n",
              "\n",
              "  @keyframes spin {\n",
              "    0% {\n",
              "      border-color: transparent;\n",
              "      border-bottom-color: var(--fill-color);\n",
              "      border-left-color: var(--fill-color);\n",
              "    }\n",
              "    20% {\n",
              "      border-color: transparent;\n",
              "      border-left-color: var(--fill-color);\n",
              "      border-top-color: var(--fill-color);\n",
              "    }\n",
              "    30% {\n",
              "      border-color: transparent;\n",
              "      border-left-color: var(--fill-color);\n",
              "      border-top-color: var(--fill-color);\n",
              "      border-right-color: var(--fill-color);\n",
              "    }\n",
              "    40% {\n",
              "      border-color: transparent;\n",
              "      border-right-color: var(--fill-color);\n",
              "      border-top-color: var(--fill-color);\n",
              "    }\n",
              "    60% {\n",
              "      border-color: transparent;\n",
              "      border-right-color: var(--fill-color);\n",
              "    }\n",
              "    80% {\n",
              "      border-color: transparent;\n",
              "      border-right-color: var(--fill-color);\n",
              "      border-bottom-color: var(--fill-color);\n",
              "    }\n",
              "    90% {\n",
              "      border-color: transparent;\n",
              "      border-bottom-color: var(--fill-color);\n",
              "    }\n",
              "  }\n",
              "</style>\n",
              "\n",
              "  <script>\n",
              "    async function quickchart(key) {\n",
              "      const quickchartButtonEl =\n",
              "        document.querySelector('#' + key + ' button');\n",
              "      quickchartButtonEl.disabled = true;  // To prevent multiple clicks.\n",
              "      quickchartButtonEl.classList.add('colab-df-spinner');\n",
              "      try {\n",
              "        const charts = await google.colab.kernel.invokeFunction(\n",
              "            'suggestCharts', [key], {});\n",
              "      } catch (error) {\n",
              "        console.error('Error during call to suggestCharts:', error);\n",
              "      }\n",
              "      quickchartButtonEl.classList.remove('colab-df-spinner');\n",
              "      quickchartButtonEl.classList.add('colab-df-quickchart-complete');\n",
              "    }\n",
              "    (() => {\n",
              "      let quickchartButtonEl =\n",
              "        document.querySelector('#df-0c1f2121-6619-4294-9635-4b168679ddf5 button');\n",
              "      quickchartButtonEl.style.display =\n",
              "        google.colab.kernel.accessAllowed ? 'block' : 'none';\n",
              "    })();\n",
              "  </script>\n",
              "</div>\n",
              "    </div>\n",
              "  </div>\n"
            ],
            "application/vnd.google.colaboratory.intrinsic+json": {
              "type": "dataframe",
              "variable_name": "data_processed"
            }
          },
          "metadata": {},
          "execution_count": 10
        }
      ],
      "source": [
        "data_not_encoded = data[['work_year', 'salary']]\n",
        "data_processed = pd.concat([data_not_encoded, data_encoded], axis=1)\n",
        "data_processed"
      ]
    },
    {
      "cell_type": "markdown",
      "id": "9e1da861-b9cd-41ba-a562-76c2c1af1fb0",
      "metadata": {
        "id": "9e1da861-b9cd-41ba-a562-76c2c1af1fb0"
      },
      "source": [
        "#### Option 2. Encoding categorical features with get_dummies"
      ]
    },
    {
      "cell_type": "code",
      "execution_count": null,
      "id": "cbd42082-4a93-4ae6-9c42-45b0bba86c29",
      "metadata": {
        "id": "cbd42082-4a93-4ae6-9c42-45b0bba86c29",
        "colab": {
          "base_uri": "https://localhost:8080/",
          "height": 330
        },
        "outputId": "b81959ae-7454-43a2-bf60-330e4c879f60"
      },
      "outputs": [
        {
          "output_type": "execute_result",
          "data": {
            "text/plain": [
              "   work_year experience_level employment_type                 job_title  \\\n",
              "0       2023           Senior       Full-time  Principal Data Scientist   \n",
              "1       2023           Middle        Contract               ML Engineer   \n",
              "2       2023           Middle        Contract               ML Engineer   \n",
              "3       2023           Senior       Full-time            Data Scientist   \n",
              "4       2023           Senior       Full-time            Data Scientist   \n",
              "\n",
              "  salary_currency  salary employee_residence remote_ratio company_location  \\\n",
              "0             EUR   85847                 ES       remote               ES   \n",
              "1             USD   30000                 US       remote               US   \n",
              "2             USD   25500                 US       remote               US   \n",
              "3             USD  175000                 CA       remote               CA   \n",
              "4             USD  120000                 CA       remote               CA   \n",
              "\n",
              "  company_size  \n",
              "0        Large  \n",
              "1        Small  \n",
              "2        Small  \n",
              "3       Medium  \n",
              "4       Medium  "
            ],
            "text/html": [
              "\n",
              "  <div id=\"df-e07d96f0-ae8c-4c23-9b0e-8d2f37f16b59\" class=\"colab-df-container\">\n",
              "    <div>\n",
              "<style scoped>\n",
              "    .dataframe tbody tr th:only-of-type {\n",
              "        vertical-align: middle;\n",
              "    }\n",
              "\n",
              "    .dataframe tbody tr th {\n",
              "        vertical-align: top;\n",
              "    }\n",
              "\n",
              "    .dataframe thead th {\n",
              "        text-align: right;\n",
              "    }\n",
              "</style>\n",
              "<table border=\"1\" class=\"dataframe\">\n",
              "  <thead>\n",
              "    <tr style=\"text-align: right;\">\n",
              "      <th></th>\n",
              "      <th>work_year</th>\n",
              "      <th>experience_level</th>\n",
              "      <th>employment_type</th>\n",
              "      <th>job_title</th>\n",
              "      <th>salary_currency</th>\n",
              "      <th>salary</th>\n",
              "      <th>employee_residence</th>\n",
              "      <th>remote_ratio</th>\n",
              "      <th>company_location</th>\n",
              "      <th>company_size</th>\n",
              "    </tr>\n",
              "  </thead>\n",
              "  <tbody>\n",
              "    <tr>\n",
              "      <th>0</th>\n",
              "      <td>2023</td>\n",
              "      <td>Senior</td>\n",
              "      <td>Full-time</td>\n",
              "      <td>Principal Data Scientist</td>\n",
              "      <td>EUR</td>\n",
              "      <td>85847</td>\n",
              "      <td>ES</td>\n",
              "      <td>remote</td>\n",
              "      <td>ES</td>\n",
              "      <td>Large</td>\n",
              "    </tr>\n",
              "    <tr>\n",
              "      <th>1</th>\n",
              "      <td>2023</td>\n",
              "      <td>Middle</td>\n",
              "      <td>Contract</td>\n",
              "      <td>ML Engineer</td>\n",
              "      <td>USD</td>\n",
              "      <td>30000</td>\n",
              "      <td>US</td>\n",
              "      <td>remote</td>\n",
              "      <td>US</td>\n",
              "      <td>Small</td>\n",
              "    </tr>\n",
              "    <tr>\n",
              "      <th>2</th>\n",
              "      <td>2023</td>\n",
              "      <td>Middle</td>\n",
              "      <td>Contract</td>\n",
              "      <td>ML Engineer</td>\n",
              "      <td>USD</td>\n",
              "      <td>25500</td>\n",
              "      <td>US</td>\n",
              "      <td>remote</td>\n",
              "      <td>US</td>\n",
              "      <td>Small</td>\n",
              "    </tr>\n",
              "    <tr>\n",
              "      <th>3</th>\n",
              "      <td>2023</td>\n",
              "      <td>Senior</td>\n",
              "      <td>Full-time</td>\n",
              "      <td>Data Scientist</td>\n",
              "      <td>USD</td>\n",
              "      <td>175000</td>\n",
              "      <td>CA</td>\n",
              "      <td>remote</td>\n",
              "      <td>CA</td>\n",
              "      <td>Medium</td>\n",
              "    </tr>\n",
              "    <tr>\n",
              "      <th>4</th>\n",
              "      <td>2023</td>\n",
              "      <td>Senior</td>\n",
              "      <td>Full-time</td>\n",
              "      <td>Data Scientist</td>\n",
              "      <td>USD</td>\n",
              "      <td>120000</td>\n",
              "      <td>CA</td>\n",
              "      <td>remote</td>\n",
              "      <td>CA</td>\n",
              "      <td>Medium</td>\n",
              "    </tr>\n",
              "  </tbody>\n",
              "</table>\n",
              "</div>\n",
              "    <div class=\"colab-df-buttons\">\n",
              "\n",
              "  <div class=\"colab-df-container\">\n",
              "    <button class=\"colab-df-convert\" onclick=\"convertToInteractive('df-e07d96f0-ae8c-4c23-9b0e-8d2f37f16b59')\"\n",
              "            title=\"Convert this dataframe to an interactive table.\"\n",
              "            style=\"display:none;\">\n",
              "\n",
              "  <svg xmlns=\"http://www.w3.org/2000/svg\" height=\"24px\" viewBox=\"0 -960 960 960\">\n",
              "    <path d=\"M120-120v-720h720v720H120Zm60-500h600v-160H180v160Zm220 220h160v-160H400v160Zm0 220h160v-160H400v160ZM180-400h160v-160H180v160Zm440 0h160v-160H620v160ZM180-180h160v-160H180v160Zm440 0h160v-160H620v160Z\"/>\n",
              "  </svg>\n",
              "    </button>\n",
              "\n",
              "  <style>\n",
              "    .colab-df-container {\n",
              "      display:flex;\n",
              "      gap: 12px;\n",
              "    }\n",
              "\n",
              "    .colab-df-convert {\n",
              "      background-color: #E8F0FE;\n",
              "      border: none;\n",
              "      border-radius: 50%;\n",
              "      cursor: pointer;\n",
              "      display: none;\n",
              "      fill: #1967D2;\n",
              "      height: 32px;\n",
              "      padding: 0 0 0 0;\n",
              "      width: 32px;\n",
              "    }\n",
              "\n",
              "    .colab-df-convert:hover {\n",
              "      background-color: #E2EBFA;\n",
              "      box-shadow: 0px 1px 2px rgba(60, 64, 67, 0.3), 0px 1px 3px 1px rgba(60, 64, 67, 0.15);\n",
              "      fill: #174EA6;\n",
              "    }\n",
              "\n",
              "    .colab-df-buttons div {\n",
              "      margin-bottom: 4px;\n",
              "    }\n",
              "\n",
              "    [theme=dark] .colab-df-convert {\n",
              "      background-color: #3B4455;\n",
              "      fill: #D2E3FC;\n",
              "    }\n",
              "\n",
              "    [theme=dark] .colab-df-convert:hover {\n",
              "      background-color: #434B5C;\n",
              "      box-shadow: 0px 1px 3px 1px rgba(0, 0, 0, 0.15);\n",
              "      filter: drop-shadow(0px 1px 2px rgba(0, 0, 0, 0.3));\n",
              "      fill: #FFFFFF;\n",
              "    }\n",
              "  </style>\n",
              "\n",
              "    <script>\n",
              "      const buttonEl =\n",
              "        document.querySelector('#df-e07d96f0-ae8c-4c23-9b0e-8d2f37f16b59 button.colab-df-convert');\n",
              "      buttonEl.style.display =\n",
              "        google.colab.kernel.accessAllowed ? 'block' : 'none';\n",
              "\n",
              "      async function convertToInteractive(key) {\n",
              "        const element = document.querySelector('#df-e07d96f0-ae8c-4c23-9b0e-8d2f37f16b59');\n",
              "        const dataTable =\n",
              "          await google.colab.kernel.invokeFunction('convertToInteractive',\n",
              "                                                    [key], {});\n",
              "        if (!dataTable) return;\n",
              "\n",
              "        const docLinkHtml = 'Like what you see? Visit the ' +\n",
              "          '<a target=\"_blank\" href=https://colab.research.google.com/notebooks/data_table.ipynb>data table notebook</a>'\n",
              "          + ' to learn more about interactive tables.';\n",
              "        element.innerHTML = '';\n",
              "        dataTable['output_type'] = 'display_data';\n",
              "        await google.colab.output.renderOutput(dataTable, element);\n",
              "        const docLink = document.createElement('div');\n",
              "        docLink.innerHTML = docLinkHtml;\n",
              "        element.appendChild(docLink);\n",
              "      }\n",
              "    </script>\n",
              "  </div>\n",
              "\n",
              "\n",
              "<div id=\"df-5bb878cc-9d18-496d-8b57-bedc793a7ef3\">\n",
              "  <button class=\"colab-df-quickchart\" onclick=\"quickchart('df-5bb878cc-9d18-496d-8b57-bedc793a7ef3')\"\n",
              "            title=\"Suggest charts\"\n",
              "            style=\"display:none;\">\n",
              "\n",
              "<svg xmlns=\"http://www.w3.org/2000/svg\" height=\"24px\"viewBox=\"0 0 24 24\"\n",
              "     width=\"24px\">\n",
              "    <g>\n",
              "        <path d=\"M19 3H5c-1.1 0-2 .9-2 2v14c0 1.1.9 2 2 2h14c1.1 0 2-.9 2-2V5c0-1.1-.9-2-2-2zM9 17H7v-7h2v7zm4 0h-2V7h2v10zm4 0h-2v-4h2v4z\"/>\n",
              "    </g>\n",
              "</svg>\n",
              "  </button>\n",
              "\n",
              "<style>\n",
              "  .colab-df-quickchart {\n",
              "      --bg-color: #E8F0FE;\n",
              "      --fill-color: #1967D2;\n",
              "      --hover-bg-color: #E2EBFA;\n",
              "      --hover-fill-color: #174EA6;\n",
              "      --disabled-fill-color: #AAA;\n",
              "      --disabled-bg-color: #DDD;\n",
              "  }\n",
              "\n",
              "  [theme=dark] .colab-df-quickchart {\n",
              "      --bg-color: #3B4455;\n",
              "      --fill-color: #D2E3FC;\n",
              "      --hover-bg-color: #434B5C;\n",
              "      --hover-fill-color: #FFFFFF;\n",
              "      --disabled-bg-color: #3B4455;\n",
              "      --disabled-fill-color: #666;\n",
              "  }\n",
              "\n",
              "  .colab-df-quickchart {\n",
              "    background-color: var(--bg-color);\n",
              "    border: none;\n",
              "    border-radius: 50%;\n",
              "    cursor: pointer;\n",
              "    display: none;\n",
              "    fill: var(--fill-color);\n",
              "    height: 32px;\n",
              "    padding: 0;\n",
              "    width: 32px;\n",
              "  }\n",
              "\n",
              "  .colab-df-quickchart:hover {\n",
              "    background-color: var(--hover-bg-color);\n",
              "    box-shadow: 0 1px 2px rgba(60, 64, 67, 0.3), 0 1px 3px 1px rgba(60, 64, 67, 0.15);\n",
              "    fill: var(--button-hover-fill-color);\n",
              "  }\n",
              "\n",
              "  .colab-df-quickchart-complete:disabled,\n",
              "  .colab-df-quickchart-complete:disabled:hover {\n",
              "    background-color: var(--disabled-bg-color);\n",
              "    fill: var(--disabled-fill-color);\n",
              "    box-shadow: none;\n",
              "  }\n",
              "\n",
              "  .colab-df-spinner {\n",
              "    border: 2px solid var(--fill-color);\n",
              "    border-color: transparent;\n",
              "    border-bottom-color: var(--fill-color);\n",
              "    animation:\n",
              "      spin 1s steps(1) infinite;\n",
              "  }\n",
              "\n",
              "  @keyframes spin {\n",
              "    0% {\n",
              "      border-color: transparent;\n",
              "      border-bottom-color: var(--fill-color);\n",
              "      border-left-color: var(--fill-color);\n",
              "    }\n",
              "    20% {\n",
              "      border-color: transparent;\n",
              "      border-left-color: var(--fill-color);\n",
              "      border-top-color: var(--fill-color);\n",
              "    }\n",
              "    30% {\n",
              "      border-color: transparent;\n",
              "      border-left-color: var(--fill-color);\n",
              "      border-top-color: var(--fill-color);\n",
              "      border-right-color: var(--fill-color);\n",
              "    }\n",
              "    40% {\n",
              "      border-color: transparent;\n",
              "      border-right-color: var(--fill-color);\n",
              "      border-top-color: var(--fill-color);\n",
              "    }\n",
              "    60% {\n",
              "      border-color: transparent;\n",
              "      border-right-color: var(--fill-color);\n",
              "    }\n",
              "    80% {\n",
              "      border-color: transparent;\n",
              "      border-right-color: var(--fill-color);\n",
              "      border-bottom-color: var(--fill-color);\n",
              "    }\n",
              "    90% {\n",
              "      border-color: transparent;\n",
              "      border-bottom-color: var(--fill-color);\n",
              "    }\n",
              "  }\n",
              "</style>\n",
              "\n",
              "  <script>\n",
              "    async function quickchart(key) {\n",
              "      const quickchartButtonEl =\n",
              "        document.querySelector('#' + key + ' button');\n",
              "      quickchartButtonEl.disabled = true;  // To prevent multiple clicks.\n",
              "      quickchartButtonEl.classList.add('colab-df-spinner');\n",
              "      try {\n",
              "        const charts = await google.colab.kernel.invokeFunction(\n",
              "            'suggestCharts', [key], {});\n",
              "      } catch (error) {\n",
              "        console.error('Error during call to suggestCharts:', error);\n",
              "      }\n",
              "      quickchartButtonEl.classList.remove('colab-df-spinner');\n",
              "      quickchartButtonEl.classList.add('colab-df-quickchart-complete');\n",
              "    }\n",
              "    (() => {\n",
              "      let quickchartButtonEl =\n",
              "        document.querySelector('#df-5bb878cc-9d18-496d-8b57-bedc793a7ef3 button');\n",
              "      quickchartButtonEl.style.display =\n",
              "        google.colab.kernel.accessAllowed ? 'block' : 'none';\n",
              "    })();\n",
              "  </script>\n",
              "</div>\n",
              "    </div>\n",
              "  </div>\n"
            ],
            "application/vnd.google.colaboratory.intrinsic+json": {
              "type": "dataframe",
              "variable_name": "data",
              "summary": "{\n  \"name\": \"data\",\n  \"rows\": 3755,\n  \"fields\": [\n    {\n      \"column\": \"work_year\",\n      \"properties\": {\n        \"dtype\": \"number\",\n        \"std\": 0,\n        \"min\": 2020,\n        \"max\": 2023,\n        \"num_unique_values\": 4,\n        \"samples\": [\n          2022,\n          2021,\n          2023\n        ],\n        \"semantic_type\": \"\",\n        \"description\": \"\"\n      }\n    },\n    {\n      \"column\": \"experience_level\",\n      \"properties\": {\n        \"dtype\": \"category\",\n        \"num_unique_values\": 4,\n        \"samples\": [\n          \"Middle\",\n          \"Executive\",\n          \"Senior\"\n        ],\n        \"semantic_type\": \"\",\n        \"description\": \"\"\n      }\n    },\n    {\n      \"column\": \"employment_type\",\n      \"properties\": {\n        \"dtype\": \"category\",\n        \"num_unique_values\": 4,\n        \"samples\": [\n          \"Contract\",\n          \"Part-time\",\n          \"Full-time\"\n        ],\n        \"semantic_type\": \"\",\n        \"description\": \"\"\n      }\n    },\n    {\n      \"column\": \"job_title\",\n      \"properties\": {\n        \"dtype\": \"category\",\n        \"num_unique_values\": 93,\n        \"samples\": [\n          \"Cloud Database Engineer\",\n          \"Staff Data Analyst\",\n          \"Insight Analyst\"\n        ],\n        \"semantic_type\": \"\",\n        \"description\": \"\"\n      }\n    },\n    {\n      \"column\": \"salary_currency\",\n      \"properties\": {\n        \"dtype\": \"category\",\n        \"num_unique_values\": 20,\n        \"samples\": [\n          \"EUR\",\n          \"MXN\",\n          \"DKK\"\n        ],\n        \"semantic_type\": \"\",\n        \"description\": \"\"\n      }\n    },\n    {\n      \"column\": \"salary\",\n      \"properties\": {\n        \"dtype\": \"number\",\n        \"std\": 63055,\n        \"min\": 5132,\n        \"max\": 450000,\n        \"num_unique_values\": 1035,\n        \"samples\": [\n          205600,\n          375000,\n          140700\n        ],\n        \"semantic_type\": \"\",\n        \"description\": \"\"\n      }\n    },\n    {\n      \"column\": \"employee_residence\",\n      \"properties\": {\n        \"dtype\": \"category\",\n        \"num_unique_values\": 78,\n        \"samples\": [\n          \"AR\",\n          \"ES\",\n          \"AM\"\n        ],\n        \"semantic_type\": \"\",\n        \"description\": \"\"\n      }\n    },\n    {\n      \"column\": \"remote_ratio\",\n      \"properties\": {\n        \"dtype\": \"category\",\n        \"num_unique_values\": 3,\n        \"samples\": [\n          \"remote\",\n          \"onsite\",\n          \"hybrid\"\n        ],\n        \"semantic_type\": \"\",\n        \"description\": \"\"\n      }\n    },\n    {\n      \"column\": \"company_location\",\n      \"properties\": {\n        \"dtype\": \"category\",\n        \"num_unique_values\": 72,\n        \"samples\": [\n          \"GB\",\n          \"MY\",\n          \"SG\"\n        ],\n        \"semantic_type\": \"\",\n        \"description\": \"\"\n      }\n    },\n    {\n      \"column\": \"company_size\",\n      \"properties\": {\n        \"dtype\": \"category\",\n        \"num_unique_values\": 3,\n        \"samples\": [\n          \"Large\",\n          \"Small\",\n          \"Medium\"\n        ],\n        \"semantic_type\": \"\",\n        \"description\": \"\"\n      }\n    }\n  ]\n}"
            }
          },
          "metadata": {},
          "execution_count": 11
        }
      ],
      "source": [
        "data.head()"
      ]
    },
    {
      "cell_type": "code",
      "execution_count": null,
      "id": "63bdc853-908d-408a-805d-68903e903593",
      "metadata": {
        "id": "63bdc853-908d-408a-805d-68903e903593",
        "colab": {
          "base_uri": "https://localhost:8080/"
        },
        "outputId": "6344fbf5-ecab-4e1c-c21e-8eda29876379"
      },
      "outputs": [
        {
          "output_type": "execute_result",
          "data": {
            "text/plain": [
              "['work_year',\n",
              " 'experience_level',\n",
              " 'employment_type',\n",
              " 'job_title',\n",
              " 'salary_currency',\n",
              " 'salary',\n",
              " 'employee_residence',\n",
              " 'remote_ratio',\n",
              " 'company_location',\n",
              " 'company_size']"
            ]
          },
          "metadata": {},
          "execution_count": 12
        }
      ],
      "source": [
        "# display all columns in 'salaries.csv' dataset\n",
        "data.columns.tolist()"
      ]
    },
    {
      "cell_type": "code",
      "execution_count": null,
      "id": "b4557dd9-8812-417b-b083-be33f54fa8ee",
      "metadata": {
        "id": "b4557dd9-8812-417b-b083-be33f54fa8ee",
        "colab": {
          "base_uri": "https://localhost:8080/",
          "height": 461
        },
        "outputId": "d5890ee8-f624-47e7-8019-4f1fcc06fa0e"
      },
      "outputs": [
        {
          "output_type": "execute_result",
          "data": {
            "text/plain": [
              "      work_year  salary  experience_level_Executive  experience_level_Middle  \\\n",
              "0          2023   85847                           0                        0   \n",
              "1          2023   30000                           0                        1   \n",
              "2          2023   25500                           0                        1   \n",
              "3          2023  175000                           0                        0   \n",
              "4          2023  120000                           0                        0   \n",
              "...         ...     ...                         ...                      ...   \n",
              "3750       2020  412000                           0                        0   \n",
              "3751       2021  151000                           0                        1   \n",
              "3752       2020  105000                           0                        0   \n",
              "3753       2020  100000                           0                        0   \n",
              "3754       2021   94665                           0                        0   \n",
              "\n",
              "      experience_level_Senior  employment_type_Freelance  \\\n",
              "0                           1                          0   \n",
              "1                           0                          0   \n",
              "2                           0                          0   \n",
              "3                           1                          0   \n",
              "4                           1                          0   \n",
              "...                       ...                        ...   \n",
              "3750                        1                          0   \n",
              "3751                        0                          0   \n",
              "3752                        0                          0   \n",
              "3753                        0                          0   \n",
              "3754                        1                          0   \n",
              "\n",
              "      employment_type_Full-time  employment_type_Part-time  \\\n",
              "0                             1                          0   \n",
              "1                             0                          0   \n",
              "2                             0                          0   \n",
              "3                             1                          0   \n",
              "4                             1                          0   \n",
              "...                         ...                        ...   \n",
              "3750                          1                          0   \n",
              "3751                          1                          0   \n",
              "3752                          1                          0   \n",
              "3753                          0                          0   \n",
              "3754                          1                          0   \n",
              "\n",
              "      job_title_AI Developer  job_title_AI Programmer  ...  \\\n",
              "0                          0                        0  ...   \n",
              "1                          0                        0  ...   \n",
              "2                          0                        0  ...   \n",
              "3                          0                        0  ...   \n",
              "4                          0                        0  ...   \n",
              "...                      ...                      ...  ...   \n",
              "3750                       0                        0  ...   \n",
              "3751                       0                        0  ...   \n",
              "3752                       0                        0  ...   \n",
              "3753                       0                        0  ...   \n",
              "3754                       0                        0  ...   \n",
              "\n",
              "      company_location_SG  company_location_SI  company_location_SK  \\\n",
              "0                       0                    0                    0   \n",
              "1                       0                    0                    0   \n",
              "2                       0                    0                    0   \n",
              "3                       0                    0                    0   \n",
              "4                       0                    0                    0   \n",
              "...                   ...                  ...                  ...   \n",
              "3750                    0                    0                    0   \n",
              "3751                    0                    0                    0   \n",
              "3752                    0                    0                    0   \n",
              "3753                    0                    0                    0   \n",
              "3754                    0                    0                    0   \n",
              "\n",
              "      company_location_TH  company_location_TR  company_location_UA  \\\n",
              "0                       0                    0                    0   \n",
              "1                       0                    0                    0   \n",
              "2                       0                    0                    0   \n",
              "3                       0                    0                    0   \n",
              "4                       0                    0                    0   \n",
              "...                   ...                  ...                  ...   \n",
              "3750                    0                    0                    0   \n",
              "3751                    0                    0                    0   \n",
              "3752                    0                    0                    0   \n",
              "3753                    0                    0                    0   \n",
              "3754                    0                    0                    0   \n",
              "\n",
              "      company_location_US  company_location_VN  company_size_Medium  \\\n",
              "0                       0                    0                    0   \n",
              "1                       1                    0                    0   \n",
              "2                       1                    0                    0   \n",
              "3                       0                    0                    1   \n",
              "4                       0                    0                    1   \n",
              "...                   ...                  ...                  ...   \n",
              "3750                    1                    0                    0   \n",
              "3751                    1                    0                    0   \n",
              "3752                    1                    0                    0   \n",
              "3753                    1                    0                    0   \n",
              "3754                    0                    0                    0   \n",
              "\n",
              "      company_size_Small  \n",
              "0                      0  \n",
              "1                      1  \n",
              "2                      1  \n",
              "3                      0  \n",
              "4                      0  \n",
              "...                  ...  \n",
              "3750                   0  \n",
              "3751                   0  \n",
              "3752                   1  \n",
              "3753                   0  \n",
              "3754                   0  \n",
              "\n",
              "[3755 rows x 271 columns]"
            ],
            "text/html": [
              "\n",
              "  <div id=\"df-91c9798b-a060-4420-9b79-6b69ea816ece\" class=\"colab-df-container\">\n",
              "    <div>\n",
              "<style scoped>\n",
              "    .dataframe tbody tr th:only-of-type {\n",
              "        vertical-align: middle;\n",
              "    }\n",
              "\n",
              "    .dataframe tbody tr th {\n",
              "        vertical-align: top;\n",
              "    }\n",
              "\n",
              "    .dataframe thead th {\n",
              "        text-align: right;\n",
              "    }\n",
              "</style>\n",
              "<table border=\"1\" class=\"dataframe\">\n",
              "  <thead>\n",
              "    <tr style=\"text-align: right;\">\n",
              "      <th></th>\n",
              "      <th>work_year</th>\n",
              "      <th>salary</th>\n",
              "      <th>experience_level_Executive</th>\n",
              "      <th>experience_level_Middle</th>\n",
              "      <th>experience_level_Senior</th>\n",
              "      <th>employment_type_Freelance</th>\n",
              "      <th>employment_type_Full-time</th>\n",
              "      <th>employment_type_Part-time</th>\n",
              "      <th>job_title_AI Developer</th>\n",
              "      <th>job_title_AI Programmer</th>\n",
              "      <th>...</th>\n",
              "      <th>company_location_SG</th>\n",
              "      <th>company_location_SI</th>\n",
              "      <th>company_location_SK</th>\n",
              "      <th>company_location_TH</th>\n",
              "      <th>company_location_TR</th>\n",
              "      <th>company_location_UA</th>\n",
              "      <th>company_location_US</th>\n",
              "      <th>company_location_VN</th>\n",
              "      <th>company_size_Medium</th>\n",
              "      <th>company_size_Small</th>\n",
              "    </tr>\n",
              "  </thead>\n",
              "  <tbody>\n",
              "    <tr>\n",
              "      <th>0</th>\n",
              "      <td>2023</td>\n",
              "      <td>85847</td>\n",
              "      <td>0</td>\n",
              "      <td>0</td>\n",
              "      <td>1</td>\n",
              "      <td>0</td>\n",
              "      <td>1</td>\n",
              "      <td>0</td>\n",
              "      <td>0</td>\n",
              "      <td>0</td>\n",
              "      <td>...</td>\n",
              "      <td>0</td>\n",
              "      <td>0</td>\n",
              "      <td>0</td>\n",
              "      <td>0</td>\n",
              "      <td>0</td>\n",
              "      <td>0</td>\n",
              "      <td>0</td>\n",
              "      <td>0</td>\n",
              "      <td>0</td>\n",
              "      <td>0</td>\n",
              "    </tr>\n",
              "    <tr>\n",
              "      <th>1</th>\n",
              "      <td>2023</td>\n",
              "      <td>30000</td>\n",
              "      <td>0</td>\n",
              "      <td>1</td>\n",
              "      <td>0</td>\n",
              "      <td>0</td>\n",
              "      <td>0</td>\n",
              "      <td>0</td>\n",
              "      <td>0</td>\n",
              "      <td>0</td>\n",
              "      <td>...</td>\n",
              "      <td>0</td>\n",
              "      <td>0</td>\n",
              "      <td>0</td>\n",
              "      <td>0</td>\n",
              "      <td>0</td>\n",
              "      <td>0</td>\n",
              "      <td>1</td>\n",
              "      <td>0</td>\n",
              "      <td>0</td>\n",
              "      <td>1</td>\n",
              "    </tr>\n",
              "    <tr>\n",
              "      <th>2</th>\n",
              "      <td>2023</td>\n",
              "      <td>25500</td>\n",
              "      <td>0</td>\n",
              "      <td>1</td>\n",
              "      <td>0</td>\n",
              "      <td>0</td>\n",
              "      <td>0</td>\n",
              "      <td>0</td>\n",
              "      <td>0</td>\n",
              "      <td>0</td>\n",
              "      <td>...</td>\n",
              "      <td>0</td>\n",
              "      <td>0</td>\n",
              "      <td>0</td>\n",
              "      <td>0</td>\n",
              "      <td>0</td>\n",
              "      <td>0</td>\n",
              "      <td>1</td>\n",
              "      <td>0</td>\n",
              "      <td>0</td>\n",
              "      <td>1</td>\n",
              "    </tr>\n",
              "    <tr>\n",
              "      <th>3</th>\n",
              "      <td>2023</td>\n",
              "      <td>175000</td>\n",
              "      <td>0</td>\n",
              "      <td>0</td>\n",
              "      <td>1</td>\n",
              "      <td>0</td>\n",
              "      <td>1</td>\n",
              "      <td>0</td>\n",
              "      <td>0</td>\n",
              "      <td>0</td>\n",
              "      <td>...</td>\n",
              "      <td>0</td>\n",
              "      <td>0</td>\n",
              "      <td>0</td>\n",
              "      <td>0</td>\n",
              "      <td>0</td>\n",
              "      <td>0</td>\n",
              "      <td>0</td>\n",
              "      <td>0</td>\n",
              "      <td>1</td>\n",
              "      <td>0</td>\n",
              "    </tr>\n",
              "    <tr>\n",
              "      <th>4</th>\n",
              "      <td>2023</td>\n",
              "      <td>120000</td>\n",
              "      <td>0</td>\n",
              "      <td>0</td>\n",
              "      <td>1</td>\n",
              "      <td>0</td>\n",
              "      <td>1</td>\n",
              "      <td>0</td>\n",
              "      <td>0</td>\n",
              "      <td>0</td>\n",
              "      <td>...</td>\n",
              "      <td>0</td>\n",
              "      <td>0</td>\n",
              "      <td>0</td>\n",
              "      <td>0</td>\n",
              "      <td>0</td>\n",
              "      <td>0</td>\n",
              "      <td>0</td>\n",
              "      <td>0</td>\n",
              "      <td>1</td>\n",
              "      <td>0</td>\n",
              "    </tr>\n",
              "    <tr>\n",
              "      <th>...</th>\n",
              "      <td>...</td>\n",
              "      <td>...</td>\n",
              "      <td>...</td>\n",
              "      <td>...</td>\n",
              "      <td>...</td>\n",
              "      <td>...</td>\n",
              "      <td>...</td>\n",
              "      <td>...</td>\n",
              "      <td>...</td>\n",
              "      <td>...</td>\n",
              "      <td>...</td>\n",
              "      <td>...</td>\n",
              "      <td>...</td>\n",
              "      <td>...</td>\n",
              "      <td>...</td>\n",
              "      <td>...</td>\n",
              "      <td>...</td>\n",
              "      <td>...</td>\n",
              "      <td>...</td>\n",
              "      <td>...</td>\n",
              "      <td>...</td>\n",
              "    </tr>\n",
              "    <tr>\n",
              "      <th>3750</th>\n",
              "      <td>2020</td>\n",
              "      <td>412000</td>\n",
              "      <td>0</td>\n",
              "      <td>0</td>\n",
              "      <td>1</td>\n",
              "      <td>0</td>\n",
              "      <td>1</td>\n",
              "      <td>0</td>\n",
              "      <td>0</td>\n",
              "      <td>0</td>\n",
              "      <td>...</td>\n",
              "      <td>0</td>\n",
              "      <td>0</td>\n",
              "      <td>0</td>\n",
              "      <td>0</td>\n",
              "      <td>0</td>\n",
              "      <td>0</td>\n",
              "      <td>1</td>\n",
              "      <td>0</td>\n",
              "      <td>0</td>\n",
              "      <td>0</td>\n",
              "    </tr>\n",
              "    <tr>\n",
              "      <th>3751</th>\n",
              "      <td>2021</td>\n",
              "      <td>151000</td>\n",
              "      <td>0</td>\n",
              "      <td>1</td>\n",
              "      <td>0</td>\n",
              "      <td>0</td>\n",
              "      <td>1</td>\n",
              "      <td>0</td>\n",
              "      <td>0</td>\n",
              "      <td>0</td>\n",
              "      <td>...</td>\n",
              "      <td>0</td>\n",
              "      <td>0</td>\n",
              "      <td>0</td>\n",
              "      <td>0</td>\n",
              "      <td>0</td>\n",
              "      <td>0</td>\n",
              "      <td>1</td>\n",
              "      <td>0</td>\n",
              "      <td>0</td>\n",
              "      <td>0</td>\n",
              "    </tr>\n",
              "    <tr>\n",
              "      <th>3752</th>\n",
              "      <td>2020</td>\n",
              "      <td>105000</td>\n",
              "      <td>0</td>\n",
              "      <td>0</td>\n",
              "      <td>0</td>\n",
              "      <td>0</td>\n",
              "      <td>1</td>\n",
              "      <td>0</td>\n",
              "      <td>0</td>\n",
              "      <td>0</td>\n",
              "      <td>...</td>\n",
              "      <td>0</td>\n",
              "      <td>0</td>\n",
              "      <td>0</td>\n",
              "      <td>0</td>\n",
              "      <td>0</td>\n",
              "      <td>0</td>\n",
              "      <td>1</td>\n",
              "      <td>0</td>\n",
              "      <td>0</td>\n",
              "      <td>1</td>\n",
              "    </tr>\n",
              "    <tr>\n",
              "      <th>3753</th>\n",
              "      <td>2020</td>\n",
              "      <td>100000</td>\n",
              "      <td>0</td>\n",
              "      <td>0</td>\n",
              "      <td>0</td>\n",
              "      <td>0</td>\n",
              "      <td>0</td>\n",
              "      <td>0</td>\n",
              "      <td>0</td>\n",
              "      <td>0</td>\n",
              "      <td>...</td>\n",
              "      <td>0</td>\n",
              "      <td>0</td>\n",
              "      <td>0</td>\n",
              "      <td>0</td>\n",
              "      <td>0</td>\n",
              "      <td>0</td>\n",
              "      <td>1</td>\n",
              "      <td>0</td>\n",
              "      <td>0</td>\n",
              "      <td>0</td>\n",
              "    </tr>\n",
              "    <tr>\n",
              "      <th>3754</th>\n",
              "      <td>2021</td>\n",
              "      <td>94665</td>\n",
              "      <td>0</td>\n",
              "      <td>0</td>\n",
              "      <td>1</td>\n",
              "      <td>0</td>\n",
              "      <td>1</td>\n",
              "      <td>0</td>\n",
              "      <td>0</td>\n",
              "      <td>0</td>\n",
              "      <td>...</td>\n",
              "      <td>0</td>\n",
              "      <td>0</td>\n",
              "      <td>0</td>\n",
              "      <td>0</td>\n",
              "      <td>0</td>\n",
              "      <td>0</td>\n",
              "      <td>0</td>\n",
              "      <td>0</td>\n",
              "      <td>0</td>\n",
              "      <td>0</td>\n",
              "    </tr>\n",
              "  </tbody>\n",
              "</table>\n",
              "<p>3755 rows × 271 columns</p>\n",
              "</div>\n",
              "    <div class=\"colab-df-buttons\">\n",
              "\n",
              "  <div class=\"colab-df-container\">\n",
              "    <button class=\"colab-df-convert\" onclick=\"convertToInteractive('df-91c9798b-a060-4420-9b79-6b69ea816ece')\"\n",
              "            title=\"Convert this dataframe to an interactive table.\"\n",
              "            style=\"display:none;\">\n",
              "\n",
              "  <svg xmlns=\"http://www.w3.org/2000/svg\" height=\"24px\" viewBox=\"0 -960 960 960\">\n",
              "    <path d=\"M120-120v-720h720v720H120Zm60-500h600v-160H180v160Zm220 220h160v-160H400v160Zm0 220h160v-160H400v160ZM180-400h160v-160H180v160Zm440 0h160v-160H620v160ZM180-180h160v-160H180v160Zm440 0h160v-160H620v160Z\"/>\n",
              "  </svg>\n",
              "    </button>\n",
              "\n",
              "  <style>\n",
              "    .colab-df-container {\n",
              "      display:flex;\n",
              "      gap: 12px;\n",
              "    }\n",
              "\n",
              "    .colab-df-convert {\n",
              "      background-color: #E8F0FE;\n",
              "      border: none;\n",
              "      border-radius: 50%;\n",
              "      cursor: pointer;\n",
              "      display: none;\n",
              "      fill: #1967D2;\n",
              "      height: 32px;\n",
              "      padding: 0 0 0 0;\n",
              "      width: 32px;\n",
              "    }\n",
              "\n",
              "    .colab-df-convert:hover {\n",
              "      background-color: #E2EBFA;\n",
              "      box-shadow: 0px 1px 2px rgba(60, 64, 67, 0.3), 0px 1px 3px 1px rgba(60, 64, 67, 0.15);\n",
              "      fill: #174EA6;\n",
              "    }\n",
              "\n",
              "    .colab-df-buttons div {\n",
              "      margin-bottom: 4px;\n",
              "    }\n",
              "\n",
              "    [theme=dark] .colab-df-convert {\n",
              "      background-color: #3B4455;\n",
              "      fill: #D2E3FC;\n",
              "    }\n",
              "\n",
              "    [theme=dark] .colab-df-convert:hover {\n",
              "      background-color: #434B5C;\n",
              "      box-shadow: 0px 1px 3px 1px rgba(0, 0, 0, 0.15);\n",
              "      filter: drop-shadow(0px 1px 2px rgba(0, 0, 0, 0.3));\n",
              "      fill: #FFFFFF;\n",
              "    }\n",
              "  </style>\n",
              "\n",
              "    <script>\n",
              "      const buttonEl =\n",
              "        document.querySelector('#df-91c9798b-a060-4420-9b79-6b69ea816ece button.colab-df-convert');\n",
              "      buttonEl.style.display =\n",
              "        google.colab.kernel.accessAllowed ? 'block' : 'none';\n",
              "\n",
              "      async function convertToInteractive(key) {\n",
              "        const element = document.querySelector('#df-91c9798b-a060-4420-9b79-6b69ea816ece');\n",
              "        const dataTable =\n",
              "          await google.colab.kernel.invokeFunction('convertToInteractive',\n",
              "                                                    [key], {});\n",
              "        if (!dataTable) return;\n",
              "\n",
              "        const docLinkHtml = 'Like what you see? Visit the ' +\n",
              "          '<a target=\"_blank\" href=https://colab.research.google.com/notebooks/data_table.ipynb>data table notebook</a>'\n",
              "          + ' to learn more about interactive tables.';\n",
              "        element.innerHTML = '';\n",
              "        dataTable['output_type'] = 'display_data';\n",
              "        await google.colab.output.renderOutput(dataTable, element);\n",
              "        const docLink = document.createElement('div');\n",
              "        docLink.innerHTML = docLinkHtml;\n",
              "        element.appendChild(docLink);\n",
              "      }\n",
              "    </script>\n",
              "  </div>\n",
              "\n",
              "\n",
              "<div id=\"df-6b2a8b93-2c63-493c-a6c1-b49a49aceb51\">\n",
              "  <button class=\"colab-df-quickchart\" onclick=\"quickchart('df-6b2a8b93-2c63-493c-a6c1-b49a49aceb51')\"\n",
              "            title=\"Suggest charts\"\n",
              "            style=\"display:none;\">\n",
              "\n",
              "<svg xmlns=\"http://www.w3.org/2000/svg\" height=\"24px\"viewBox=\"0 0 24 24\"\n",
              "     width=\"24px\">\n",
              "    <g>\n",
              "        <path d=\"M19 3H5c-1.1 0-2 .9-2 2v14c0 1.1.9 2 2 2h14c1.1 0 2-.9 2-2V5c0-1.1-.9-2-2-2zM9 17H7v-7h2v7zm4 0h-2V7h2v10zm4 0h-2v-4h2v4z\"/>\n",
              "    </g>\n",
              "</svg>\n",
              "  </button>\n",
              "\n",
              "<style>\n",
              "  .colab-df-quickchart {\n",
              "      --bg-color: #E8F0FE;\n",
              "      --fill-color: #1967D2;\n",
              "      --hover-bg-color: #E2EBFA;\n",
              "      --hover-fill-color: #174EA6;\n",
              "      --disabled-fill-color: #AAA;\n",
              "      --disabled-bg-color: #DDD;\n",
              "  }\n",
              "\n",
              "  [theme=dark] .colab-df-quickchart {\n",
              "      --bg-color: #3B4455;\n",
              "      --fill-color: #D2E3FC;\n",
              "      --hover-bg-color: #434B5C;\n",
              "      --hover-fill-color: #FFFFFF;\n",
              "      --disabled-bg-color: #3B4455;\n",
              "      --disabled-fill-color: #666;\n",
              "  }\n",
              "\n",
              "  .colab-df-quickchart {\n",
              "    background-color: var(--bg-color);\n",
              "    border: none;\n",
              "    border-radius: 50%;\n",
              "    cursor: pointer;\n",
              "    display: none;\n",
              "    fill: var(--fill-color);\n",
              "    height: 32px;\n",
              "    padding: 0;\n",
              "    width: 32px;\n",
              "  }\n",
              "\n",
              "  .colab-df-quickchart:hover {\n",
              "    background-color: var(--hover-bg-color);\n",
              "    box-shadow: 0 1px 2px rgba(60, 64, 67, 0.3), 0 1px 3px 1px rgba(60, 64, 67, 0.15);\n",
              "    fill: var(--button-hover-fill-color);\n",
              "  }\n",
              "\n",
              "  .colab-df-quickchart-complete:disabled,\n",
              "  .colab-df-quickchart-complete:disabled:hover {\n",
              "    background-color: var(--disabled-bg-color);\n",
              "    fill: var(--disabled-fill-color);\n",
              "    box-shadow: none;\n",
              "  }\n",
              "\n",
              "  .colab-df-spinner {\n",
              "    border: 2px solid var(--fill-color);\n",
              "    border-color: transparent;\n",
              "    border-bottom-color: var(--fill-color);\n",
              "    animation:\n",
              "      spin 1s steps(1) infinite;\n",
              "  }\n",
              "\n",
              "  @keyframes spin {\n",
              "    0% {\n",
              "      border-color: transparent;\n",
              "      border-bottom-color: var(--fill-color);\n",
              "      border-left-color: var(--fill-color);\n",
              "    }\n",
              "    20% {\n",
              "      border-color: transparent;\n",
              "      border-left-color: var(--fill-color);\n",
              "      border-top-color: var(--fill-color);\n",
              "    }\n",
              "    30% {\n",
              "      border-color: transparent;\n",
              "      border-left-color: var(--fill-color);\n",
              "      border-top-color: var(--fill-color);\n",
              "      border-right-color: var(--fill-color);\n",
              "    }\n",
              "    40% {\n",
              "      border-color: transparent;\n",
              "      border-right-color: var(--fill-color);\n",
              "      border-top-color: var(--fill-color);\n",
              "    }\n",
              "    60% {\n",
              "      border-color: transparent;\n",
              "      border-right-color: var(--fill-color);\n",
              "    }\n",
              "    80% {\n",
              "      border-color: transparent;\n",
              "      border-right-color: var(--fill-color);\n",
              "      border-bottom-color: var(--fill-color);\n",
              "    }\n",
              "    90% {\n",
              "      border-color: transparent;\n",
              "      border-bottom-color: var(--fill-color);\n",
              "    }\n",
              "  }\n",
              "</style>\n",
              "\n",
              "  <script>\n",
              "    async function quickchart(key) {\n",
              "      const quickchartButtonEl =\n",
              "        document.querySelector('#' + key + ' button');\n",
              "      quickchartButtonEl.disabled = true;  // To prevent multiple clicks.\n",
              "      quickchartButtonEl.classList.add('colab-df-spinner');\n",
              "      try {\n",
              "        const charts = await google.colab.kernel.invokeFunction(\n",
              "            'suggestCharts', [key], {});\n",
              "      } catch (error) {\n",
              "        console.error('Error during call to suggestCharts:', error);\n",
              "      }\n",
              "      quickchartButtonEl.classList.remove('colab-df-spinner');\n",
              "      quickchartButtonEl.classList.add('colab-df-quickchart-complete');\n",
              "    }\n",
              "    (() => {\n",
              "      let quickchartButtonEl =\n",
              "        document.querySelector('#df-6b2a8b93-2c63-493c-a6c1-b49a49aceb51 button');\n",
              "      quickchartButtonEl.style.display =\n",
              "        google.colab.kernel.accessAllowed ? 'block' : 'none';\n",
              "    })();\n",
              "  </script>\n",
              "</div>\n",
              "    </div>\n",
              "  </div>\n"
            ],
            "application/vnd.google.colaboratory.intrinsic+json": {
              "type": "dataframe",
              "variable_name": "data_processed"
            }
          },
          "metadata": {},
          "execution_count": 13
        }
      ],
      "source": [
        "# pass ALL features to get_dummies() function\n",
        "data_processed = pd.get_dummies(data, columns=[\n",
        "    'experience_level',\n",
        "    'employment_type',\n",
        "    'job_title',\n",
        "    'salary_currency',\n",
        "    'employee_residence',\n",
        "    'remote_ratio',\n",
        "    'company_location',\n",
        "    'company_size'], drop_first=True)\n",
        "data_processed"
      ]
    },
    {
      "cell_type": "markdown",
      "id": "6bd7d959-9edc-45db-902a-0249534d74fa",
      "metadata": {
        "id": "6bd7d959-9edc-45db-902a-0249534d74fa"
      },
      "source": [
        "### Task 4. Preparing Dataset for Machine Learning"
      ]
    },
    {
      "cell_type": "markdown",
      "id": "e0910f7e-a3e0-46b8-ad85-ea9f5fa0cdd0",
      "metadata": {
        "id": "e0910f7e-a3e0-46b8-ad85-ea9f5fa0cdd0"
      },
      "source": [
        "Fill in the blanks to create training and testing datasets [2 points]."
      ]
    },
    {
      "cell_type": "code",
      "execution_count": null,
      "id": "58b1bbca-6e89-4566-b315-219562bc2f73",
      "metadata": {
        "id": "58b1bbca-6e89-4566-b315-219562bc2f73"
      },
      "outputs": [],
      "source": [
        "# training features\n",
        "X = data_processed.drop(columns=['salary'], axis=1)"
      ]
    },
    {
      "cell_type": "code",
      "execution_count": null,
      "id": "b6c48ab8-af44-4b44-a7ad-71b87606fef5",
      "metadata": {
        "id": "b6c48ab8-af44-4b44-a7ad-71b87606fef5"
      },
      "outputs": [],
      "source": [
        "# target variable\n",
        "y = data_processed['salary']"
      ]
    },
    {
      "cell_type": "code",
      "execution_count": null,
      "id": "29e875b1-7c69-4ffe-8f80-dc864a93ebe3",
      "metadata": {
        "id": "29e875b1-7c69-4ffe-8f80-dc864a93ebe3"
      },
      "outputs": [],
      "source": [
        "# split data into training and testing sets using 80/20 ratio and random_state set at 42\n",
        "X_train, X_test, y_train, y_test = train_test_split(X, y,\n",
        "                                         train_size=0.8,\n",
        "                                         random_state=42)"
      ]
    },
    {
      "cell_type": "markdown",
      "id": "f06d349e-9c06-4c11-a4af-cd8cfaf7c79b",
      "metadata": {
        "id": "f06d349e-9c06-4c11-a4af-cd8cfaf7c79b"
      },
      "source": [
        "### Task 5. Training and Evaluating the Model"
      ]
    },
    {
      "cell_type": "markdown",
      "id": "03a88e6d-f386-449b-8218-64890c1a8d2d",
      "metadata": {
        "id": "03a88e6d-f386-449b-8218-64890c1a8d2d"
      },
      "source": [
        "Fill in the blanks to create and train the linear regression model [2 points]."
      ]
    },
    {
      "cell_type": "code",
      "execution_count": null,
      "id": "7a709ea7-7c85-43cb-b8a0-6b2c9b1346e4",
      "metadata": {
        "id": "7a709ea7-7c85-43cb-b8a0-6b2c9b1346e4"
      },
      "outputs": [],
      "source": [
        "#create a linear regression model\n",
        "lin_reg_model = LinearRegression()"
      ]
    },
    {
      "cell_type": "code",
      "execution_count": null,
      "id": "e05bd1b3-ec78-4451-856b-a1b4ccc90965",
      "metadata": {
        "id": "e05bd1b3-ec78-4451-856b-a1b4ccc90965",
        "colab": {
          "base_uri": "https://localhost:8080/",
          "height": 74
        },
        "outputId": "8de871f8-257b-4f9c-ba03-22428aaa8f80"
      },
      "outputs": [
        {
          "output_type": "execute_result",
          "data": {
            "text/plain": [
              "LinearRegression()"
            ],
            "text/html": [
              "<style>#sk-container-id-1 {color: black;background-color: white;}#sk-container-id-1 pre{padding: 0;}#sk-container-id-1 div.sk-toggleable {background-color: white;}#sk-container-id-1 label.sk-toggleable__label {cursor: pointer;display: block;width: 100%;margin-bottom: 0;padding: 0.3em;box-sizing: border-box;text-align: center;}#sk-container-id-1 label.sk-toggleable__label-arrow:before {content: \"▸\";float: left;margin-right: 0.25em;color: #696969;}#sk-container-id-1 label.sk-toggleable__label-arrow:hover:before {color: black;}#sk-container-id-1 div.sk-estimator:hover label.sk-toggleable__label-arrow:before {color: black;}#sk-container-id-1 div.sk-toggleable__content {max-height: 0;max-width: 0;overflow: hidden;text-align: left;background-color: #f0f8ff;}#sk-container-id-1 div.sk-toggleable__content pre {margin: 0.2em;color: black;border-radius: 0.25em;background-color: #f0f8ff;}#sk-container-id-1 input.sk-toggleable__control:checked~div.sk-toggleable__content {max-height: 200px;max-width: 100%;overflow: auto;}#sk-container-id-1 input.sk-toggleable__control:checked~label.sk-toggleable__label-arrow:before {content: \"▾\";}#sk-container-id-1 div.sk-estimator input.sk-toggleable__control:checked~label.sk-toggleable__label {background-color: #d4ebff;}#sk-container-id-1 div.sk-label input.sk-toggleable__control:checked~label.sk-toggleable__label {background-color: #d4ebff;}#sk-container-id-1 input.sk-hidden--visually {border: 0;clip: rect(1px 1px 1px 1px);clip: rect(1px, 1px, 1px, 1px);height: 1px;margin: -1px;overflow: hidden;padding: 0;position: absolute;width: 1px;}#sk-container-id-1 div.sk-estimator {font-family: monospace;background-color: #f0f8ff;border: 1px dotted black;border-radius: 0.25em;box-sizing: border-box;margin-bottom: 0.5em;}#sk-container-id-1 div.sk-estimator:hover {background-color: #d4ebff;}#sk-container-id-1 div.sk-parallel-item::after {content: \"\";width: 100%;border-bottom: 1px solid gray;flex-grow: 1;}#sk-container-id-1 div.sk-label:hover label.sk-toggleable__label {background-color: #d4ebff;}#sk-container-id-1 div.sk-serial::before {content: \"\";position: absolute;border-left: 1px solid gray;box-sizing: border-box;top: 0;bottom: 0;left: 50%;z-index: 0;}#sk-container-id-1 div.sk-serial {display: flex;flex-direction: column;align-items: center;background-color: white;padding-right: 0.2em;padding-left: 0.2em;position: relative;}#sk-container-id-1 div.sk-item {position: relative;z-index: 1;}#sk-container-id-1 div.sk-parallel {display: flex;align-items: stretch;justify-content: center;background-color: white;position: relative;}#sk-container-id-1 div.sk-item::before, #sk-container-id-1 div.sk-parallel-item::before {content: \"\";position: absolute;border-left: 1px solid gray;box-sizing: border-box;top: 0;bottom: 0;left: 50%;z-index: -1;}#sk-container-id-1 div.sk-parallel-item {display: flex;flex-direction: column;z-index: 1;position: relative;background-color: white;}#sk-container-id-1 div.sk-parallel-item:first-child::after {align-self: flex-end;width: 50%;}#sk-container-id-1 div.sk-parallel-item:last-child::after {align-self: flex-start;width: 50%;}#sk-container-id-1 div.sk-parallel-item:only-child::after {width: 0;}#sk-container-id-1 div.sk-dashed-wrapped {border: 1px dashed gray;margin: 0 0.4em 0.5em 0.4em;box-sizing: border-box;padding-bottom: 0.4em;background-color: white;}#sk-container-id-1 div.sk-label label {font-family: monospace;font-weight: bold;display: inline-block;line-height: 1.2em;}#sk-container-id-1 div.sk-label-container {text-align: center;}#sk-container-id-1 div.sk-container {/* jupyter's `normalize.less` sets `[hidden] { display: none; }` but bootstrap.min.css set `[hidden] { display: none !important; }` so we also need the `!important` here to be able to override the default hidden behavior on the sphinx rendered scikit-learn.org. See: https://github.com/scikit-learn/scikit-learn/issues/21755 */display: inline-block !important;position: relative;}#sk-container-id-1 div.sk-text-repr-fallback {display: none;}</style><div id=\"sk-container-id-1\" class=\"sk-top-container\"><div class=\"sk-text-repr-fallback\"><pre>LinearRegression()</pre><b>In a Jupyter environment, please rerun this cell to show the HTML representation or trust the notebook. <br />On GitHub, the HTML representation is unable to render, please try loading this page with nbviewer.org.</b></div><div class=\"sk-container\" hidden><div class=\"sk-item\"><div class=\"sk-estimator sk-toggleable\"><input class=\"sk-toggleable__control sk-hidden--visually\" id=\"sk-estimator-id-1\" type=\"checkbox\" checked><label for=\"sk-estimator-id-1\" class=\"sk-toggleable__label sk-toggleable__label-arrow\">LinearRegression</label><div class=\"sk-toggleable__content\"><pre>LinearRegression()</pre></div></div></div></div></div>"
            ]
          },
          "metadata": {},
          "execution_count": 19
        }
      ],
      "source": [
        "#fit the model\n",
        "lin_reg_model.fit(X_train, y_train)"
      ]
    },
    {
      "cell_type": "code",
      "execution_count": null,
      "id": "138b73a6-e9cd-452b-9d51-e470cba153b8",
      "metadata": {
        "id": "138b73a6-e9cd-452b-9d51-e470cba153b8"
      },
      "outputs": [],
      "source": [
        "# make predictions\n",
        "y_pred_train_lr = lin_reg_model.predict(X_train)"
      ]
    },
    {
      "cell_type": "code",
      "execution_count": null,
      "id": "81a0e68e-d64c-418e-b3c0-f7847c95e24d",
      "metadata": {
        "id": "81a0e68e-d64c-418e-b3c0-f7847c95e24d",
        "colab": {
          "base_uri": "https://localhost:8080/"
        },
        "outputId": "95a4b950-0b25-4fb0-bbd0-3ed3422f8d90"
      },
      "outputs": [
        {
          "output_type": "stream",
          "name": "stdout",
          "text": [
            "MSE = 2005884460.7123835\n"
          ]
        }
      ],
      "source": [
        "#calculate and interpret MSE\n",
        "print('MSE =', mean_squared_error(y_train, y_pred_train_lr))"
      ]
    },
    {
      "cell_type": "code",
      "execution_count": null,
      "id": "86c84f4b-fe3b-41af-a41a-b461e18dded5",
      "metadata": {
        "id": "86c84f4b-fe3b-41af-a41a-b461e18dded5",
        "colab": {
          "base_uri": "https://localhost:8080/"
        },
        "outputId": "317c3892-ff18-4b21-f4f6-85d0a0e70fc0"
      },
      "outputs": [
        {
          "output_type": "stream",
          "name": "stdout",
          "text": [
            "MAE = 33226.282290279625\n"
          ]
        }
      ],
      "source": [
        "#calculate and interpret MAE\n",
        "print('MAE =', mean_absolute_error(y_train, y_pred_train_lr))"
      ]
    },
    {
      "cell_type": "code",
      "execution_count": null,
      "id": "724fc763-a182-40f7-bfc5-4a28929ae702",
      "metadata": {
        "id": "724fc763-a182-40f7-bfc5-4a28929ae702",
        "colab": {
          "base_uri": "https://localhost:8080/"
        },
        "outputId": "d2a246d0-5b00-4ae9-b6ba-8de1e94c8307"
      },
      "outputs": [
        {
          "output_type": "stream",
          "name": "stdout",
          "text": [
            "MAPE = 0.3030167029899729\n"
          ]
        }
      ],
      "source": [
        "#calculate interpret MAPE\n",
        "print('MAPE =', mean_absolute_percentage_error(y_train, y_pred_train_lr))"
      ]
    },
    {
      "cell_type": "markdown",
      "id": "fbad6908-5807-4702-9e5b-076966650f2d",
      "metadata": {
        "id": "fbad6908-5807-4702-9e5b-076966650f2d"
      },
      "source": [
        "### Task 6. Testing and Evaluating the Model"
      ]
    },
    {
      "cell_type": "markdown",
      "id": "3ed1af77-8d0e-4180-901d-8d3b19448a01",
      "metadata": {
        "id": "3ed1af77-8d0e-4180-901d-8d3b19448a01"
      },
      "source": [
        "Fill in the blanks to test and evaluate the linear regression model [3 points]."
      ]
    },
    {
      "cell_type": "code",
      "execution_count": null,
      "id": "7463552e-d6fe-46c1-a169-c4150e09020d",
      "metadata": {
        "id": "7463552e-d6fe-46c1-a169-c4150e09020d"
      },
      "outputs": [],
      "source": [
        "# make predictions\n",
        "y_pred_test_lr = lin_reg_model.predict(X_test)"
      ]
    },
    {
      "cell_type": "code",
      "execution_count": null,
      "id": "74140193-d684-4793-8d94-b86d31f16f2f",
      "metadata": {
        "id": "74140193-d684-4793-8d94-b86d31f16f2f",
        "colab": {
          "base_uri": "https://localhost:8080/"
        },
        "outputId": "4f85ac94-446e-4b79-f230-cfc10492e02d"
      },
      "outputs": [
        {
          "output_type": "stream",
          "name": "stdout",
          "text": [
            "MSE = 1.2656511592732544e+31\n"
          ]
        }
      ],
      "source": [
        "#calculate and interpret MSE\n",
        "print('MSE =', mean_squared_error(y_test, y_pred_test_lr))"
      ]
    },
    {
      "cell_type": "code",
      "execution_count": null,
      "id": "ab18292e-acf3-4d8b-b1c4-f3c9c1b15c99",
      "metadata": {
        "id": "ab18292e-acf3-4d8b-b1c4-f3c9c1b15c99",
        "colab": {
          "base_uri": "https://localhost:8080/"
        },
        "outputId": "d7ad88da-39f6-458f-f91d-c29c32d887a5"
      },
      "outputs": [
        {
          "output_type": "stream",
          "name": "stdout",
          "text": [
            "MAE = 393759815583670.2\n"
          ]
        }
      ],
      "source": [
        "#calculate and interpret MAE\n",
        "print('MAE =', mean_absolute_error(y_test, y_pred_test_lr))"
      ]
    },
    {
      "cell_type": "code",
      "execution_count": null,
      "id": "e126d175-1d2d-42ee-9b40-fe482e30855c",
      "metadata": {
        "id": "e126d175-1d2d-42ee-9b40-fe482e30855c",
        "colab": {
          "base_uri": "https://localhost:8080/"
        },
        "outputId": "1bcf791c-3885-4788-cf50-6bbc5afce65e"
      },
      "outputs": [
        {
          "output_type": "stream",
          "name": "stdout",
          "text": [
            "MAPE = 14473805008.666979\n"
          ]
        }
      ],
      "source": [
        "#calculate interpret MAPE\n",
        "print('MAPE =', mean_absolute_percentage_error(y_test, y_pred_test_lr))"
      ]
    },
    {
      "cell_type": "markdown",
      "id": "6683180c-0d4b-4cff-942f-ebc1d3e0efce",
      "metadata": {
        "id": "6683180c-0d4b-4cff-942f-ebc1d3e0efce"
      },
      "source": [
        "**OPEN QUESTION:** Compare errors in the training and testing datasets. Is the linear regression model overfitted or underfitted?\n",
        "\n",
        "**MAPE on training set is 0.3, but on testing set\n",
        "is 14473805008.666979. It is overfitted? so we have a lot of mistakes on test set**"
      ]
    },
    {
      "cell_type": "markdown",
      "id": "96bff89b-4219-4b88-8a98-0cee464ef5b4",
      "metadata": {
        "id": "96bff89b-4219-4b88-8a98-0cee464ef5b4"
      },
      "source": [
        "### Task 7. Solving Overfitting with Regularization"
      ]
    },
    {
      "cell_type": "markdown",
      "id": "7215bdbe-5db5-4660-b81c-894808fd7b4c",
      "metadata": {
        "id": "7215bdbe-5db5-4660-b81c-894808fd7b4c"
      },
      "source": [
        "#### **Overfitting vs. Underfitting**"
      ]
    },
    {
      "cell_type": "markdown",
      "id": "15ed3bce-9692-43ad-92fd-d669297d947c",
      "metadata": {
        "id": "15ed3bce-9692-43ad-92fd-d669297d947c"
      },
      "source": [
        "***Underfitting:*** Poor performance on the training data and poor generalization to other data.\n",
        "\n",
        "Underfitting refers to a model that can neither model the training data not generalize to new data. An underfit machine learning model is not a suitable model and will be obvious as it will have poor performance on the training data.\n",
        "\n",
        "Underfitting occurs when a model can’t capture and generalize the underlying trend of the data. Intuitively, it didn’t fit the data well enough, as a result, it would produce **high errors on both training and testing data (i.e., high bias).**"
      ]
    },
    {
      "cell_type": "markdown",
      "id": "20871537-8fd0-4f26-bfd5-40de586dcfb3",
      "metadata": {
        "id": "20871537-8fd0-4f26-bfd5-40de586dcfb3"
      },
      "source": [
        "***Overfitting:*** Good performance on the training data, poor generalization to other data.\n",
        "\n",
        "Overfitting refers to a model that models the training data too well. Overfitting happens when a model learns the detail and noise in the training data to the extent that it negatively impacts the performance on the model on new data. This means that the noise or random fluctuations in the training data is picked up and learned as concepts by the model. The problem is that these concepts do not apply to new data and negatively impact the models ability to generalize.\n",
        "\n",
        "On the other hand, overfitting occurs when a model is fitting the training too well and it starts to model the noise of the training data. It would have **a low error in training data (i.e., low bias) but a high error in the testing data (i.e., high variance).**"
      ]
    },
    {
      "cell_type": "markdown",
      "id": "ac576cf1-60eb-43f3-99e9-7857470bc533",
      "metadata": {
        "id": "ac576cf1-60eb-43f3-99e9-7857470bc533"
      },
      "source": [
        "![image.png](attachment:78285fec-c20f-43ad-973d-9559f1705fab.png)"
      ]
    },
    {
      "cell_type": "markdown",
      "id": "56196238-1a38-4fbd-9ec9-dd66e39902e8",
      "metadata": {
        "id": "56196238-1a38-4fbd-9ec9-dd66e39902e8"
      },
      "source": [
        "#### **Bias-Variance Tradeoff**"
      ]
    },
    {
      "cell_type": "markdown",
      "id": "7c4b516f-b1d9-4e27-bded-2947313b52d3",
      "metadata": {
        "id": "7c4b516f-b1d9-4e27-bded-2947313b52d3"
      },
      "source": [
        "In supervised machine learning an algorithm learns a model from training data. The goal of any supervised machine learning algorithm is to best estimate the mapping function (f) for the output variable (Y) given the input data (X). The mapping function is often called the target function because it is the function that a given supervised machine learning algorithm aims to approximate. The prediction error for any machine learning algorithm can be broken down into three parts:\n",
        "- ***Bias Error:*** the difference between the average prediction of our model and the true value that we are trying to predict.\n",
        "- ***Variance Error:*** a measure of the variability (aka, spread) of the predicted values for a given input with the trained model.\n",
        "- ***Irreducible Error:*** noise in the data that can’t be explained by the trained model. It always exists regardless of how good the trained model is."
      ]
    },
    {
      "cell_type": "markdown",
      "id": "3fd49774-f9ff-4d11-8820-afb0b1c520f8",
      "metadata": {
        "id": "3fd49774-f9ff-4d11-8820-afb0b1c520f8"
      },
      "source": [
        "***Bias Error***\n",
        "\n",
        "Bias are the simplifying assumptions made by a model to make the target function easier to learn. Generally parametric algorithms have a high bias making them fast to learn and easier to understand but generally less flexible. In turn they are have lower predictive performance on complex problems that fail to meet the simplifying assumptions of the algorithms bias.\n",
        "\n",
        "**Low Bias:** Suggests more assumptions about the form of the target function.\n",
        "\n",
        "**High-Bias:** Suggests less assumptions about the form of the target function."
      ]
    },
    {
      "cell_type": "markdown",
      "id": "6d8b18df-9fd2-45e6-b901-f76eb4cff94c",
      "metadata": {
        "id": "6d8b18df-9fd2-45e6-b901-f76eb4cff94c"
      },
      "source": [
        "***Variance Error***\n",
        "\n",
        "Variance is the amount that the estimate of the target function will change if different training data was used. The target function is estimated from the training data by a machine learning algorithm, so we should expect the algorithm to have some variance. Ideally, it should not change too much from one training dataset to the next, meaning that the algorithm is good at picking out the hidden underlying mapping between the inputs and the output variables.\n",
        "\n",
        "**Low Variance:** Suggests small changes to the estimate of the target function with changes to the training dataset.\n",
        "\n",
        "**High Variance:** Suggests large changes to the estimate of the target function with changes to the training dataset."
      ]
    },
    {
      "cell_type": "markdown",
      "id": "bf4e6fbb-1de8-4468-a110-4cf5572a21ef",
      "metadata": {
        "id": "bf4e6fbb-1de8-4468-a110-4cf5572a21ef"
      },
      "source": [
        "![bias-variance.png](attachment:3959250d-6f4c-431c-b196-2dd954ef30fd.png)"
      ]
    },
    {
      "cell_type": "markdown",
      "id": "b0548139-0d78-4937-9f74-e147dcbf63c4",
      "metadata": {
        "id": "b0548139-0d78-4937-9f74-e147dcbf63c4"
      },
      "source": [
        "The goal of any supervised machine learning algorithm is to achieve low bias and low variance. In turn the algorithm should achieve good prediction performance. Ideally, we would like to reduce both bias and variance of a model. However, it is very difficult and sometimes impossible to achieve. As you’re trying to reduce the prediction error on the training data, the prediction error on the testing data might increase.\n",
        "\n",
        "In the ***bias and variance trade-off***, it might be better off accepting some bias for a reduction of variance. Consequently, we would have smaller prediction errors on the unseen data."
      ]
    },
    {
      "cell_type": "markdown",
      "id": "437056e1-9273-42dd-b04c-10b307360485",
      "metadata": {
        "id": "437056e1-9273-42dd-b04c-10b307360485"
      },
      "source": [
        "![bias-variance tradeoff.png](attachment:ec8ac311-d0ed-471d-aa1a-edf67ff19f18.png)"
      ]
    },
    {
      "cell_type": "markdown",
      "id": "bf1b22ae-d77f-4050-83a0-dea4fd63f1be",
      "metadata": {
        "id": "bf1b22ae-d77f-4050-83a0-dea4fd63f1be"
      },
      "source": [
        "#### **Regularization**"
      ]
    },
    {
      "cell_type": "markdown",
      "id": "6c76861a-0631-46a6-8f57-ab10732fd974",
      "metadata": {
        "id": "6c76861a-0631-46a6-8f57-ab10732fd974"
      },
      "source": [
        "***Regularization methods*** seek to both minimize the sum of the squared error of the model on the training data (using Ordinary Least Squares) but also to reduce the complexity of the model (like the number or absolute size of the sum of all coefficients in the model). Two popular examples of regularization\n",
        "procedures for linear regression are:\n",
        "- ***Lasso Regression:*** where Ordinary Least Squares is modified to also minimize the absolute sum of the coefficients (called L1 regularization).\n",
        "- ***Ridge Regression:*** where Ordinary Least Squares is modified to also minimize the squared absolute sum of the coefficients (called L2 regularization).\n",
        "\n",
        "These methods are effective to use when there is collinearity in your input values and ordinary least squares would overfit the training data."
      ]
    },
    {
      "cell_type": "markdown",
      "id": "e307e2cc-815e-4c23-9c28-0318f64aae50",
      "metadata": {
        "id": "e307e2cc-815e-4c23-9c28-0318f64aae50"
      },
      "source": [
        "![image.png](attachment:275ac4e7-a3ec-4565-ba5c-d9f767385353.png)"
      ]
    },
    {
      "cell_type": "markdown",
      "id": "2276eac8-aa64-476d-8e9b-09e42a22aead",
      "metadata": {
        "id": "2276eac8-aa64-476d-8e9b-09e42a22aead"
      },
      "source": [
        "Fill in the blanks in the code to perform ridge regularization [3 points]."
      ]
    },
    {
      "cell_type": "code",
      "execution_count": null,
      "id": "6e25a494-e930-467e-82f6-bdf79e5ebc76",
      "metadata": {
        "id": "6e25a494-e930-467e-82f6-bdf79e5ebc76"
      },
      "outputs": [],
      "source": [
        "# create a ridge regression with Ridge() method\n",
        "ridge_reg_model = Ridge(alpha=0.1)"
      ]
    },
    {
      "cell_type": "code",
      "execution_count": null,
      "id": "150e1e8b-c888-43cd-8d2e-4373350eb095",
      "metadata": {
        "id": "150e1e8b-c888-43cd-8d2e-4373350eb095",
        "colab": {
          "base_uri": "https://localhost:8080/",
          "height": 74
        },
        "outputId": "6bfb3251-e737-4ebf-ee39-ac3256405627"
      },
      "outputs": [
        {
          "output_type": "execute_result",
          "data": {
            "text/plain": [
              "Ridge(alpha=0.1)"
            ],
            "text/html": [
              "<style>#sk-container-id-2 {color: black;background-color: white;}#sk-container-id-2 pre{padding: 0;}#sk-container-id-2 div.sk-toggleable {background-color: white;}#sk-container-id-2 label.sk-toggleable__label {cursor: pointer;display: block;width: 100%;margin-bottom: 0;padding: 0.3em;box-sizing: border-box;text-align: center;}#sk-container-id-2 label.sk-toggleable__label-arrow:before {content: \"▸\";float: left;margin-right: 0.25em;color: #696969;}#sk-container-id-2 label.sk-toggleable__label-arrow:hover:before {color: black;}#sk-container-id-2 div.sk-estimator:hover label.sk-toggleable__label-arrow:before {color: black;}#sk-container-id-2 div.sk-toggleable__content {max-height: 0;max-width: 0;overflow: hidden;text-align: left;background-color: #f0f8ff;}#sk-container-id-2 div.sk-toggleable__content pre {margin: 0.2em;color: black;border-radius: 0.25em;background-color: #f0f8ff;}#sk-container-id-2 input.sk-toggleable__control:checked~div.sk-toggleable__content {max-height: 200px;max-width: 100%;overflow: auto;}#sk-container-id-2 input.sk-toggleable__control:checked~label.sk-toggleable__label-arrow:before {content: \"▾\";}#sk-container-id-2 div.sk-estimator input.sk-toggleable__control:checked~label.sk-toggleable__label {background-color: #d4ebff;}#sk-container-id-2 div.sk-label input.sk-toggleable__control:checked~label.sk-toggleable__label {background-color: #d4ebff;}#sk-container-id-2 input.sk-hidden--visually {border: 0;clip: rect(1px 1px 1px 1px);clip: rect(1px, 1px, 1px, 1px);height: 1px;margin: -1px;overflow: hidden;padding: 0;position: absolute;width: 1px;}#sk-container-id-2 div.sk-estimator {font-family: monospace;background-color: #f0f8ff;border: 1px dotted black;border-radius: 0.25em;box-sizing: border-box;margin-bottom: 0.5em;}#sk-container-id-2 div.sk-estimator:hover {background-color: #d4ebff;}#sk-container-id-2 div.sk-parallel-item::after {content: \"\";width: 100%;border-bottom: 1px solid gray;flex-grow: 1;}#sk-container-id-2 div.sk-label:hover label.sk-toggleable__label {background-color: #d4ebff;}#sk-container-id-2 div.sk-serial::before {content: \"\";position: absolute;border-left: 1px solid gray;box-sizing: border-box;top: 0;bottom: 0;left: 50%;z-index: 0;}#sk-container-id-2 div.sk-serial {display: flex;flex-direction: column;align-items: center;background-color: white;padding-right: 0.2em;padding-left: 0.2em;position: relative;}#sk-container-id-2 div.sk-item {position: relative;z-index: 1;}#sk-container-id-2 div.sk-parallel {display: flex;align-items: stretch;justify-content: center;background-color: white;position: relative;}#sk-container-id-2 div.sk-item::before, #sk-container-id-2 div.sk-parallel-item::before {content: \"\";position: absolute;border-left: 1px solid gray;box-sizing: border-box;top: 0;bottom: 0;left: 50%;z-index: -1;}#sk-container-id-2 div.sk-parallel-item {display: flex;flex-direction: column;z-index: 1;position: relative;background-color: white;}#sk-container-id-2 div.sk-parallel-item:first-child::after {align-self: flex-end;width: 50%;}#sk-container-id-2 div.sk-parallel-item:last-child::after {align-self: flex-start;width: 50%;}#sk-container-id-2 div.sk-parallel-item:only-child::after {width: 0;}#sk-container-id-2 div.sk-dashed-wrapped {border: 1px dashed gray;margin: 0 0.4em 0.5em 0.4em;box-sizing: border-box;padding-bottom: 0.4em;background-color: white;}#sk-container-id-2 div.sk-label label {font-family: monospace;font-weight: bold;display: inline-block;line-height: 1.2em;}#sk-container-id-2 div.sk-label-container {text-align: center;}#sk-container-id-2 div.sk-container {/* jupyter's `normalize.less` sets `[hidden] { display: none; }` but bootstrap.min.css set `[hidden] { display: none !important; }` so we also need the `!important` here to be able to override the default hidden behavior on the sphinx rendered scikit-learn.org. See: https://github.com/scikit-learn/scikit-learn/issues/21755 */display: inline-block !important;position: relative;}#sk-container-id-2 div.sk-text-repr-fallback {display: none;}</style><div id=\"sk-container-id-2\" class=\"sk-top-container\"><div class=\"sk-text-repr-fallback\"><pre>Ridge(alpha=0.1)</pre><b>In a Jupyter environment, please rerun this cell to show the HTML representation or trust the notebook. <br />On GitHub, the HTML representation is unable to render, please try loading this page with nbviewer.org.</b></div><div class=\"sk-container\" hidden><div class=\"sk-item\"><div class=\"sk-estimator sk-toggleable\"><input class=\"sk-toggleable__control sk-hidden--visually\" id=\"sk-estimator-id-2\" type=\"checkbox\" checked><label for=\"sk-estimator-id-2\" class=\"sk-toggleable__label sk-toggleable__label-arrow\">Ridge</label><div class=\"sk-toggleable__content\"><pre>Ridge(alpha=0.1)</pre></div></div></div></div></div>"
            ]
          },
          "metadata": {},
          "execution_count": 35
        }
      ],
      "source": [
        "# fit the model\n",
        "ridge_reg_model.fit(X_train, y_train)"
      ]
    },
    {
      "cell_type": "code",
      "execution_count": null,
      "id": "f1966af9-16a4-40da-9baa-877504b3a3ff",
      "metadata": {
        "id": "f1966af9-16a4-40da-9baa-877504b3a3ff",
        "colab": {
          "base_uri": "https://localhost:8080/"
        },
        "outputId": "def7f58e-3050-4f0d-95f3-af5698b322be"
      },
      "outputs": [
        {
          "output_type": "stream",
          "name": "stdout",
          "text": [
            "MSE = 2009981245.8439846\n",
            "MAE = 33401.0844213765\n",
            "MAPE = 0.3069567341285193\n"
          ]
        }
      ],
      "source": [
        "# train and evaluate the model\n",
        "y_pred_train_ridge = ridge_reg_model.predict(X_train)\n",
        "print('MSE =', mean_squared_error(y_train, y_pred_train_ridge))\n",
        "print('MAE =', mean_absolute_error(y_train, y_pred_train_ridge))\n",
        "print('MAPE =', mean_absolute_percentage_error(y_train, y_pred_train_ridge))"
      ]
    },
    {
      "cell_type": "code",
      "execution_count": null,
      "id": "9aa720cc-cf9f-4f8e-b1b2-5a4626593107",
      "metadata": {
        "id": "9aa720cc-cf9f-4f8e-b1b2-5a4626593107",
        "colab": {
          "base_uri": "https://localhost:8080/"
        },
        "outputId": "9f684860-5f51-464e-c558-4bb8cdbb93fc"
      },
      "outputs": [
        {
          "output_type": "stream",
          "name": "stdout",
          "text": [
            "MSE = 2369150047.4691377\n",
            "MAE = 37175.04318946303\n",
            "MAPE = 0.37857487312915833\n"
          ]
        }
      ],
      "source": [
        "# test and evaluate the model\n",
        "y_pred_test_ridge = ridge_reg_model.predict(X_test)\n",
        "print('MSE =', mean_squared_error(y_test, y_pred_test_ridge))\n",
        "print('MAE =', mean_absolute_error(y_test, y_pred_test_ridge))\n",
        "print('MAPE =', mean_absolute_percentage_error(y_test, y_pred_test_ridge))"
      ]
    },
    {
      "cell_type": "markdown",
      "id": "6fcd8143-6337-45a9-a5c6-79031a664094",
      "metadata": {
        "id": "6fcd8143-6337-45a9-a5c6-79031a664094"
      },
      "source": [
        "**OPEN QUESTION:** Has ridge regression (L1 regularization) solved the overfitting problem identified earlier? Compare MSE, MAE and MAPE to answer the question.\n",
        "\n",
        "**yes, now we get approximately the same results for both train and test sets, but for test metrics are still a bit higher**"
      ]
    },
    {
      "cell_type": "markdown",
      "id": "fc481fd9-1851-413d-ac25-8cac312cd56b",
      "metadata": {
        "id": "fc481fd9-1851-413d-ac25-8cac312cd56b"
      },
      "source": [
        "## **Part 2. Tree-based Algorithms — Decision Tree vs. Random Forest**"
      ]
    },
    {
      "cell_type": "code",
      "execution_count": null,
      "id": "69ba2c6f-b643-4c50-81ca-8a9be425537c",
      "metadata": {
        "id": "69ba2c6f-b643-4c50-81ca-8a9be425537c"
      },
      "outputs": [],
      "source": [
        "# import packages\n",
        "from sklearn import tree\n",
        "from sklearn.datasets import make_regression\n",
        "from sklearn.tree import DecisionTreeRegressor\n",
        "from sklearn.ensemble import RandomForestRegressor, GradientBoostingRegressor\n",
        "from sklearn.ensemble import RandomForestClassifier, GradientBoostingClassifier\n",
        "from sklearn.preprocessing import StandardScaler, LabelEncoder"
      ]
    },
    {
      "cell_type": "markdown",
      "id": "1470a8db-c9f8-4f90-ab3b-b4ae23d5db0d",
      "metadata": {
        "id": "1470a8db-c9f8-4f90-ab3b-b4ae23d5db0d"
      },
      "source": [
        "## **Decision Tree**"
      ]
    },
    {
      "cell_type": "markdown",
      "id": "0d1a5b95-c7f3-4938-8c35-58ac139680a2",
      "metadata": {
        "id": "0d1a5b95-c7f3-4938-8c35-58ac139680a2"
      },
      "source": [
        "![decision tree.png](attachment:e2d99c50-826e-450f-8b51-e1b00ed30b6f.png)"
      ]
    },
    {
      "cell_type": "markdown",
      "id": "0a142483-b400-44bc-b5ff-562ccc043d45",
      "metadata": {
        "id": "0a142483-b400-44bc-b5ff-562ccc043d45"
      },
      "source": [
        "### Task 1. Training and Evaluating Decision Tree Model"
      ]
    },
    {
      "cell_type": "markdown",
      "id": "ad1f8247-9d7a-4669-ba7f-eb6d01b007d2",
      "metadata": {
        "id": "ad1f8247-9d7a-4669-ba7f-eb6d01b007d2"
      },
      "source": [
        "Fill in the blanks to train and evaluate the decision tree model [3 points]."
      ]
    },
    {
      "cell_type": "code",
      "execution_count": null,
      "id": "4bfeb5c5-6432-4eed-bafc-3fdb02eccbec",
      "metadata": {
        "id": "4bfeb5c5-6432-4eed-bafc-3fdb02eccbec"
      },
      "outputs": [],
      "source": [
        "# generate a random regression problem\n",
        "X, y = make_regression(n_samples=5000, n_features=30, n_informative=25,\n",
        "                       noise=3, bias=1000, n_targets=1, random_state=42)"
      ]
    },
    {
      "cell_type": "code",
      "execution_count": null,
      "id": "a7088c36-3ea1-421f-9709-ca3bf5effed3",
      "metadata": {
        "id": "a7088c36-3ea1-421f-9709-ca3bf5effed3"
      },
      "outputs": [],
      "source": [
        "# split data into training and testing sets using 80/20 ratio and random_state set at 42\n",
        "X_train, X_test, y_train, y_test = train_test_split(X, y,\n",
        "                                         train_size=0.8,\n",
        "                                         random_state=42)"
      ]
    },
    {
      "cell_type": "code",
      "execution_count": null,
      "id": "c2460df7-cafe-44bc-a720-dda6c2e36ea0",
      "metadata": {
        "id": "c2460df7-cafe-44bc-a720-dda6c2e36ea0"
      },
      "outputs": [],
      "source": [
        "# create a decision tree model using DecisionTreeRegressor() with no limit on the maximum depth of the tree and random state set at 42\n",
        "decision_tree_model = DecisionTreeRegressor(max_depth=None, random_state=42)"
      ]
    },
    {
      "cell_type": "code",
      "execution_count": null,
      "id": "29151598-6160-4ab0-bcd8-7a2a5e57d4dd",
      "metadata": {
        "id": "29151598-6160-4ab0-bcd8-7a2a5e57d4dd",
        "colab": {
          "base_uri": "https://localhost:8080/",
          "height": 74
        },
        "outputId": "48911942-6303-4683-a510-9bb28dfdc63b"
      },
      "outputs": [
        {
          "output_type": "execute_result",
          "data": {
            "text/plain": [
              "DecisionTreeRegressor(random_state=42)"
            ],
            "text/html": [
              "<style>#sk-container-id-2 {color: black;background-color: white;}#sk-container-id-2 pre{padding: 0;}#sk-container-id-2 div.sk-toggleable {background-color: white;}#sk-container-id-2 label.sk-toggleable__label {cursor: pointer;display: block;width: 100%;margin-bottom: 0;padding: 0.3em;box-sizing: border-box;text-align: center;}#sk-container-id-2 label.sk-toggleable__label-arrow:before {content: \"▸\";float: left;margin-right: 0.25em;color: #696969;}#sk-container-id-2 label.sk-toggleable__label-arrow:hover:before {color: black;}#sk-container-id-2 div.sk-estimator:hover label.sk-toggleable__label-arrow:before {color: black;}#sk-container-id-2 div.sk-toggleable__content {max-height: 0;max-width: 0;overflow: hidden;text-align: left;background-color: #f0f8ff;}#sk-container-id-2 div.sk-toggleable__content pre {margin: 0.2em;color: black;border-radius: 0.25em;background-color: #f0f8ff;}#sk-container-id-2 input.sk-toggleable__control:checked~div.sk-toggleable__content {max-height: 200px;max-width: 100%;overflow: auto;}#sk-container-id-2 input.sk-toggleable__control:checked~label.sk-toggleable__label-arrow:before {content: \"▾\";}#sk-container-id-2 div.sk-estimator input.sk-toggleable__control:checked~label.sk-toggleable__label {background-color: #d4ebff;}#sk-container-id-2 div.sk-label input.sk-toggleable__control:checked~label.sk-toggleable__label {background-color: #d4ebff;}#sk-container-id-2 input.sk-hidden--visually {border: 0;clip: rect(1px 1px 1px 1px);clip: rect(1px, 1px, 1px, 1px);height: 1px;margin: -1px;overflow: hidden;padding: 0;position: absolute;width: 1px;}#sk-container-id-2 div.sk-estimator {font-family: monospace;background-color: #f0f8ff;border: 1px dotted black;border-radius: 0.25em;box-sizing: border-box;margin-bottom: 0.5em;}#sk-container-id-2 div.sk-estimator:hover {background-color: #d4ebff;}#sk-container-id-2 div.sk-parallel-item::after {content: \"\";width: 100%;border-bottom: 1px solid gray;flex-grow: 1;}#sk-container-id-2 div.sk-label:hover label.sk-toggleable__label {background-color: #d4ebff;}#sk-container-id-2 div.sk-serial::before {content: \"\";position: absolute;border-left: 1px solid gray;box-sizing: border-box;top: 0;bottom: 0;left: 50%;z-index: 0;}#sk-container-id-2 div.sk-serial {display: flex;flex-direction: column;align-items: center;background-color: white;padding-right: 0.2em;padding-left: 0.2em;position: relative;}#sk-container-id-2 div.sk-item {position: relative;z-index: 1;}#sk-container-id-2 div.sk-parallel {display: flex;align-items: stretch;justify-content: center;background-color: white;position: relative;}#sk-container-id-2 div.sk-item::before, #sk-container-id-2 div.sk-parallel-item::before {content: \"\";position: absolute;border-left: 1px solid gray;box-sizing: border-box;top: 0;bottom: 0;left: 50%;z-index: -1;}#sk-container-id-2 div.sk-parallel-item {display: flex;flex-direction: column;z-index: 1;position: relative;background-color: white;}#sk-container-id-2 div.sk-parallel-item:first-child::after {align-self: flex-end;width: 50%;}#sk-container-id-2 div.sk-parallel-item:last-child::after {align-self: flex-start;width: 50%;}#sk-container-id-2 div.sk-parallel-item:only-child::after {width: 0;}#sk-container-id-2 div.sk-dashed-wrapped {border: 1px dashed gray;margin: 0 0.4em 0.5em 0.4em;box-sizing: border-box;padding-bottom: 0.4em;background-color: white;}#sk-container-id-2 div.sk-label label {font-family: monospace;font-weight: bold;display: inline-block;line-height: 1.2em;}#sk-container-id-2 div.sk-label-container {text-align: center;}#sk-container-id-2 div.sk-container {/* jupyter's `normalize.less` sets `[hidden] { display: none; }` but bootstrap.min.css set `[hidden] { display: none !important; }` so we also need the `!important` here to be able to override the default hidden behavior on the sphinx rendered scikit-learn.org. See: https://github.com/scikit-learn/scikit-learn/issues/21755 */display: inline-block !important;position: relative;}#sk-container-id-2 div.sk-text-repr-fallback {display: none;}</style><div id=\"sk-container-id-2\" class=\"sk-top-container\"><div class=\"sk-text-repr-fallback\"><pre>DecisionTreeRegressor(random_state=42)</pre><b>In a Jupyter environment, please rerun this cell to show the HTML representation or trust the notebook. <br />On GitHub, the HTML representation is unable to render, please try loading this page with nbviewer.org.</b></div><div class=\"sk-container\" hidden><div class=\"sk-item\"><div class=\"sk-estimator sk-toggleable\"><input class=\"sk-toggleable__control sk-hidden--visually\" id=\"sk-estimator-id-2\" type=\"checkbox\" checked><label for=\"sk-estimator-id-2\" class=\"sk-toggleable__label sk-toggleable__label-arrow\">DecisionTreeRegressor</label><div class=\"sk-toggleable__content\"><pre>DecisionTreeRegressor(random_state=42)</pre></div></div></div></div></div>"
            ]
          },
          "metadata": {},
          "execution_count": 41
        }
      ],
      "source": [
        "# fit the model\n",
        "decision_tree_model.fit(X_train, y_train)"
      ]
    },
    {
      "cell_type": "code",
      "execution_count": null,
      "id": "5822ec6d-d68d-4d8d-96a0-7c06063f455f",
      "metadata": {
        "id": "5822ec6d-d68d-4d8d-96a0-7c06063f455f",
        "colab": {
          "base_uri": "https://localhost:8080/"
        },
        "outputId": "1fd4b9b5-735c-41ce-9fce-8f019c1e99dd"
      },
      "outputs": [
        {
          "output_type": "stream",
          "name": "stdout",
          "text": [
            "MSE = 0.0\n",
            "MAE = 0.0\n",
            "MAPE = 0.0\n"
          ]
        }
      ],
      "source": [
        "# train and evaluate the model\n",
        "y_pred_train_dt = decision_tree_model.predict(X_train)\n",
        "print('MSE =', mean_squared_error(y_train, y_pred_train_dt))\n",
        "print('MAE =', mean_absolute_error(y_train, y_pred_train_dt))\n",
        "print('MAPE =', mean_absolute_percentage_error(y_train, y_pred_train_dt))"
      ]
    },
    {
      "cell_type": "markdown",
      "id": "2d2434d6-d08a-4118-aa0f-1700c2cbcf19",
      "metadata": {
        "id": "2d2434d6-d08a-4118-aa0f-1700c2cbcf19"
      },
      "source": [
        "**OPEN QUESTION:** Do MASE, MAE and MAPE equal to zero for the training dataset implie that the model is extremely accurate? How is the tree deth of the tree related to the problem of overfitting?\n",
        "\n",
        "**MASE, MAE and MAPE equal to zero for the training dataset do not implie that the model is extremely accurate. Probably it means that the model is overfitted. The bigger the depth of the tree, the higher probability of overfitting, because it starts taking 'noise' into account**"
      ]
    },
    {
      "cell_type": "markdown",
      "id": "3c83c11a-841d-429f-9975-3bc567e3677a",
      "metadata": {
        "tags": [],
        "id": "3c83c11a-841d-429f-9975-3bc567e3677a"
      },
      "source": [
        "### Task 2. Testing and Evaluating Decision Tree Model"
      ]
    },
    {
      "cell_type": "markdown",
      "id": "ed11600c-beb1-43d8-b69a-1e5e8f071733",
      "metadata": {
        "id": "ed11600c-beb1-43d8-b69a-1e5e8f071733"
      },
      "source": [
        "Fill in the blanks to test and evaluate the decision tree model [3 points]."
      ]
    },
    {
      "cell_type": "code",
      "execution_count": null,
      "id": "d92b2632-2e9c-41c9-9418-b301b3acb568",
      "metadata": {
        "id": "d92b2632-2e9c-41c9-9418-b301b3acb568",
        "colab": {
          "base_uri": "https://localhost:8080/",
          "height": 406
        },
        "outputId": "a4f43311-536b-4776-93f9-6b03770cb58d"
      },
      "outputs": [
        {
          "output_type": "display_data",
          "data": {
            "text/plain": [
              "<Figure size 640x480 with 1 Axes>"
            ],
            "image/png": "[encoded data removed]"
          },
          "metadata": {}
        }
      ],
      "source": [
        "# plot the decision surface of decision trees with max_depth set at 1\n",
        "tree.plot_tree(decision_tree_model, max_depth=1);"
      ]
    },
    {
      "cell_type": "code",
      "execution_count": null,
      "id": "d54a529a-5f88-45d3-8f27-605782c4104a",
      "metadata": {
        "id": "d54a529a-5f88-45d3-8f27-605782c4104a",
        "colab": {
          "base_uri": "https://localhost:8080/"
        },
        "outputId": "0db10e7a-e9f8-46a9-b84a-8dd68dd499fc"
      },
      "outputs": [
        {
          "output_type": "execute_result",
          "data": {
            "text/plain": [
              "24"
            ]
          },
          "metadata": {},
          "execution_count": 44
        }
      ],
      "source": [
        "# display the depth of the decision tree using get_depth() method\n",
        "decision_tree_model.get_depth()"
      ]
    },
    {
      "cell_type": "markdown",
      "id": "247d24fa-3d0b-407b-8737-b3e662c8b8a2",
      "metadata": {
        "id": "247d24fa-3d0b-407b-8737-b3e662c8b8a2"
      },
      "source": [
        "**OPEN QUESTION:** How many branches does the decision tree have? In your opinion, how does the size of the tree affect the quality of predictions?\n",
        "\n",
        "**The tree has 2^24 branches. In the beginning, with an increase in the size of the tree, the quality of prediction also increases, but later this leads to overfitting and deterioration of the prediction**"
      ]
    },
    {
      "cell_type": "code",
      "execution_count": null,
      "id": "41ca61eb-bf92-420d-91d5-20777760b2ce",
      "metadata": {
        "id": "41ca61eb-bf92-420d-91d5-20777760b2ce",
        "outputId": "56d66f4f-da70-49ea-d491-58aa4eb5fcb8",
        "colab": {
          "base_uri": "https://localhost:8080/"
        }
      },
      "outputs": [
        {
          "output_type": "stream",
          "name": "stdout",
          "text": [
            "MSE = 61530.67627114\n",
            "MAE = 196.11443284804486\n",
            "MAPE = 0.21922341032772097\n"
          ]
        }
      ],
      "source": [
        "# test and evaluate the model\n",
        "y_pred_test_dt = decision_tree_model.predict(X_test)\n",
        "print('MSE =', mean_squared_error(y_test, y_pred_test_dt))\n",
        "print('MAE =', mean_absolute_error(y_test, y_pred_test_dt))\n",
        "print('MAPE =', mean_absolute_percentage_error(y_test, y_pred_test_dt))"
      ]
    },
    {
      "cell_type": "markdown",
      "id": "e3f85aa3-bbd4-496b-91df-7b027abc3116",
      "metadata": {
        "id": "e3f85aa3-bbd4-496b-91df-7b027abc3116"
      },
      "source": [
        "**OPEN QUESTION:** Compare the model quality for the training and testing samples. Is there an overfititng problem?\n",
        "\n",
        "**Yes, there is definitely overfitting here. The quality indicators of the model on the training data are ideal, but significant error rates are visible on the test data**"
      ]
    },
    {
      "cell_type": "markdown",
      "id": "55cf1a8c-3437-4b76-90b8-6374bac44f5a",
      "metadata": {
        "id": "55cf1a8c-3437-4b76-90b8-6374bac44f5a"
      },
      "source": [
        "### Task 3. Overfitting and Pruning"
      ]
    },
    {
      "cell_type": "markdown",
      "id": "308e1093-0294-4a63-94d8-70d500bf2d62",
      "metadata": {
        "id": "308e1093-0294-4a63-94d8-70d500bf2d62"
      },
      "source": [
        "Fill in the blanks to limit the depth of the decision tree model created and trained earlier [3 points]."
      ]
    },
    {
      "cell_type": "code",
      "execution_count": null,
      "id": "100c7604-5898-49dc-b5a6-e8d5d3174f28",
      "metadata": {
        "id": "100c7604-5898-49dc-b5a6-e8d5d3174f28"
      },
      "outputs": [],
      "source": [
        "from sklearn.model_selection import GridSearchCV"
      ]
    },
    {
      "cell_type": "markdown",
      "id": "027db9e0-99f8-4871-a33f-71b6c1ace0da",
      "metadata": {
        "id": "027db9e0-99f8-4871-a33f-71b6c1ace0da"
      },
      "source": [
        "In order to fit the data , the decision tree model keeps generating new nodes and ultimately the tree becomes too complex to interpret. The decision tree predicts well for the training data but can be inaccurate for new data. **If a decision tree model is allowed to train to its full potential, it can overfit the training data.**"
      ]
    },
    {
      "cell_type": "markdown",
      "id": "fde4994c-5e11-463a-9f77-2fe5dd706c38",
      "metadata": {
        "id": "fde4994c-5e11-463a-9f77-2fe5dd706c38"
      },
      "source": [
        "***Pruning*** is a technique that removes parts of the decision tree and prevents it from growing to its full depth. Pruning removes those parts of the decision tree that do not have the power to classify instances."
      ]
    },
    {
      "cell_type": "markdown",
      "id": "3e3a8432-ff68-433c-b1e9-efb0f76ba244",
      "metadata": {
        "id": "3e3a8432-ff68-433c-b1e9-efb0f76ba244"
      },
      "source": [
        "GridSearchCV is a function that comes in Scikit-learn's model_selection package to find the best values for hyperparameters of a model."
      ]
    },
    {
      "cell_type": "code",
      "execution_count": null,
      "id": "f1ae601a-016f-4ea9-a992-fd407a6e58f2",
      "metadata": {
        "id": "f1ae601a-016f-4ea9-a992-fd407a6e58f2"
      },
      "outputs": [],
      "source": [
        "# limit the decision tree depth\n",
        "params = {\n",
        "    'max_depth': np.arange(1,25)\n",
        "}"
      ]
    },
    {
      "cell_type": "code",
      "execution_count": null,
      "id": "9adc9cb6-93f3-4bd8-a82e-00903ac875ab",
      "metadata": {
        "id": "9adc9cb6-93f3-4bd8-a82e-00903ac875ab"
      },
      "outputs": [],
      "source": [
        "#create a decision tree model with random state set at 42\n",
        "decision_tree = DecisionTreeRegressor(random_state=42)"
      ]
    },
    {
      "cell_type": "code",
      "execution_count": null,
      "id": "b58cac51-8ef5-4c00-a05b-eeb8fb8dae84",
      "metadata": {
        "id": "b58cac51-8ef5-4c00-a05b-eeb8fb8dae84",
        "outputId": "305a64de-4512-4682-8c5e-85aa0b7ea0cb",
        "colab": {
          "base_uri": "https://localhost:8080/"
        }
      },
      "outputs": [
        {
          "output_type": "execute_result",
          "data": {
            "text/plain": [
              "{'max_depth': 7}"
            ]
          },
          "metadata": {},
          "execution_count": 49
        }
      ],
      "source": [
        "# find the optimal tree depth with GridSearchCV() method, pass decision_tree to estimator= and params to param_grid= arguments\n",
        "grid_search_tree = GridSearchCV(estimator=decision_tree, param_grid=params,\n",
        "                               scoring='neg_mean_squared_error', n_jobs=-1)\n",
        "\n",
        "# fit the model on the training data\n",
        "grid_search_tree.fit(X_train, y_train)\n",
        "\n",
        "# display the optimal parameters for the model\n",
        "grid_search_tree.best_params_"
      ]
    },
    {
      "cell_type": "markdown",
      "id": "28654d65-962d-4c77-9be3-66b1b78ba5f3",
      "metadata": {
        "id": "28654d65-962d-4c77-9be3-66b1b78ba5f3"
      },
      "source": [
        "**OPEN QUESTION:** What is the optimal depth of the decision tree model for this regression problem? What will happen if the number of branches in each tree goes too big?\n",
        "\n",
        "**optimal number is 7. if the depth goes to big, we will get worse quality metrics on test data**"
      ]
    },
    {
      "cell_type": "code",
      "execution_count": null,
      "id": "9111a486-82aa-430d-8428-d2b714bce8ae",
      "metadata": {
        "id": "9111a486-82aa-430d-8428-d2b714bce8ae"
      },
      "outputs": [],
      "source": [
        "# run a function that displays quality metrics for a regression model\n",
        "def model_quality(y_true, y_pred):\n",
        "    print('MSE =', mean_squared_error(y_true, y_pred))\n",
        "    print('MAE =', mean_absolute_error(y_true, y_pred))\n",
        "    print('MAPE =', mean_absolute_percentage_error(y_true, y_pred))"
      ]
    },
    {
      "cell_type": "code",
      "execution_count": null,
      "id": "65bc7f87-6d38-4515-ba82-c403ce8b8677",
      "metadata": {
        "id": "65bc7f87-6d38-4515-ba82-c403ce8b8677",
        "colab": {
          "base_uri": "https://localhost:8080/"
        },
        "outputId": "6d31756a-39b1-458a-e373-12fdf1b08b5c"
      },
      "outputs": [
        {
          "output_type": "stream",
          "name": "stdout",
          "text": [
            "MSE = 27908.433382253723\n",
            "MAE = 131.37640527997033\n",
            "MAPE = 0.153694697847947\n"
          ]
        }
      ],
      "source": [
        "# train and evaluate the model\n",
        "model_quality(y_train, grid_search_tree.predict(X_train))"
      ]
    },
    {
      "cell_type": "code",
      "execution_count": null,
      "id": "a4536992-39ee-405f-8be2-5568a98903c1",
      "metadata": {
        "id": "a4536992-39ee-405f-8be2-5568a98903c1",
        "colab": {
          "base_uri": "https://localhost:8080/"
        },
        "outputId": "12cc6d68-10a4-462b-8472-83c1f0947527"
      },
      "outputs": [
        {
          "output_type": "stream",
          "name": "stdout",
          "text": [
            "MSE = 50120.472175976145\n",
            "MAE = 175.78128696483816\n",
            "MAPE = 0.20227138065015565\n"
          ]
        }
      ],
      "source": [
        "# test and evaluate the model\n",
        "model_quality(y_test, grid_search_tree.predict(X_test))"
      ]
    },
    {
      "cell_type": "markdown",
      "id": "43a1e8c2-0f0b-45e2-b4a1-1e9f5dd8090d",
      "metadata": {
        "id": "43a1e8c2-0f0b-45e2-b4a1-1e9f5dd8090d"
      },
      "source": [
        "**OPEN QUESTION:** Has pruning removed the overfitting problem identified earlier? Compare MSE, MAE, MAPE to answer the question.\n",
        "\n",
        "**yes, it does**"
      ]
    },
    {
      "cell_type": "markdown",
      "id": "cc020657-87e5-438b-8744-926ab498f419",
      "metadata": {
        "id": "cc020657-87e5-438b-8744-926ab498f419"
      },
      "source": [
        "## **Random Forest aka 'Wisdom of the Crowd'**"
      ]
    },
    {
      "cell_type": "markdown",
      "id": "c00c0ba9-e390-464c-9750-ce94e1645ceb",
      "metadata": {
        "id": "c00c0ba9-e390-464c-9750-ce94e1645ceb"
      },
      "source": [
        "![random forest.png](attachment:d8889ff3-8b35-4525-b985-f16bab3b964e.png)"
      ]
    },
    {
      "cell_type": "markdown",
      "id": "28af2c3d-3d4a-447d-b82e-8ed3d50aa5af",
      "metadata": {
        "id": "28af2c3d-3d4a-447d-b82e-8ed3d50aa5af"
      },
      "source": [
        "### Task 1. Generate Random Regression"
      ]
    },
    {
      "cell_type": "markdown",
      "id": "79af8acd-be52-4026-8596-b6c9fdd057d3",
      "metadata": {
        "id": "79af8acd-be52-4026-8596-b6c9fdd057d3"
      },
      "source": [
        "Fill in the blanks to prepare the data for machine learning [1 point]."
      ]
    },
    {
      "cell_type": "code",
      "execution_count": null,
      "id": "115b25ac-b0ea-4c6b-8741-a0f9f721d176",
      "metadata": {
        "id": "115b25ac-b0ea-4c6b-8741-a0f9f721d176"
      },
      "outputs": [],
      "source": [
        "# generate a random regression problem\n",
        "X, y = make_regression(n_samples=5000, n_features=30, n_informative=25,\n",
        "                       noise=3, bias=1000, n_targets=1, random_state=42)"
      ]
    },
    {
      "cell_type": "code",
      "execution_count": null,
      "id": "cbf7a40f-bf80-4b90-83fc-279458296c68",
      "metadata": {
        "id": "cbf7a40f-bf80-4b90-83fc-279458296c68"
      },
      "outputs": [],
      "source": [
        "# split data into training and testing sets using 80/20 ratio and random_state set at 42\n",
        "X_train, X_test, y_train, y_test = train_test_split(X, y,\n",
        "                                         train_size=0.8,\n",
        "                                         random_state=42)\n"
      ]
    },
    {
      "cell_type": "markdown",
      "id": "f0b4e9be-5153-4685-bd3d-ef5e6fe51e6c",
      "metadata": {
        "id": "f0b4e9be-5153-4685-bd3d-ef5e6fe51e6c"
      },
      "source": [
        "#### **Bootstrapping**"
      ]
    },
    {
      "cell_type": "markdown",
      "id": "4692f830-5eb6-4373-93a9-ff9c605ac9a7",
      "metadata": {
        "id": "4692f830-5eb6-4373-93a9-ff9c605ac9a7"
      },
      "source": [
        "***Bootstrapping*** is a statistical resampling technique that involves random sampling of a dataset with replacement from the original data. It is often used as a means of quantifying the uncertainty associated with a machine learning model.\n",
        "\n",
        "The idea is to repeatedly sample data with replacement from the original training set in order to produce multiple separate training sets. These are then used to allow ensemble methods to reduce the variance of their predictions, thus greatly improving their predictive performance."
      ]
    },
    {
      "cell_type": "markdown",
      "id": "2e5b50bd-8f50-4393-acfa-fdd440a07a62",
      "metadata": {
        "id": "2e5b50bd-8f50-4393-acfa-fdd440a07a62"
      },
      "source": [
        "![bootstrap.png](attachment:05f6a971-4250-4403-8a1f-d43b0f0375e7.png)"
      ]
    },
    {
      "cell_type": "markdown",
      "id": "fec53c81-fd68-4374-9fff-24eb7bf0ab55",
      "metadata": {
        "id": "fec53c81-fd68-4374-9fff-24eb7bf0ab55"
      },
      "source": [
        "### Task 2. Random Forest Model without Bootstrap"
      ]
    },
    {
      "cell_type": "markdown",
      "id": "6ed7d0cd-1bd4-43ed-81ca-fbef74d12486",
      "metadata": {
        "id": "6ed7d0cd-1bd4-43ed-81ca-fbef74d12486"
      },
      "source": [
        "Fill in the blanks to create the random forest model without bootstrap [2 points]."
      ]
    },
    {
      "cell_type": "code",
      "execution_count": null,
      "id": "d875e57e-3687-4fc6-9838-f8813bf21e65",
      "metadata": {
        "id": "d875e57e-3687-4fc6-9838-f8813bf21e65"
      },
      "outputs": [],
      "source": [
        "# create a random forest model using RandomForestRegressor() with bootsrap set at False\n",
        "random_forest_model = RandomForestRegressor(n_estimators=1, random_state=42, n_jobs=-1,\n",
        "                                     bootstrap=False)"
      ]
    },
    {
      "cell_type": "code",
      "execution_count": null,
      "id": "2f147fa6-c339-427f-8127-296aa4adc843",
      "metadata": {
        "id": "2f147fa6-c339-427f-8127-296aa4adc843",
        "colab": {
          "base_uri": "https://localhost:8080/",
          "height": 91
        },
        "outputId": "32e62c54-48e8-4cee-e346-342895e61f38"
      },
      "outputs": [
        {
          "output_type": "execute_result",
          "data": {
            "text/plain": [
              "RandomForestRegressor(bootstrap=False, n_estimators=1, n_jobs=-1,\n",
              "                      random_state=42)"
            ],
            "text/html": [
              "<style>#sk-container-id-3 {color: black;background-color: white;}#sk-container-id-3 pre{padding: 0;}#sk-container-id-3 div.sk-toggleable {background-color: white;}#sk-container-id-3 label.sk-toggleable__label {cursor: pointer;display: block;width: 100%;margin-bottom: 0;padding: 0.3em;box-sizing: border-box;text-align: center;}#sk-container-id-3 label.sk-toggleable__label-arrow:before {content: \"▸\";float: left;margin-right: 0.25em;color: #696969;}#sk-container-id-3 label.sk-toggleable__label-arrow:hover:before {color: black;}#sk-container-id-3 div.sk-estimator:hover label.sk-toggleable__label-arrow:before {color: black;}#sk-container-id-3 div.sk-toggleable__content {max-height: 0;max-width: 0;overflow: hidden;text-align: left;background-color: #f0f8ff;}#sk-container-id-3 div.sk-toggleable__content pre {margin: 0.2em;color: black;border-radius: 0.25em;background-color: #f0f8ff;}#sk-container-id-3 input.sk-toggleable__control:checked~div.sk-toggleable__content {max-height: 200px;max-width: 100%;overflow: auto;}#sk-container-id-3 input.sk-toggleable__control:checked~label.sk-toggleable__label-arrow:before {content: \"▾\";}#sk-container-id-3 div.sk-estimator input.sk-toggleable__control:checked~label.sk-toggleable__label {background-color: #d4ebff;}#sk-container-id-3 div.sk-label input.sk-toggleable__control:checked~label.sk-toggleable__label {background-color: #d4ebff;}#sk-container-id-3 input.sk-hidden--visually {border: 0;clip: rect(1px 1px 1px 1px);clip: rect(1px, 1px, 1px, 1px);height: 1px;margin: -1px;overflow: hidden;padding: 0;position: absolute;width: 1px;}#sk-container-id-3 div.sk-estimator {font-family: monospace;background-color: #f0f8ff;border: 1px dotted black;border-radius: 0.25em;box-sizing: border-box;margin-bottom: 0.5em;}#sk-container-id-3 div.sk-estimator:hover {background-color: #d4ebff;}#sk-container-id-3 div.sk-parallel-item::after {content: \"\";width: 100%;border-bottom: 1px solid gray;flex-grow: 1;}#sk-container-id-3 div.sk-label:hover label.sk-toggleable__label {background-color: #d4ebff;}#sk-container-id-3 div.sk-serial::before {content: \"\";position: absolute;border-left: 1px solid gray;box-sizing: border-box;top: 0;bottom: 0;left: 50%;z-index: 0;}#sk-container-id-3 div.sk-serial {display: flex;flex-direction: column;align-items: center;background-color: white;padding-right: 0.2em;padding-left: 0.2em;position: relative;}#sk-container-id-3 div.sk-item {position: relative;z-index: 1;}#sk-container-id-3 div.sk-parallel {display: flex;align-items: stretch;justify-content: center;background-color: white;position: relative;}#sk-container-id-3 div.sk-item::before, #sk-container-id-3 div.sk-parallel-item::before {content: \"\";position: absolute;border-left: 1px solid gray;box-sizing: border-box;top: 0;bottom: 0;left: 50%;z-index: -1;}#sk-container-id-3 div.sk-parallel-item {display: flex;flex-direction: column;z-index: 1;position: relative;background-color: white;}#sk-container-id-3 div.sk-parallel-item:first-child::after {align-self: flex-end;width: 50%;}#sk-container-id-3 div.sk-parallel-item:last-child::after {align-self: flex-start;width: 50%;}#sk-container-id-3 div.sk-parallel-item:only-child::after {width: 0;}#sk-container-id-3 div.sk-dashed-wrapped {border: 1px dashed gray;margin: 0 0.4em 0.5em 0.4em;box-sizing: border-box;padding-bottom: 0.4em;background-color: white;}#sk-container-id-3 div.sk-label label {font-family: monospace;font-weight: bold;display: inline-block;line-height: 1.2em;}#sk-container-id-3 div.sk-label-container {text-align: center;}#sk-container-id-3 div.sk-container {/* jupyter's `normalize.less` sets `[hidden] { display: none; }` but bootstrap.min.css set `[hidden] { display: none !important; }` so we also need the `!important` here to be able to override the default hidden behavior on the sphinx rendered scikit-learn.org. See: https://github.com/scikit-learn/scikit-learn/issues/21755 */display: inline-block !important;position: relative;}#sk-container-id-3 div.sk-text-repr-fallback {display: none;}</style><div id=\"sk-container-id-3\" class=\"sk-top-container\"><div class=\"sk-text-repr-fallback\"><pre>RandomForestRegressor(bootstrap=False, n_estimators=1, n_jobs=-1,\n",
              "                      random_state=42)</pre><b>In a Jupyter environment, please rerun this cell to show the HTML representation or trust the notebook. <br />On GitHub, the HTML representation is unable to render, please try loading this page with nbviewer.org.</b></div><div class=\"sk-container\" hidden><div class=\"sk-item\"><div class=\"sk-estimator sk-toggleable\"><input class=\"sk-toggleable__control sk-hidden--visually\" id=\"sk-estimator-id-3\" type=\"checkbox\" checked><label for=\"sk-estimator-id-3\" class=\"sk-toggleable__label sk-toggleable__label-arrow\">RandomForestRegressor</label><div class=\"sk-toggleable__content\"><pre>RandomForestRegressor(bootstrap=False, n_estimators=1, n_jobs=-1,\n",
              "                      random_state=42)</pre></div></div></div></div></div>"
            ]
          },
          "metadata": {},
          "execution_count": 56
        }
      ],
      "source": [
        "# fit the model\n",
        "random_forest_model.fit(X_train, y_train)"
      ]
    },
    {
      "cell_type": "code",
      "execution_count": null,
      "id": "85f1f5a2-db8a-46d6-8b9d-5abfbedf308d",
      "metadata": {
        "id": "85f1f5a2-db8a-46d6-8b9d-5abfbedf308d",
        "colab": {
          "base_uri": "https://localhost:8080/"
        },
        "outputId": "b607e4d9-2249-4be8-9b93-2fd21ffe2d11"
      },
      "outputs": [
        {
          "output_type": "stream",
          "name": "stdout",
          "text": [
            "MSE = 0.0\n",
            "MAE = 0.0\n",
            "MAPE = 0.0\n"
          ]
        }
      ],
      "source": [
        "# evaluate the model quality for the training dataset\n",
        "model_quality(y_train, random_forest_model.predict(X_train))"
      ]
    },
    {
      "cell_type": "code",
      "execution_count": null,
      "id": "eb3cb911-c837-4533-b054-3708eed3081b",
      "metadata": {
        "id": "eb3cb911-c837-4533-b054-3708eed3081b",
        "colab": {
          "base_uri": "https://localhost:8080/"
        },
        "outputId": "d4fd895e-c8d5-45c6-96f6-be911b98e25b"
      },
      "outputs": [
        {
          "output_type": "stream",
          "name": "stdout",
          "text": [
            "MSE = 63981.10463908315\n",
            "MAE = 199.4361816772399\n",
            "MAPE = 0.22490444184739547\n"
          ]
        }
      ],
      "source": [
        "# evaluate the model quality for the testing dataset\n",
        "model_quality(y_test, random_forest_model.predict(X_test))"
      ]
    },
    {
      "cell_type": "markdown",
      "id": "b46aa859-2da3-4279-823f-342cacfc259e",
      "metadata": {
        "id": "b46aa859-2da3-4279-823f-342cacfc259e"
      },
      "source": [
        "### Task 3. Random Forest Model with Bootstrap"
      ]
    },
    {
      "cell_type": "markdown",
      "id": "83b3a326-2b74-4d65-97ec-5b49922eeaa4",
      "metadata": {
        "id": "83b3a326-2b74-4d65-97ec-5b49922eeaa4"
      },
      "source": [
        "Fill in the blanks to create the random forest model with bootstrap [3 points]."
      ]
    },
    {
      "cell_type": "code",
      "execution_count": null,
      "id": "ac30c1fb-44af-4f77-9da2-b4156b0e16a3",
      "metadata": {
        "id": "ac30c1fb-44af-4f77-9da2-b4156b0e16a3"
      },
      "outputs": [],
      "source": [
        "# create a random forest model with bootsrap set at True\n",
        "random_forest_model_bootstrap = RandomForestRegressor(n_estimators=1, random_state=42, n_jobs=-1,\n",
        "                                     bootstrap=True)"
      ]
    },
    {
      "cell_type": "code",
      "execution_count": null,
      "id": "9fb68b93-8976-49f6-a4d7-22cd872f6a41",
      "metadata": {
        "id": "9fb68b93-8976-49f6-a4d7-22cd872f6a41",
        "colab": {
          "base_uri": "https://localhost:8080/",
          "height": 74
        },
        "outputId": "f49a8683-1cf6-4833-81de-eaf90e879d01"
      },
      "outputs": [
        {
          "output_type": "execute_result",
          "data": {
            "text/plain": [
              "RandomForestRegressor(n_estimators=1, n_jobs=-1, random_state=42)"
            ],
            "text/html": [
              "<style>#sk-container-id-4 {color: black;background-color: white;}#sk-container-id-4 pre{padding: 0;}#sk-container-id-4 div.sk-toggleable {background-color: white;}#sk-container-id-4 label.sk-toggleable__label {cursor: pointer;display: block;width: 100%;margin-bottom: 0;padding: 0.3em;box-sizing: border-box;text-align: center;}#sk-container-id-4 label.sk-toggleable__label-arrow:before {content: \"▸\";float: left;margin-right: 0.25em;color: #696969;}#sk-container-id-4 label.sk-toggleable__label-arrow:hover:before {color: black;}#sk-container-id-4 div.sk-estimator:hover label.sk-toggleable__label-arrow:before {color: black;}#sk-container-id-4 div.sk-toggleable__content {max-height: 0;max-width: 0;overflow: hidden;text-align: left;background-color: #f0f8ff;}#sk-container-id-4 div.sk-toggleable__content pre {margin: 0.2em;color: black;border-radius: 0.25em;background-color: #f0f8ff;}#sk-container-id-4 input.sk-toggleable__control:checked~div.sk-toggleable__content {max-height: 200px;max-width: 100%;overflow: auto;}#sk-container-id-4 input.sk-toggleable__control:checked~label.sk-toggleable__label-arrow:before {content: \"▾\";}#sk-container-id-4 div.sk-estimator input.sk-toggleable__control:checked~label.sk-toggleable__label {background-color: #d4ebff;}#sk-container-id-4 div.sk-label input.sk-toggleable__control:checked~label.sk-toggleable__label {background-color: #d4ebff;}#sk-container-id-4 input.sk-hidden--visually {border: 0;clip: rect(1px 1px 1px 1px);clip: rect(1px, 1px, 1px, 1px);height: 1px;margin: -1px;overflow: hidden;padding: 0;position: absolute;width: 1px;}#sk-container-id-4 div.sk-estimator {font-family: monospace;background-color: #f0f8ff;border: 1px dotted black;border-radius: 0.25em;box-sizing: border-box;margin-bottom: 0.5em;}#sk-container-id-4 div.sk-estimator:hover {background-color: #d4ebff;}#sk-container-id-4 div.sk-parallel-item::after {content: \"\";width: 100%;border-bottom: 1px solid gray;flex-grow: 1;}#sk-container-id-4 div.sk-label:hover label.sk-toggleable__label {background-color: #d4ebff;}#sk-container-id-4 div.sk-serial::before {content: \"\";position: absolute;border-left: 1px solid gray;box-sizing: border-box;top: 0;bottom: 0;left: 50%;z-index: 0;}#sk-container-id-4 div.sk-serial {display: flex;flex-direction: column;align-items: center;background-color: white;padding-right: 0.2em;padding-left: 0.2em;position: relative;}#sk-container-id-4 div.sk-item {position: relative;z-index: 1;}#sk-container-id-4 div.sk-parallel {display: flex;align-items: stretch;justify-content: center;background-color: white;position: relative;}#sk-container-id-4 div.sk-item::before, #sk-container-id-4 div.sk-parallel-item::before {content: \"\";position: absolute;border-left: 1px solid gray;box-sizing: border-box;top: 0;bottom: 0;left: 50%;z-index: -1;}#sk-container-id-4 div.sk-parallel-item {display: flex;flex-direction: column;z-index: 1;position: relative;background-color: white;}#sk-container-id-4 div.sk-parallel-item:first-child::after {align-self: flex-end;width: 50%;}#sk-container-id-4 div.sk-parallel-item:last-child::after {align-self: flex-start;width: 50%;}#sk-container-id-4 div.sk-parallel-item:only-child::after {width: 0;}#sk-container-id-4 div.sk-dashed-wrapped {border: 1px dashed gray;margin: 0 0.4em 0.5em 0.4em;box-sizing: border-box;padding-bottom: 0.4em;background-color: white;}#sk-container-id-4 div.sk-label label {font-family: monospace;font-weight: bold;display: inline-block;line-height: 1.2em;}#sk-container-id-4 div.sk-label-container {text-align: center;}#sk-container-id-4 div.sk-container {/* jupyter's `normalize.less` sets `[hidden] { display: none; }` but bootstrap.min.css set `[hidden] { display: none !important; }` so we also need the `!important` here to be able to override the default hidden behavior on the sphinx rendered scikit-learn.org. See: https://github.com/scikit-learn/scikit-learn/issues/21755 */display: inline-block !important;position: relative;}#sk-container-id-4 div.sk-text-repr-fallback {display: none;}</style><div id=\"sk-container-id-4\" class=\"sk-top-container\"><div class=\"sk-text-repr-fallback\"><pre>RandomForestRegressor(n_estimators=1, n_jobs=-1, random_state=42)</pre><b>In a Jupyter environment, please rerun this cell to show the HTML representation or trust the notebook. <br />On GitHub, the HTML representation is unable to render, please try loading this page with nbviewer.org.</b></div><div class=\"sk-container\" hidden><div class=\"sk-item\"><div class=\"sk-estimator sk-toggleable\"><input class=\"sk-toggleable__control sk-hidden--visually\" id=\"sk-estimator-id-4\" type=\"checkbox\" checked><label for=\"sk-estimator-id-4\" class=\"sk-toggleable__label sk-toggleable__label-arrow\">RandomForestRegressor</label><div class=\"sk-toggleable__content\"><pre>RandomForestRegressor(n_estimators=1, n_jobs=-1, random_state=42)</pre></div></div></div></div></div>"
            ]
          },
          "metadata": {},
          "execution_count": 61
        }
      ],
      "source": [
        "# fit the model\n",
        "random_forest_model_bootstrap.fit(X_train, y_train)"
      ]
    },
    {
      "cell_type": "code",
      "execution_count": null,
      "id": "09c5b4d0-f474-468a-ac8f-0b3764e4fd29",
      "metadata": {
        "id": "09c5b4d0-f474-468a-ac8f-0b3764e4fd29",
        "colab": {
          "base_uri": "https://localhost:8080/"
        },
        "outputId": "9ae5921e-4f8f-4444-fcf6-9a4e3256e272"
      },
      "outputs": [
        {
          "output_type": "stream",
          "name": "stdout",
          "text": [
            "MSE = 24818.445885706147\n",
            "MAE = 74.37095294150343\n",
            "MAPE = 0.08317843060037053\n"
          ]
        }
      ],
      "source": [
        "# evaluate the model quality for the training dataset\n",
        "model_quality(y_train, random_forest_model_bootstrap.predict(X_train))"
      ]
    },
    {
      "cell_type": "code",
      "execution_count": null,
      "id": "a4251962-f487-40c5-b0fe-fc4ecd9b215c",
      "metadata": {
        "id": "a4251962-f487-40c5-b0fe-fc4ecd9b215c",
        "colab": {
          "base_uri": "https://localhost:8080/"
        },
        "outputId": "78777c97-3104-427c-ab26-7016d75cf1d1"
      },
      "outputs": [
        {
          "output_type": "stream",
          "name": "stdout",
          "text": [
            "MSE = 72137.26260721877\n",
            "MAE = 211.5226975377734\n",
            "MAPE = 0.24269381565789755\n"
          ]
        }
      ],
      "source": [
        "# evaluate the model quality for the testing dataset\n",
        "model_quality(y_test, random_forest_model_bootstrap.predict(X_test))"
      ]
    },
    {
      "cell_type": "markdown",
      "id": "46d4ee6c-8254-4067-a434-b6d17e1ac99c",
      "metadata": {
        "id": "46d4ee6c-8254-4067-a434-b6d17e1ac99c"
      },
      "source": [
        "**OPEN QUESTION:** Compare the two random forest models with and without bootstrap. Which model performs better and why?\n",
        "\n",
        "**The bootstrap model works better because it uses a large number of samples and has better opportunities for generalization. without it, the model uses only one sample, which can lead to overfitting**"
      ]
    },
    {
      "cell_type": "markdown",
      "id": "7303519f-b628-45b3-91b1-f39349daf524",
      "metadata": {
        "tags": [],
        "id": "7303519f-b628-45b3-91b1-f39349daf524"
      },
      "source": [
        "### Task 4. Feature Importances"
      ]
    },
    {
      "cell_type": "markdown",
      "id": "2a7dfe57-6fb1-48f0-8a65-0ce281f3ebe6",
      "metadata": {
        "id": "2a7dfe57-6fb1-48f0-8a65-0ce281f3ebe6"
      },
      "source": [
        "Fill in the blanks to evaluate feature importances [1 point]."
      ]
    },
    {
      "cell_type": "markdown",
      "id": "3f18978e-310f-4b0c-9c7f-0562cdb482cf",
      "metadata": {
        "tags": [],
        "id": "3f18978e-310f-4b0c-9c7f-0562cdb482cf"
      },
      "source": [
        "***Feature importance*** refers to techniques that assign a score to input features based on how useful they are at predicting a target variable.\n",
        "\n",
        "Feature importances are provided by the fitted attribute feature_importances_ and they are computed as the mean and standard deviation of accumulation of the impurity decrease within each tree."
      ]
    },
    {
      "cell_type": "code",
      "execution_count": null,
      "id": "70b06626-d96c-4361-b3b5-05a89f6087ed",
      "metadata": {
        "id": "70b06626-d96c-4361-b3b5-05a89f6087ed",
        "outputId": "68f263ea-afdb-4d0d-a8db-a02153f7fff4",
        "colab": {
          "base_uri": "https://localhost:8080/",
          "height": 487
        }
      },
      "outputs": [
        {
          "output_type": "display_data",
          "data": {
            "text/plain": [
              "<Figure size 640x480 with 1 Axes>"
            ],
            "image/png": "[encoded data removed]"
          },
          "metadata": {}
        }
      ],
      "source": [
        "feature_names_rf = [f\"feature {i}\" for i in range(X.shape[1])]\n",
        "\n",
        "# use feature_importances_ method on the random forest model created and trained earlier\n",
        "importances_rf = random_forest_model_bootstrap.feature_importances_\n",
        "std_rf = np.std([tree.feature_importances_ for tree in random_forest_model_bootstrap.estimators_], axis=0)\n",
        "\n",
        "forest_importances = pd.Series(importances_rf, index=feature_names_rf)\n",
        "\n",
        "# display feature importances on a bar plot\n",
        "fig, ax = plt.subplots()\n",
        "forest_importances.plot.bar(yerr=std_rf, ax=ax)\n",
        "ax.set_title(\"Feature importances\")\n",
        "ax.set_ylabel(\"Mean decrease in impurity\")\n",
        "fig.tight_layout()"
      ]
    },
    {
      "cell_type": "markdown",
      "id": "9d89d3d1-3971-4118-a874-d07fb38fe5c1",
      "metadata": {
        "id": "9d89d3d1-3971-4118-a874-d07fb38fe5c1"
      },
      "source": [
        "**OPEN QUESTION:** How can proper feature engineering improve the machine learning process and increases the predictive power of the model?\n",
        "\n",
        "**proper feature engineering allows you to effectively capture common patterns and avoid factors that do not make a significant contribution, but are noise**"
      ]
    },
    {
      "cell_type": "markdown",
      "id": "f7f26302-6cfb-449b-a958-644a3e4c3c9f",
      "metadata": {
        "id": "f7f26302-6cfb-449b-a958-644a3e4c3c9f"
      },
      "source": [
        "### Task 5. Forest Size and Tree Depth"
      ]
    },
    {
      "cell_type": "markdown",
      "id": "efd13fc7-151a-40a4-9080-3461dc9ba03c",
      "metadata": {
        "id": "efd13fc7-151a-40a4-9080-3461dc9ba03c"
      },
      "source": [
        "Compare different tree-based models and answer the open questions below [1 point]."
      ]
    },
    {
      "cell_type": "code",
      "execution_count": null,
      "id": "c1b699e7-6ba4-4848-ab8b-7f5f026eb48f",
      "metadata": {
        "id": "c1b699e7-6ba4-4848-ab8b-7f5f026eb48f",
        "outputId": "c110635b-aa27-47e2-b278-a9f55ffb061d",
        "colab": {
          "base_uri": "https://localhost:8080/"
        }
      },
      "outputs": [
        {
          "output_type": "stream",
          "name": "stdout",
          "text": [
            "CPU times: user 4 µs, sys: 0 ns, total: 4 µs\n",
            "Wall time: 8.11 µs\n",
            "1 - 0.24269\n",
            "2 - 0.20165\n",
            "3 - 0.18687\n",
            "4 - 0.17806\n",
            "5 - 0.17001\n",
            "6 - 0.16533\n",
            "7 - 0.16045\n",
            "8 - 0.15896\n",
            "9 - 0.15686\n",
            "10 - 0.15561\n",
            "11 - 0.15443\n",
            "12 - 0.15436\n",
            "13 - 0.15254\n",
            "14 - 0.15142\n",
            "15 - 0.15019\n"
          ]
        }
      ],
      "source": [
        "# n_estimators: the number of trees in the forest\n",
        "%time\n",
        "for tree_num in np.arange(1, 16):\n",
        "    random_forest = RandomForestRegressor(n_estimators=tree_num, random_state=42, n_jobs=-1,\n",
        "                                          bootstrap=True)\n",
        "    random_forest.fit(X_train, y_train)\n",
        "    print(f'{tree_num} - {mean_absolute_percentage_error(y_test, random_forest.predict(X_test)).round(5)}')"
      ]
    },
    {
      "cell_type": "markdown",
      "id": "ea141906-b0d4-449d-ae50-6d0b21ff6d7e",
      "metadata": {
        "id": "ea141906-b0d4-449d-ae50-6d0b21ff6d7e"
      },
      "source": [
        "**OPEN QUESTION:** Compare MAPE for a random forest model with 1, 10 and 15 trees in the forest. How does tree depth affect the quality of the random forest model?\n",
        "\n",
        "**MAPE for a random forest model with 1 tree is underfitted - MAPE is high, with 10 - is fitted well, however with 15 we don't see any significant changes in MAPPE, because it has probably reached a plateau**"
      ]
    },
    {
      "cell_type": "code",
      "execution_count": null,
      "id": "fecab60d-1185-493a-9285-0b23e1080ec6",
      "metadata": {
        "id": "fecab60d-1185-493a-9285-0b23e1080ec6",
        "outputId": "caf79cf3-1cd7-4feb-a591-5a9779d4cf21"
      },
      "outputs": [
        {
          "name": "stdout",
          "output_type": "stream",
          "text": [
            "CPU times: user 1e+03 ns, sys: 0 ns, total: 1e+03 ns\n",
            "Wall time: 5.25 µs\n",
            "1 - 0.2388\n",
            "2 - 0.22404\n",
            "3 - 0.21145\n",
            "4 - 0.19777\n",
            "5 - 0.18472\n",
            "6 - 0.17307\n",
            "7 - 0.16383\n",
            "8 - 0.15585\n",
            "9 - 0.15092\n",
            "10 - 0.14629\n",
            "11 - 0.1446\n",
            "12 - 0.14317\n",
            "13 - 0.14232\n",
            "14 - 0.14203\n",
            "15 - 0.14195\n"
          ]
        }
      ],
      "source": [
        "# max_depth: the maximum depth of the tree\n",
        "%time\n",
        "for tree_depth in np.arange(1, 16):\n",
        "    random_forest = RandomForestRegressor(n_estimators=50, max_depth=tree_depth, random_state=42,\n",
        "                                             n_jobs=-1, bootstrap=True)\n",
        "    random_forest.fit(X_train, y_train)\n",
        "    print(f'{tree_depth} - {mean_absolute_percentage_error(y_test, random_forest.predict(X_test)).round(5)}')"
      ]
    },
    {
      "cell_type": "markdown",
      "id": "6f7c878c-6922-4f84-a78a-f494b927ebf1",
      "metadata": {
        "id": "6f7c878c-6922-4f84-a78a-f494b927ebf1"
      },
      "source": [
        "**OPEN QUESTION:** Compare MAPE for a random forest model with 1, 10 and 15 branches for each tree. How does tree depth affect the quality of the random forest model?\n",
        "\n",
        "**the depth of the tree initially increases the quality indicator of the model, and then begins to decrease due to overfitting**"
      ]
    },
    {
      "cell_type": "markdown",
      "id": "19e20b27-9e5b-4427-965b-62ae1795c25c",
      "metadata": {
        "id": "19e20b27-9e5b-4427-965b-62ae1795c25c"
      },
      "source": [
        "### Task 6. Regression with Gradient Boosting"
      ]
    },
    {
      "cell_type": "markdown",
      "id": "6bcb9237-3e5e-43e0-a142-e0182dab0792",
      "metadata": {
        "id": "6bcb9237-3e5e-43e0-a142-e0182dab0792"
      },
      "source": [
        "Fill in the blanks to create, train and evaluate the regression model with gradient boosting algorithm [3 points]."
      ]
    },
    {
      "cell_type": "code",
      "execution_count": null,
      "id": "764089af-d45d-47a1-b436-c27e339b7856",
      "metadata": {
        "id": "764089af-d45d-47a1-b436-c27e339b7856"
      },
      "outputs": [],
      "source": [
        "from sklearn.ensemble import GradientBoostingRegressor"
      ]
    },
    {
      "cell_type": "markdown",
      "id": "5eac4406-8954-48a2-975e-30be50078f82",
      "metadata": {
        "id": "5eac4406-8954-48a2-975e-30be50078f82"
      },
      "source": [
        "***Boosting*** is a general ensemble method that creates a strong algorithm from a number of weak algorithms. This is done by building a model from the training data, then creating a second model that attempts to correct the errors from the first model. Models are added until the training set is predicted perfectly or a maximum number of models are added.\n",
        "\n",
        "***Gradient boosting*** is one of the variants of ensemble methods where you create multiple weak models and combine them to get better performance as a whole."
      ]
    },
    {
      "cell_type": "markdown",
      "id": "e1866b76-6a77-4fbb-8ffa-7dc50a14ca71",
      "metadata": {
        "id": "e1866b76-6a77-4fbb-8ffa-7dc50a14ca71"
      },
      "source": [
        "![gradient boosting.png](attachment:8249bd23-a5d4-4bc8-8d4e-ebec7a1b2153.png)"
      ]
    },
    {
      "cell_type": "code",
      "execution_count": null,
      "id": "521aafa0-60c1-41f6-a91b-05207aefd551",
      "metadata": {
        "id": "521aafa0-60c1-41f6-a91b-05207aefd551"
      },
      "outputs": [],
      "source": [
        "# generate a random regression problem with the same parameters you used in the random forest model\n",
        "X, y = make_regression(n_samples=5000, n_features=30, n_informative=25,\n",
        "                       noise=3, bias=1000, n_targets=1, random_state=42)"
      ]
    },
    {
      "cell_type": "code",
      "execution_count": null,
      "id": "5a9b97f8-af15-41aa-bb1f-8aaa076456da",
      "metadata": {
        "id": "5a9b97f8-af15-41aa-bb1f-8aaa076456da"
      },
      "outputs": [],
      "source": [
        "# split data into training and testing sets with the same parameters you used in the random forest model\n",
        "X_train, X_test, y_train, y_test = train_test_split(X, y,\n",
        "                                         train_size=0.8,\n",
        "                                         random_state=42)"
      ]
    },
    {
      "cell_type": "code",
      "execution_count": null,
      "id": "92534f37-d92d-4d42-85cd-fe5223fccc52",
      "metadata": {
        "id": "92534f37-d92d-4d42-85cd-fe5223fccc52"
      },
      "outputs": [],
      "source": [
        "# create a gradient boosting model using GradientBoostingRegressor() with 100 trees and a random_state set at 42\n",
        "gradient_boosting_reg = GradientBoostingRegressor(n_estimators=100, random_state=42)"
      ]
    },
    {
      "cell_type": "code",
      "execution_count": null,
      "id": "0e317621-3bbb-4e76-8268-67f5ce5dcde5",
      "metadata": {
        "id": "0e317621-3bbb-4e76-8268-67f5ce5dcde5",
        "colab": {
          "base_uri": "https://localhost:8080/",
          "height": 74
        },
        "outputId": "ee4575fc-fc5b-411d-b930-dad58dd5fa17"
      },
      "outputs": [
        {
          "output_type": "execute_result",
          "data": {
            "text/plain": [
              "GradientBoostingRegressor(random_state=42)"
            ],
            "text/html": [
              "<style>#sk-container-id-6 {color: black;background-color: white;}#sk-container-id-6 pre{padding: 0;}#sk-container-id-6 div.sk-toggleable {background-color: white;}#sk-container-id-6 label.sk-toggleable__label {cursor: pointer;display: block;width: 100%;margin-bottom: 0;padding: 0.3em;box-sizing: border-box;text-align: center;}#sk-container-id-6 label.sk-toggleable__label-arrow:before {content: \"▸\";float: left;margin-right: 0.25em;color: #696969;}#sk-container-id-6 label.sk-toggleable__label-arrow:hover:before {color: black;}#sk-container-id-6 div.sk-estimator:hover label.sk-toggleable__label-arrow:before {color: black;}#sk-container-id-6 div.sk-toggleable__content {max-height: 0;max-width: 0;overflow: hidden;text-align: left;background-color: #f0f8ff;}#sk-container-id-6 div.sk-toggleable__content pre {margin: 0.2em;color: black;border-radius: 0.25em;background-color: #f0f8ff;}#sk-container-id-6 input.sk-toggleable__control:checked~div.sk-toggleable__content {max-height: 200px;max-width: 100%;overflow: auto;}#sk-container-id-6 input.sk-toggleable__control:checked~label.sk-toggleable__label-arrow:before {content: \"▾\";}#sk-container-id-6 div.sk-estimator input.sk-toggleable__control:checked~label.sk-toggleable__label {background-color: #d4ebff;}#sk-container-id-6 div.sk-label input.sk-toggleable__control:checked~label.sk-toggleable__label {background-color: #d4ebff;}#sk-container-id-6 input.sk-hidden--visually {border: 0;clip: rect(1px 1px 1px 1px);clip: rect(1px, 1px, 1px, 1px);height: 1px;margin: -1px;overflow: hidden;padding: 0;position: absolute;width: 1px;}#sk-container-id-6 div.sk-estimator {font-family: monospace;background-color: #f0f8ff;border: 1px dotted black;border-radius: 0.25em;box-sizing: border-box;margin-bottom: 0.5em;}#sk-container-id-6 div.sk-estimator:hover {background-color: #d4ebff;}#sk-container-id-6 div.sk-parallel-item::after {content: \"\";width: 100%;border-bottom: 1px solid gray;flex-grow: 1;}#sk-container-id-6 div.sk-label:hover label.sk-toggleable__label {background-color: #d4ebff;}#sk-container-id-6 div.sk-serial::before {content: \"\";position: absolute;border-left: 1px solid gray;box-sizing: border-box;top: 0;bottom: 0;left: 50%;z-index: 0;}#sk-container-id-6 div.sk-serial {display: flex;flex-direction: column;align-items: center;background-color: white;padding-right: 0.2em;padding-left: 0.2em;position: relative;}#sk-container-id-6 div.sk-item {position: relative;z-index: 1;}#sk-container-id-6 div.sk-parallel {display: flex;align-items: stretch;justify-content: center;background-color: white;position: relative;}#sk-container-id-6 div.sk-item::before, #sk-container-id-6 div.sk-parallel-item::before {content: \"\";position: absolute;border-left: 1px solid gray;box-sizing: border-box;top: 0;bottom: 0;left: 50%;z-index: -1;}#sk-container-id-6 div.sk-parallel-item {display: flex;flex-direction: column;z-index: 1;position: relative;background-color: white;}#sk-container-id-6 div.sk-parallel-item:first-child::after {align-self: flex-end;width: 50%;}#sk-container-id-6 div.sk-parallel-item:last-child::after {align-self: flex-start;width: 50%;}#sk-container-id-6 div.sk-parallel-item:only-child::after {width: 0;}#sk-container-id-6 div.sk-dashed-wrapped {border: 1px dashed gray;margin: 0 0.4em 0.5em 0.4em;box-sizing: border-box;padding-bottom: 0.4em;background-color: white;}#sk-container-id-6 div.sk-label label {font-family: monospace;font-weight: bold;display: inline-block;line-height: 1.2em;}#sk-container-id-6 div.sk-label-container {text-align: center;}#sk-container-id-6 div.sk-container {/* jupyter's `normalize.less` sets `[hidden] { display: none; }` but bootstrap.min.css set `[hidden] { display: none !important; }` so we also need the `!important` here to be able to override the default hidden behavior on the sphinx rendered scikit-learn.org. See: https://github.com/scikit-learn/scikit-learn/issues/21755 */display: inline-block !important;position: relative;}#sk-container-id-6 div.sk-text-repr-fallback {display: none;}</style><div id=\"sk-container-id-6\" class=\"sk-top-container\"><div class=\"sk-text-repr-fallback\"><pre>GradientBoostingRegressor(random_state=42)</pre><b>In a Jupyter environment, please rerun this cell to show the HTML representation or trust the notebook. <br />On GitHub, the HTML representation is unable to render, please try loading this page with nbviewer.org.</b></div><div class=\"sk-container\" hidden><div class=\"sk-item\"><div class=\"sk-estimator sk-toggleable\"><input class=\"sk-toggleable__control sk-hidden--visually\" id=\"sk-estimator-id-6\" type=\"checkbox\" checked><label for=\"sk-estimator-id-6\" class=\"sk-toggleable__label sk-toggleable__label-arrow\">GradientBoostingRegressor</label><div class=\"sk-toggleable__content\"><pre>GradientBoostingRegressor(random_state=42)</pre></div></div></div></div></div>"
            ]
          },
          "metadata": {},
          "execution_count": 77
        }
      ],
      "source": [
        "# fit the model\n",
        "gradient_boosting_reg.fit(X_train, y_train)"
      ]
    },
    {
      "cell_type": "code",
      "execution_count": null,
      "id": "35acb838-da66-43d6-b58a-2be2d174a899",
      "metadata": {
        "id": "35acb838-da66-43d6-b58a-2be2d174a899",
        "colab": {
          "base_uri": "https://localhost:8080/"
        },
        "outputId": "05c6f6ff-daf7-478c-def7-992a66fa0443"
      },
      "outputs": [
        {
          "output_type": "stream",
          "name": "stdout",
          "text": [
            "MSE = 6588.555334193001\n",
            "MAE = 64.34614977704473\n",
            "MAPE = 0.07631465961149247\n"
          ]
        }
      ],
      "source": [
        "# evaluate the model quality for the training dataset\n",
        "model_quality(y_train, gradient_boosting_reg.predict(X_train))"
      ]
    },
    {
      "cell_type": "code",
      "execution_count": null,
      "id": "37dd720d-4427-4e75-acf5-11943189425c",
      "metadata": {
        "id": "37dd720d-4427-4e75-acf5-11943189425c",
        "colab": {
          "base_uri": "https://localhost:8080/"
        },
        "outputId": "ecf0896e-cd33-4976-92fb-88648b201707"
      },
      "outputs": [
        {
          "output_type": "stream",
          "name": "stdout",
          "text": [
            "MSE = 13341.983130135808\n",
            "MAE = 90.4541947234341\n",
            "MAPE = 0.10628538114235171\n"
          ]
        }
      ],
      "source": [
        "# evaluate the model quality for the testing dataset\n",
        "model_quality(y_test, gradient_boosting_reg.predict(X_test))"
      ]
    },
    {
      "cell_type": "markdown",
      "id": "b2b451de-3c08-41ee-9ca1-2504d3bb8ba7",
      "metadata": {
        "id": "b2b451de-3c08-41ee-9ca1-2504d3bb8ba7"
      },
      "source": [
        "**OPEN QUESTION:** Compare the random forest model created and trained earlier and the model with gradient boosting algorithm. Which model performs better? How has gradient boosting affected MAPE?\n",
        "\n",
        "**Gradient boosting model performs better and decreases MAPE in both test and train groups**"
      ]
    },
    {
      "cell_type": "code",
      "execution_count": null,
      "id": "f5c0a4d2-c21f-4c00-9543-059fabc78529",
      "metadata": {
        "id": "f5c0a4d2-c21f-4c00-9543-059fabc78529",
        "outputId": "c385bb7d-be01-427f-e8de-b9be50a1dcac"
      },
      "outputs": [
        {
          "name": "stdout",
          "output_type": "stream",
          "text": [
            "CPU times: user 4 µs, sys: 2 µs, total: 6 µs\n",
            "Wall time: 7.87 µs\n",
            "1 - 0.25095640563546645\n",
            "2 - 0.24571902924601494\n",
            "3 - 0.24172245297312975\n",
            "4 - 0.2372371053059328\n",
            "5 - 0.23338193299046037\n",
            "6 - 0.23028308306397696\n",
            "7 - 0.22725901478012975\n",
            "8 - 0.22370471128135216\n",
            "9 - 0.22045256246474587\n",
            "10 - 0.21763743488733986\n",
            "11 - 0.21501183089988585\n",
            "12 - 0.21189672635747686\n",
            "13 - 0.2093885271816697\n",
            "14 - 0.20755737724145182\n",
            "15 - 0.2048393488479074\n"
          ]
        }
      ],
      "source": [
        "# n_estimators - the number of trees in the forest\n",
        "%time\n",
        "for tree_num in np.arange(1, 16):\n",
        "    gradient_boosting = GradientBoostingRegressor(n_estimators=tree_num, random_state=42)\n",
        "    gradient_boosting.fit(X_train, y_train)\n",
        "    print(f'{tree_num} - {mean_absolute_percentage_error(y_test, gradient_boosting.predict(X_test))}')"
      ]
    },
    {
      "cell_type": "markdown",
      "id": "70a94f76-52b2-4fc2-bad6-4abf93802416",
      "metadata": {
        "id": "70a94f76-52b2-4fc2-bad6-4abf93802416"
      },
      "source": [
        "**OPEN QUESTION:** Compare MAPE for a gradient boosting model with 1, 10 and 15 trees in the forest. How does tree depth affect the quality of the gradient boosting model?\n",
        "\n",
        "**the same as with a random forest - at the beginning it improves MAPE, and then the indicator reaches a plateau**"
      ]
    },
    {
      "cell_type": "code",
      "execution_count": null,
      "id": "739564b5-7fca-4071-9c27-00b5aa898b3b",
      "metadata": {
        "id": "739564b5-7fca-4071-9c27-00b5aa898b3b",
        "outputId": "3ec956de-e240-4b63-c469-b584503e1bad"
      },
      "outputs": [
        {
          "name": "stdout",
          "output_type": "stream",
          "text": [
            "CPU times: user 2 µs, sys: 0 ns, total: 2 µs\n",
            "Wall time: 4.05 µs\n",
            "1 - 0.20208565520655702\n",
            "2 - 0.1705314074451442\n",
            "3 - 0.14620226337002595\n",
            "4 - 0.13000969584293132\n",
            "5 - 0.1203535714898558\n",
            "6 - 0.11365207866056161\n",
            "7 - 0.11560689906568013\n",
            "8 - 0.1196827094404441\n",
            "9 - 0.12511799584689753\n",
            "10 - 0.12982128976156354\n",
            "11 - 0.13772882022515712\n",
            "12 - 0.14412817495435284\n",
            "13 - 0.1516077177521798\n",
            "14 - 0.16372525747239672\n",
            "15 - 0.19276342261638324\n"
          ]
        }
      ],
      "source": [
        "# max_depth: the maximum depth of the tree\n",
        "%time\n",
        "for tree_depth in np.arange(1, 16):\n",
        "    gradient_boosting = GradientBoostingRegressor(n_estimators=50, max_depth=tree_depth, random_state=42)\n",
        "    gradient_boosting.fit(X_train, y_train)\n",
        "    print(f'{tree_depth} - {mean_absolute_percentage_error(y_test, gradient_boosting.predict(X_test))}')"
      ]
    },
    {
      "cell_type": "markdown",
      "id": "83db81a2-37e3-4183-9265-ea23d0578cb3",
      "metadata": {
        "id": "83db81a2-37e3-4183-9265-ea23d0578cb3"
      },
      "source": [
        "**OPEN QUESTION:** Compare MAPE for a gradient boosting model with 1, 10 and 15 branches for each tree. How does tree depth affect the quality of the gradient boosting model?\n",
        "\n",
        "**just like with a random forest, it improves performance at the beginning and then begins to deteriorate due to overfitting**"
      ]
    },
    {
      "cell_type": "markdown",
      "id": "462f3ded-8106-48da-a654-2b713640fefe",
      "metadata": {
        "id": "462f3ded-8106-48da-a654-2b713640fefe"
      },
      "source": [
        "## **Part 3. Classification — Logistic Regression Model**"
      ]
    },
    {
      "cell_type": "code",
      "execution_count": null,
      "id": "186ec874-59e4-4186-ac34-6b5af9588cbe",
      "metadata": {
        "id": "186ec874-59e4-4186-ac34-6b5af9588cbe"
      },
      "outputs": [],
      "source": [
        "# import packages\n",
        "from sklearn.linear_model import LogisticRegression\n",
        "from sklearn.linear_model import RidgeClassifier\n",
        "from sklearn.datasets import make_classification\n",
        "from sklearn.metrics import accuracy_score, precision_score, recall_score, f1_score\n",
        "from sklearn.metrics import classification_report"
      ]
    },
    {
      "cell_type": "markdown",
      "id": "4eb2eb76-1c8a-4882-b222-345c9af6ec2b",
      "metadata": {
        "id": "4eb2eb76-1c8a-4882-b222-345c9af6ec2b"
      },
      "source": [
        "### Task 1. Training, testing and evaluating logistic regression model with balanced classes"
      ]
    },
    {
      "cell_type": "markdown",
      "id": "c69855b8-33bc-4f96-a836-d2c4b9c27a51",
      "metadata": {
        "id": "c69855b8-33bc-4f96-a836-d2c4b9c27a51"
      },
      "source": [
        "Fill in the blanks to create, train and test the logistic regression model [2 points]."
      ]
    },
    {
      "cell_type": "code",
      "execution_count": null,
      "id": "d53d1c86-d62a-40ec-8d61-eeb5665abda2",
      "metadata": {
        "id": "d53d1c86-d62a-40ec-8d61-eeb5665abda2"
      },
      "outputs": [],
      "source": [
        "# generate a random classification problem with balanced classes (i.e. weights set at None)\n",
        "X, y = make_classification(n_samples=5000, n_features=30, n_informative=25, n_classes=2, weights=None, random_state=42)"
      ]
    },
    {
      "cell_type": "code",
      "execution_count": null,
      "id": "b0773a98-ac1a-4137-8981-3e7dd39bf0cf",
      "metadata": {
        "id": "b0773a98-ac1a-4137-8981-3e7dd39bf0cf"
      },
      "outputs": [],
      "source": [
        "# split data into training and testing sets using 80/20 ratio and random_state set at 42\n",
        "X_train, X_test, y_train, y_test = train_test_split(X, y, train_size=0.8,\n",
        "                            stratify=y,\n",
        "                            random_state=42)"
      ]
    },
    {
      "cell_type": "code",
      "execution_count": null,
      "id": "150fe2b9-4098-47b7-a49d-f439350df857",
      "metadata": {
        "id": "150fe2b9-4098-47b7-a49d-f439350df857"
      },
      "outputs": [],
      "source": [
        "# create a logistic regression model\n",
        "log_reg_model = LogisticRegression()"
      ]
    },
    {
      "cell_type": "code",
      "execution_count": null,
      "id": "17897aa2-f5f6-4c90-875b-d9367d943f6f",
      "metadata": {
        "id": "17897aa2-f5f6-4c90-875b-d9367d943f6f",
        "colab": {
          "base_uri": "https://localhost:8080/",
          "height": 74
        },
        "outputId": "13d1beac-4372-488d-8c40-8009269197d2"
      },
      "outputs": [
        {
          "output_type": "execute_result",
          "data": {
            "text/plain": [
              "LogisticRegression()"
            ],
            "text/html": [
              "<style>#sk-container-id-1 {color: black;background-color: white;}#sk-container-id-1 pre{padding: 0;}#sk-container-id-1 div.sk-toggleable {background-color: white;}#sk-container-id-1 label.sk-toggleable__label {cursor: pointer;display: block;width: 100%;margin-bottom: 0;padding: 0.3em;box-sizing: border-box;text-align: center;}#sk-container-id-1 label.sk-toggleable__label-arrow:before {content: \"▸\";float: left;margin-right: 0.25em;color: #696969;}#sk-container-id-1 label.sk-toggleable__label-arrow:hover:before {color: black;}#sk-container-id-1 div.sk-estimator:hover label.sk-toggleable__label-arrow:before {color: black;}#sk-container-id-1 div.sk-toggleable__content {max-height: 0;max-width: 0;overflow: hidden;text-align: left;background-color: #f0f8ff;}#sk-container-id-1 div.sk-toggleable__content pre {margin: 0.2em;color: black;border-radius: 0.25em;background-color: #f0f8ff;}#sk-container-id-1 input.sk-toggleable__control:checked~div.sk-toggleable__content {max-height: 200px;max-width: 100%;overflow: auto;}#sk-container-id-1 input.sk-toggleable__control:checked~label.sk-toggleable__label-arrow:before {content: \"▾\";}#sk-container-id-1 div.sk-estimator input.sk-toggleable__control:checked~label.sk-toggleable__label {background-color: #d4ebff;}#sk-container-id-1 div.sk-label input.sk-toggleable__control:checked~label.sk-toggleable__label {background-color: #d4ebff;}#sk-container-id-1 input.sk-hidden--visually {border: 0;clip: rect(1px 1px 1px 1px);clip: rect(1px, 1px, 1px, 1px);height: 1px;margin: -1px;overflow: hidden;padding: 0;position: absolute;width: 1px;}#sk-container-id-1 div.sk-estimator {font-family: monospace;background-color: #f0f8ff;border: 1px dotted black;border-radius: 0.25em;box-sizing: border-box;margin-bottom: 0.5em;}#sk-container-id-1 div.sk-estimator:hover {background-color: #d4ebff;}#sk-container-id-1 div.sk-parallel-item::after {content: \"\";width: 100%;border-bottom: 1px solid gray;flex-grow: 1;}#sk-container-id-1 div.sk-label:hover label.sk-toggleable__label {background-color: #d4ebff;}#sk-container-id-1 div.sk-serial::before {content: \"\";position: absolute;border-left: 1px solid gray;box-sizing: border-box;top: 0;bottom: 0;left: 50%;z-index: 0;}#sk-container-id-1 div.sk-serial {display: flex;flex-direction: column;align-items: center;background-color: white;padding-right: 0.2em;padding-left: 0.2em;position: relative;}#sk-container-id-1 div.sk-item {position: relative;z-index: 1;}#sk-container-id-1 div.sk-parallel {display: flex;align-items: stretch;justify-content: center;background-color: white;position: relative;}#sk-container-id-1 div.sk-item::before, #sk-container-id-1 div.sk-parallel-item::before {content: \"\";position: absolute;border-left: 1px solid gray;box-sizing: border-box;top: 0;bottom: 0;left: 50%;z-index: -1;}#sk-container-id-1 div.sk-parallel-item {display: flex;flex-direction: column;z-index: 1;position: relative;background-color: white;}#sk-container-id-1 div.sk-parallel-item:first-child::after {align-self: flex-end;width: 50%;}#sk-container-id-1 div.sk-parallel-item:last-child::after {align-self: flex-start;width: 50%;}#sk-container-id-1 div.sk-parallel-item:only-child::after {width: 0;}#sk-container-id-1 div.sk-dashed-wrapped {border: 1px dashed gray;margin: 0 0.4em 0.5em 0.4em;box-sizing: border-box;padding-bottom: 0.4em;background-color: white;}#sk-container-id-1 div.sk-label label {font-family: monospace;font-weight: bold;display: inline-block;line-height: 1.2em;}#sk-container-id-1 div.sk-label-container {text-align: center;}#sk-container-id-1 div.sk-container {/* jupyter's `normalize.less` sets `[hidden] { display: none; }` but bootstrap.min.css set `[hidden] { display: none !important; }` so we also need the `!important` here to be able to override the default hidden behavior on the sphinx rendered scikit-learn.org. See: https://github.com/scikit-learn/scikit-learn/issues/21755 */display: inline-block !important;position: relative;}#sk-container-id-1 div.sk-text-repr-fallback {display: none;}</style><div id=\"sk-container-id-1\" class=\"sk-top-container\"><div class=\"sk-text-repr-fallback\"><pre>LogisticRegression()</pre><b>In a Jupyter environment, please rerun this cell to show the HTML representation or trust the notebook. <br />On GitHub, the HTML representation is unable to render, please try loading this page with nbviewer.org.</b></div><div class=\"sk-container\" hidden><div class=\"sk-item\"><div class=\"sk-estimator sk-toggleable\"><input class=\"sk-toggleable__control sk-hidden--visually\" id=\"sk-estimator-id-1\" type=\"checkbox\" checked><label for=\"sk-estimator-id-1\" class=\"sk-toggleable__label sk-toggleable__label-arrow\">LogisticRegression</label><div class=\"sk-toggleable__content\"><pre>LogisticRegression()</pre></div></div></div></div></div>"
            ]
          },
          "metadata": {},
          "execution_count": 7
        }
      ],
      "source": [
        "# fit the model on the training dataset\n",
        "log_reg_model.fit(X_train, y_train)"
      ]
    },
    {
      "cell_type": "code",
      "execution_count": null,
      "id": "38689db4-0e96-4420-a134-bf060467daae",
      "metadata": {
        "id": "38689db4-0e96-4420-a134-bf060467daae"
      },
      "outputs": [],
      "source": [
        "# make predictions on the testing dataset\n",
        "y_pred_lg = log_reg_model.predict(X_test)"
      ]
    },
    {
      "cell_type": "markdown",
      "id": "33516722-febe-4ddb-841b-dc6a9387a4e6",
      "metadata": {
        "id": "33516722-febe-4ddb-841b-dc6a9387a4e6"
      },
      "source": [
        "### Task 2. Evaluating the model"
      ]
    },
    {
      "cell_type": "markdown",
      "id": "bd16d31a-4d95-4e32-aa19-ad1bd6485e0a",
      "metadata": {
        "id": "bd16d31a-4d95-4e32-aa19-ad1bd6485e0a"
      },
      "source": [
        "Fill in the blanks to calculate and interpret the model quality metrics for classification [3 points]."
      ]
    },
    {
      "cell_type": "markdown",
      "id": "8e712cde-b638-474c-bf3b-ce0b46fa7464",
      "metadata": {
        "id": "8e712cde-b638-474c-bf3b-ce0b46fa7464"
      },
      "source": [
        "#### Binary Classification"
      ]
    },
    {
      "cell_type": "markdown",
      "id": "cee908a5-3772-40c2-8889-c6020706b7dd",
      "metadata": {
        "id": "cee908a5-3772-40c2-8889-c6020706b7dd"
      },
      "source": [
        "A binary classifier can be viewed as classifying instances as positive or negative:\n",
        "- **Positive:** The instance is classified as a member of the class the classifier is trying to identify. For example, a classifier looking for cat photos would classify photos with cats as positive (when correct).\n",
        "- **Negative:** The instance is classified as not being a member of the class we are trying to identify."
      ]
    },
    {
      "cell_type": "markdown",
      "id": "5298529b-de84-4b42-b733-87a248f09ba2",
      "metadata": {
        "id": "5298529b-de84-4b42-b733-87a248f09ba2"
      },
      "source": [
        "#### Confusion Matrix"
      ]
    },
    {
      "cell_type": "markdown",
      "id": "3ec6e63e-d403-4092-bf3c-00b075efcbb0",
      "metadata": {
        "id": "3ec6e63e-d403-4092-bf3c-00b075efcbb0"
      },
      "source": [
        "A confusion matrix is a matrix that summarizes the performance of a machine learning model on a set of test data. It is a means of displaying the number of accurate and inaccurate instances based on the model’s predictions. It is often used to measure the performance of classification models, which aim to predict a categorical label for each input instance.\n",
        "\n",
        "The matrix displays the number of instances produced by the model on the test data.\n",
        "- **True positives (TP):** occur when the model accurately predicts a positive data point.\n",
        "- **True negatives (TN):** occur when the model accurately predicts a negative data point.\n",
        "- **True positives (FP):** occur when the model predicts a positive data point incorrectly.\n",
        "- **False negatives (FN):** occur when the model mispredicts a negative data point."
      ]
    },
    {
      "cell_type": "markdown",
      "id": "129e2c8f-70ed-452e-909c-a8c08ccb9f9c",
      "metadata": {
        "id": "129e2c8f-70ed-452e-909c-a8c08ccb9f9c"
      },
      "source": [
        "![confusion_matrix.png](attachment:23c649d2-db07-44c8-b0a1-5cccf2557881.png)"
      ]
    },
    {
      "cell_type": "markdown",
      "id": "0344a307-06c3-4402-9406-4bca605996be",
      "metadata": {
        "id": "0344a307-06c3-4402-9406-4bca605996be"
      },
      "source": [
        "#### Quality Metrics for a  Classification Model"
      ]
    },
    {
      "cell_type": "markdown",
      "id": "39f6962c-3064-4fda-bbe0-6ed8dd71061d",
      "metadata": {
        "id": "39f6962c-3064-4fda-bbe0-6ed8dd71061d"
      },
      "source": [
        "#### **Accuracy**"
      ]
    },
    {
      "cell_type": "markdown",
      "id": "3fc5f638-b5af-4843-959d-c6cf8f800f93",
      "metadata": {
        "id": "3fc5f638-b5af-4843-959d-c6cf8f800f93"
      },
      "source": [
        "Accuracy describes the number of correct predictions (true positives and true negatives) over all predictions."
      ]
    },
    {
      "cell_type": "code",
      "execution_count": null,
      "id": "2534cf30-0717-4eb8-811d-b75e25281ae0",
      "metadata": {
        "id": "2534cf30-0717-4eb8-811d-b75e25281ae0",
        "colab": {
          "base_uri": "https://localhost:8080/"
        },
        "outputId": "c83cbfa8-0ba9-4f71-a70f-14f0ba646710"
      },
      "outputs": [
        {
          "output_type": "execute_result",
          "data": {
            "text/plain": [
              "0.774"
            ]
          },
          "metadata": {},
          "execution_count": 9
        }
      ],
      "source": [
        "# calculate and interpret accuracy score\n",
        "accuracy_score(y_test, y_pred_lg)"
      ]
    },
    {
      "cell_type": "markdown",
      "id": "2b732088-c69f-47c3-a088-6db397c1464e",
      "metadata": {
        "id": "2b732088-c69f-47c3-a088-6db397c1464e"
      },
      "source": [
        "![accuracy.png](attachment:cf108234-756e-4cb3-88b8-12daedb378db.png)"
      ]
    },
    {
      "cell_type": "markdown",
      "id": "8187b074-ab21-40a4-87b5-0ead7a2cf914",
      "metadata": {
        "id": "8187b074-ab21-40a4-87b5-0ead7a2cf914"
      },
      "source": [
        "#### **Precision**"
      ]
    },
    {
      "cell_type": "markdown",
      "id": "f08b944e-6fd2-49c7-8153-4f6d727d24a1",
      "metadata": {
        "id": "f08b944e-6fd2-49c7-8153-4f6d727d24a1"
      },
      "source": [
        "Precision is a measure of how many of the positive predictions made are correct (true positives)."
      ]
    },
    {
      "cell_type": "code",
      "execution_count": null,
      "id": "92ca0ee2-8ae1-4e68-85b7-944d491e42d5",
      "metadata": {
        "id": "92ca0ee2-8ae1-4e68-85b7-944d491e42d5",
        "colab": {
          "base_uri": "https://localhost:8080/"
        },
        "outputId": "6b3e2405-a1d0-4c53-9ad8-954adee26512"
      },
      "outputs": [
        {
          "output_type": "execute_result",
          "data": {
            "text/plain": [
              "0.7837837837837838"
            ]
          },
          "metadata": {},
          "execution_count": 10
        }
      ],
      "source": [
        "# calculate and interpret precision score\n",
        "precision_score(y_test, y_pred_lg)"
      ]
    },
    {
      "cell_type": "markdown",
      "id": "8cc5eace-5b78-4d1e-9870-278e4bf8ef47",
      "metadata": {
        "id": "8cc5eace-5b78-4d1e-9870-278e4bf8ef47"
      },
      "source": [
        "![precision.png](attachment:b1577d71-819d-487f-97bd-53d60c6c2bfc.png)"
      ]
    },
    {
      "cell_type": "markdown",
      "id": "a3a6e5a2-5fa0-47b5-beba-94214e2cd82b",
      "metadata": {
        "id": "a3a6e5a2-5fa0-47b5-beba-94214e2cd82b"
      },
      "source": [
        "#### Recall"
      ]
    },
    {
      "cell_type": "markdown",
      "id": "e72556f0-e1de-40d0-9aba-8a8e5dc07e63",
      "metadata": {
        "id": "e72556f0-e1de-40d0-9aba-8a8e5dc07e63"
      },
      "source": [
        "Recall is a measure of how many of the positive cases (true positives) the classifier correctly predicted over all the positive cases (true positives and true negatives) in the data."
      ]
    },
    {
      "cell_type": "code",
      "execution_count": null,
      "id": "155e7646-2bec-444c-9055-c429929f9826",
      "metadata": {
        "id": "155e7646-2bec-444c-9055-c429929f9826",
        "outputId": "4ad53855-f14d-4c02-d920-645338cc9c07",
        "colab": {
          "base_uri": "https://localhost:8080/"
        }
      },
      "outputs": [
        {
          "output_type": "execute_result",
          "data": {
            "text/plain": [
              "0.7555110220440882"
            ]
          },
          "metadata": {},
          "execution_count": 11
        }
      ],
      "source": [
        "# calculate and interpret recall score\n",
        "recall_score(y_test, y_pred_lg)"
      ]
    },
    {
      "cell_type": "markdown",
      "id": "326951a8-deb7-420d-9d70-aae8bbb7ba45",
      "metadata": {
        "id": "326951a8-deb7-420d-9d70-aae8bbb7ba45"
      },
      "source": [
        "![recall.png](attachment:aad33061-ba42-4e9b-b110-cd75c861a986.png)"
      ]
    },
    {
      "cell_type": "markdown",
      "id": "4d9589b9-ad57-493f-8d20-10d874a913e0",
      "metadata": {
        "id": "4d9589b9-ad57-493f-8d20-10d874a913e0"
      },
      "source": [
        "#### F1-score"
      ]
    },
    {
      "cell_type": "markdown",
      "id": "9d266a27-ed94-49c7-8244-418a50605018",
      "metadata": {
        "id": "9d266a27-ed94-49c7-8244-418a50605018"
      },
      "source": [
        "F1-Score is a measure combining both precision and recall. It is generally described as the harmonic mean of the two. The idea is to provide a single metric that weights the two ratios (precision and recall) in a balanced way, requiring both to have a higher value for the F1-score value to rise.\n",
        "\n",
        "A high F1 score indicates the strong overall performance of a binary classification model. It signifies that the model can effectively identify positive cases while minimizing false positives and false negatives."
      ]
    },
    {
      "cell_type": "code",
      "execution_count": null,
      "id": "b497ba5a-7f4c-4ac3-8295-01ac898f76a1",
      "metadata": {
        "id": "b497ba5a-7f4c-4ac3-8295-01ac898f76a1",
        "colab": {
          "base_uri": "https://localhost:8080/"
        },
        "outputId": "50c6e3c5-ec42-4951-b518-e3dac441f3f7"
      },
      "outputs": [
        {
          "output_type": "execute_result",
          "data": {
            "text/plain": [
              "0.7693877551020408"
            ]
          },
          "metadata": {},
          "execution_count": 12
        }
      ],
      "source": [
        "# calculate and interpret f1 score\n",
        "f1_score(y_test, y_pred_lg)"
      ]
    },
    {
      "cell_type": "markdown",
      "id": "cb70137d-a7cc-4763-a958-fd89f047c09c",
      "metadata": {
        "id": "cb70137d-a7cc-4763-a958-fd89f047c09c"
      },
      "source": [
        "![f-score (1).png](attachment:a5730b5c-9110-469e-9372-15127bcd3afe.png)"
      ]
    },
    {
      "cell_type": "markdown",
      "id": "60251094-0a53-4f5f-8ba8-c6dfdad965d9",
      "metadata": {
        "id": "60251094-0a53-4f5f-8ba8-c6dfdad965d9"
      },
      "source": [
        "![f-score (2).png](attachment:47af4a2b-f7b8-4c09-a97f-2fd966415742.png)"
      ]
    },
    {
      "cell_type": "markdown",
      "id": "7a988e5a-427b-4409-9efa-e106c657b9e0",
      "metadata": {
        "id": "7a988e5a-427b-4409-9efa-e106c657b9e0"
      },
      "source": [
        "![precisionrecall.svg.png](attachment:a17a323d-9484-4179-9a10-210dba64922d.png)"
      ]
    },
    {
      "cell_type": "code",
      "execution_count": null,
      "id": "647746cd-8a11-4de1-8973-421e011ee067",
      "metadata": {
        "id": "647746cd-8a11-4de1-8973-421e011ee067"
      },
      "outputs": [],
      "source": [
        "# run a function that displays quality metrics for a classification model\n",
        "def model_quality_class(y_true, y_pred, average='binary'):\n",
        "    print('Accuracy =', accuracy_score(y_true, y_pred))\n",
        "    print('Precision =', precision_score(y_true, y_pred, zero_division=0, average=average))\n",
        "    print('Recall =', recall_score(y_true, y_pred, average=average))\n",
        "    print('F1 =', f1_score(y_true, y_pred, average=average))"
      ]
    },
    {
      "cell_type": "code",
      "execution_count": null,
      "id": "8ff41e9b-ca73-469e-b3d1-9cc782fffdbd",
      "metadata": {
        "id": "8ff41e9b-ca73-469e-b3d1-9cc782fffdbd",
        "colab": {
          "base_uri": "https://localhost:8080/"
        },
        "outputId": "2ee14be1-4141-4cab-fa86-e1ec462e460e"
      },
      "outputs": [
        {
          "output_type": "stream",
          "name": "stdout",
          "text": [
            "Accuracy = 0.774\n",
            "Precision = 0.7837837837837838\n",
            "Recall = 0.7555110220440882\n",
            "F1 = 0.7693877551020408\n"
          ]
        }
      ],
      "source": [
        "# display and interpet all model quality metrics\n",
        "model_quality_class(y_test, y_pred_lg)"
      ]
    },
    {
      "cell_type": "markdown",
      "id": "09fef098-142c-4391-ad01-64491e64dc07",
      "metadata": {
        "id": "09fef098-142c-4391-ad01-64491e64dc07"
      },
      "source": [
        "**OPEN QUESTION:** Based on the calculated model quality metrics, does the logistic regression model has good performance?\n",
        "\n",
        "**the model demonstrates good ballance between all metrics**"
      ]
    },
    {
      "cell_type": "markdown",
      "id": "fd7235a7-0661-4e12-b5b8-794810032040",
      "metadata": {
        "id": "fd7235a7-0661-4e12-b5b8-794810032040"
      },
      "source": [
        "### Task 3. Testing and Evaluating Logistic Regression Model with Imbalanced Classes"
      ]
    },
    {
      "cell_type": "markdown",
      "id": "a7ab6f6d-8082-43cd-95a3-c58b52b91931",
      "metadata": {
        "id": "a7ab6f6d-8082-43cd-95a3-c58b52b91931"
      },
      "source": [
        "When the majority of data items in your dataset represents items belonging to one class, we say the dataset is skewed or imbalanced. In Scikit-learn's datasets package, make_classification function has weights parameter, i.e. proportions of samples assigned to each class. If 'None', then classes are balanced."
      ]
    },
    {
      "cell_type": "markdown",
      "id": "6091ea70-590a-498f-834b-c7d3c9c15379",
      "metadata": {
        "id": "6091ea70-590a-498f-834b-c7d3c9c15379"
      },
      "source": [
        "Create a logistic regression model with imbalanced classes and evaluate its performance [3 points].\n",
        "\n",
        "**Note:** Accuracy metric fails on classification problems with a skewed class distribution because most of the standard metrics that are widely used assume a balanced class distribution."
      ]
    },
    {
      "cell_type": "code",
      "execution_count": null,
      "id": "b62ada6d-8599-41c7-ac70-ed496bc20865",
      "metadata": {
        "id": "b62ada6d-8599-41c7-ac70-ed496bc20865"
      },
      "outputs": [],
      "source": [
        "# generate a random classification problem with imbalanced classes and the same parameters as earlier\n",
        "X, y = make_classification(n_samples=5000, n_features=30, n_informative=25, n_classes=2, weights=[0.99, 0.01], random_state=42)"
      ]
    },
    {
      "cell_type": "code",
      "execution_count": null,
      "id": "5bc34d40-7d2c-4ec2-8c3e-0d73ce11f650",
      "metadata": {
        "id": "5bc34d40-7d2c-4ec2-8c3e-0d73ce11f650"
      },
      "outputs": [],
      "source": [
        "# split data into training and testing sets using 80/20 ratio and random_state set at 42\n",
        "X_train_imb, X_test_imb, y_train_imb, y_test_imb = train_test_split(X, y, train_size=0.8, random_state=42)"
      ]
    },
    {
      "cell_type": "code",
      "execution_count": null,
      "id": "892003ca-b1b5-4623-b2d8-0429f3ce4fc0",
      "metadata": {
        "id": "892003ca-b1b5-4623-b2d8-0429f3ce4fc0"
      },
      "outputs": [],
      "source": [
        "# create and fit a logistic regression model\n",
        "log_reg_model = LogisticRegression().fit(X_train_imb, y_train_imb)"
      ]
    },
    {
      "cell_type": "code",
      "execution_count": null,
      "id": "357a3f8e-5508-46e8-bbf2-eb2da7ce726d",
      "metadata": {
        "id": "357a3f8e-5508-46e8-bbf2-eb2da7ce726d"
      },
      "outputs": [],
      "source": [
        "# make predictions on the testing data\n",
        "y_pred_imb = log_reg_model.predict(X_test_imb)"
      ]
    },
    {
      "cell_type": "code",
      "execution_count": null,
      "id": "aacd633c-968a-4775-8469-aaaffc131e76",
      "metadata": {
        "id": "aacd633c-968a-4775-8469-aaaffc131e76",
        "colab": {
          "base_uri": "https://localhost:8080/"
        },
        "outputId": "1f38a0f9-7ca8-49d0-d5cf-f6ad45b5727f"
      },
      "outputs": [
        {
          "output_type": "stream",
          "name": "stdout",
          "text": [
            "Accuracy = 0.986\n",
            "Precision = 0.0\n",
            "Recall = 0.0\n",
            "F1 = 0.0\n"
          ]
        }
      ],
      "source": [
        "# display and interpet all model quality metrics\n",
        "model_quality_class(y_test_imb, y_pred_imb)"
      ]
    },
    {
      "cell_type": "markdown",
      "id": "2ce93110-c439-4db8-b905-86f77fd33614",
      "metadata": {
        "id": "2ce93110-c439-4db8-b905-86f77fd33614"
      },
      "source": [
        "**OPEN QUESTION:** How does accuracy metric value compare to other metrics? Is this a good or bad model?\n",
        "\n",
        "**the accuracy is very high, that TP results is equal to 0 and almost all results are TN => the model has identified them in one group**"
      ]
    },
    {
      "cell_type": "markdown",
      "id": "8694eeec-1e05-44a7-83fb-1876e9b8c5e1",
      "metadata": {
        "id": "8694eeec-1e05-44a7-83fb-1876e9b8c5e1"
      },
      "source": [
        "### Task 4. Testing and Evaluating Logistic Regression Model with Balanced Classes"
      ]
    },
    {
      "cell_type": "markdown",
      "id": "ed3ed583-536e-4bb8-94d2-1a9575c83e5c",
      "metadata": {
        "id": "ed3ed583-536e-4bb8-94d2-1a9575c83e5c"
      },
      "source": [
        "Create a logistic regression model with balanced classes and evaluate its performance [2 points]."
      ]
    },
    {
      "cell_type": "code",
      "execution_count": null,
      "id": "39c7a2ac-d232-401c-a767-56d34081e0e5",
      "metadata": {
        "id": "39c7a2ac-d232-401c-a767-56d34081e0e5"
      },
      "outputs": [],
      "source": [
        "# create and fit a logistic regression model with class_weight parameter set at 'balanced'\n",
        "log_reg_model = LogisticRegression(class_weight='balanced').fit(X_train_imb, y_train_imb)"
      ]
    },
    {
      "cell_type": "code",
      "execution_count": null,
      "id": "c74c0fc0-36e1-4df6-a672-351b83cb4d91",
      "metadata": {
        "id": "c74c0fc0-36e1-4df6-a672-351b83cb4d91"
      },
      "outputs": [],
      "source": [
        "# make predictions on the testing data\n",
        "y_pred_bal = log_reg_model.predict(X_test_imb)"
      ]
    },
    {
      "cell_type": "code",
      "execution_count": null,
      "id": "559df7f5-a1e7-4bfc-a2e8-466774254d59",
      "metadata": {
        "id": "559df7f5-a1e7-4bfc-a2e8-466774254d59",
        "colab": {
          "base_uri": "https://localhost:8080/"
        },
        "outputId": "d040302c-2630-46f1-8dd3-571472c67381"
      },
      "outputs": [
        {
          "output_type": "stream",
          "name": "stdout",
          "text": [
            "Accuracy = 0.685\n",
            "Precision = 0.019169329073482427\n",
            "Recall = 0.42857142857142855\n",
            "F1 = 0.03669724770642201\n"
          ]
        }
      ],
      "source": [
        "# display and interpet all model quality metrics\n",
        "model_quality_class(y_test_imb, y_pred_bal)"
      ]
    },
    {
      "cell_type": "markdown",
      "id": "2249e65b-4d9a-42c9-bcee-7a049bb99c65",
      "metadata": {
        "id": "2249e65b-4d9a-42c9-bcee-7a049bb99c65"
      },
      "source": [
        "**OPEN QUESTION:** Compare the performance of the logistic regression model with balanced and imbalanced classes.\n",
        "1. How has the accuracy score changed after balancing the classes?\n",
        "2. Which model is better based on the model quality metrics?\n",
        "\n",
        "**1. accuracy decreased**"
      ]
    },
    {
      "cell_type": "markdown",
      "id": "14e43558-023c-4d81-bb01-60c7f3325dd8",
      "metadata": {
        "id": "14e43558-023c-4d81-bb01-60c7f3325dd8"
      },
      "source": [
        "### Task 5. Classification with Gradient Boosting"
      ]
    },
    {
      "cell_type": "markdown",
      "id": "eec0e688-5fe3-460c-996c-6eef39519996",
      "metadata": {
        "id": "eec0e688-5fe3-460c-996c-6eef39519996"
      },
      "source": [
        "Fill in the blanks to compare the logistic regression model and the classification model with gradient boosting algorithm [4 points]."
      ]
    },
    {
      "cell_type": "code",
      "execution_count": null,
      "id": "f56532f8-caa8-4a88-95eb-f965ad2c5e88",
      "metadata": {
        "id": "f56532f8-caa8-4a88-95eb-f965ad2c5e88"
      },
      "outputs": [],
      "source": [
        "from sklearn.ensemble import RandomForestClassifier\n",
        "from sklearn.ensemble import GradientBoostingClassifier"
      ]
    },
    {
      "cell_type": "code",
      "execution_count": null,
      "id": "74c5f115-53a2-40f6-9f98-6ae48b3f2cc9",
      "metadata": {
        "id": "74c5f115-53a2-40f6-9f98-6ae48b3f2cc9"
      },
      "outputs": [],
      "source": [
        "# generate a random classification problem with balanced classes and the same parameters as earlier\n",
        "X, y = make_classification(n_samples=5000, n_features=30, n_informative=25, n_classes=2, weights=None, random_state=42)"
      ]
    },
    {
      "cell_type": "code",
      "execution_count": null,
      "id": "cda18c41-cfaa-4095-84c8-e720c787a58a",
      "metadata": {
        "id": "cda18c41-cfaa-4095-84c8-e720c787a58a"
      },
      "outputs": [],
      "source": [
        "# #split data into training and testing sets using 80/20 ratio, stratification by y and random_state set at 42\n",
        "X_train, X_test, y_train, y_test = train_test_split(X, y, train_size=0.8,\n",
        "                            stratify=y,\n",
        "                            random_state=42)"
      ]
    },
    {
      "cell_type": "code",
      "execution_count": null,
      "id": "36482777-907c-4e7d-8f91-619176632c64",
      "metadata": {
        "id": "36482777-907c-4e7d-8f91-619176632c64"
      },
      "outputs": [],
      "source": [
        "# create, train and test a logistic regression model\n",
        "log_reg_model = LogisticRegression().fit(X_train, y_train)\n",
        "y_pred_lg = log_reg_model.predict(X_test)"
      ]
    },
    {
      "cell_type": "code",
      "execution_count": null,
      "id": "7ed26b6d-c916-47ab-8b90-44da43e3825d",
      "metadata": {
        "id": "7ed26b6d-c916-47ab-8b90-44da43e3825d",
        "colab": {
          "base_uri": "https://localhost:8080/"
        },
        "outputId": "d1db0690-707d-4e13-d845-6dd54671ab36"
      },
      "outputs": [
        {
          "output_type": "stream",
          "name": "stdout",
          "text": [
            "Accuracy = 0.774\n",
            "Precision = 0.7837837837837838\n",
            "Recall = 0.7555110220440882\n",
            "F1 = 0.7693877551020408\n"
          ]
        }
      ],
      "source": [
        "# display and interpet all model quality metrics\n",
        "model_quality_class(y_test, y_pred_lg)"
      ]
    },
    {
      "cell_type": "code",
      "execution_count": null,
      "id": "395256d9-6378-4d87-b045-53a6c63f45b3",
      "metadata": {
        "id": "395256d9-6378-4d87-b045-53a6c63f45b3"
      },
      "outputs": [],
      "source": [
        "# create and fit a gradient boosting model for classification with 100 trees and a random_state set at 42\n",
        "gradient_boosting_class = GradientBoostingClassifier().fit(X_train, y_train)"
      ]
    },
    {
      "cell_type": "code",
      "execution_count": null,
      "id": "481d6a2f-740c-4d9b-943c-f7321d4983a3",
      "metadata": {
        "id": "481d6a2f-740c-4d9b-943c-f7321d4983a3"
      },
      "outputs": [],
      "source": [
        "# make predictions on the testing data\n",
        "y_pred_gb = gradient_boosting_class.predict(X_test)"
      ]
    },
    {
      "cell_type": "code",
      "execution_count": null,
      "id": "d58ac5b5-a9e3-4479-a2f9-ed9572b1a443",
      "metadata": {
        "id": "d58ac5b5-a9e3-4479-a2f9-ed9572b1a443",
        "colab": {
          "base_uri": "https://localhost:8080/"
        },
        "outputId": "59f406d7-827a-4661-ff28-6fd9a304ce4b"
      },
      "outputs": [
        {
          "output_type": "stream",
          "name": "stdout",
          "text": [
            "Accuracy = 0.876\n",
            "Precision = 0.8698224852071006\n",
            "Recall = 0.8837675350701403\n",
            "F1 = 0.8767395626242545\n"
          ]
        }
      ],
      "source": [
        "# display and interpet all model quality metrics\n",
        "model_quality_class(y_test, y_pred_gb)"
      ]
    },
    {
      "cell_type": "markdown",
      "id": "98078e2e-1130-47a1-9931-213259a1b2c4",
      "metadata": {
        "id": "98078e2e-1130-47a1-9931-213259a1b2c4"
      },
      "source": [
        "**OPEN QUESTION:** Compare the performance of the logistic regression model and gradient boosting model. Which model has higher F1-score?\n",
        "\n",
        "**f-1 score of gradient boosting model is higher**"
      ]
    }
  ],
  "metadata": {
    "kernelspec": {
      "display_name": "Python 3 (ipykernel)",
      "language": "python",
      "name": "python3"
    },
    "language_info": {
      "codemirror_mode": {
        "name": "ipython",
        "version": 3
      },
      "file_extension": ".py",
      "mimetype": "text/x-python",
      "name": "python",
      "nbconvert_exporter": "python",
      "pygments_lexer": "ipython3",
      "version": "3.9.12"
    },
    "colab": {
      "provenance": []
    }
  },
  "nbformat": 4,
  "nbformat_minor": 5
}